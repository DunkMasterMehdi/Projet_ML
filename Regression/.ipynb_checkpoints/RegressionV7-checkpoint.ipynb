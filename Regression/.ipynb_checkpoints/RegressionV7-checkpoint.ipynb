{
 "cells": [
  {
   "cell_type": "markdown",
   "metadata": {},
   "source": [
    "# ML Project  isii 21/22\n",
    "Team N°10:\n",
    "Taleb Mehdi,\n",
    "Sennoun Merouane,\n",
    "Zouai Serine Maria,\n",
    "Aouanouk lmane,\n",
    "Zemmouri Arslane"
   ]
  },
  {
   "cell_type": "code",
   "execution_count": 1,
   "metadata": {},
   "outputs": [],
   "source": [
    "#import libraries\n",
    "import pandas as pd\n",
    "import numpy as np\n",
    "import matplotlib.pyplot as plt\n",
    "import seaborn as sns"
   ]
  },
  {
   "cell_type": "markdown",
   "metadata": {},
   "source": [
    "# Regression Dataset  \n",
    "\n",
    "Real estate valuation data set\n",
    "\n",
    "\n",
    "Link: https://archive.ics.uci.edu/ml/datasets/Real+estate+valuation+data+set?fbclid=IwAR0yTDnyUu7Cae-1x9aGzdMSCfmttogCWEJ_i8DA48qaW8xgL3CDS_hOUis"
   ]
  },
  {
   "cell_type": "code",
   "execution_count": 2,
   "metadata": {},
   "outputs": [],
   "source": [
    "#import the dataset: type file excel\n",
    "df1 = pd.read_excel(\"Real estate valuation data set.xlsx\")\n",
    "# you need to download this file and upload it in anaconda"
   ]
  },
  {
   "cell_type": "code",
   "execution_count": 3,
   "metadata": {},
   "outputs": [
    {
     "data": {
      "text/html": [
       "<div>\n",
       "<style scoped>\n",
       "    .dataframe tbody tr th:only-of-type {\n",
       "        vertical-align: middle;\n",
       "    }\n",
       "\n",
       "    .dataframe tbody tr th {\n",
       "        vertical-align: top;\n",
       "    }\n",
       "\n",
       "    .dataframe thead th {\n",
       "        text-align: right;\n",
       "    }\n",
       "</style>\n",
       "<table border=\"1\" class=\"dataframe\">\n",
       "  <thead>\n",
       "    <tr style=\"text-align: right;\">\n",
       "      <th></th>\n",
       "      <th>No</th>\n",
       "      <th>X1 transaction date</th>\n",
       "      <th>X2 house age</th>\n",
       "      <th>X3 distance to the nearest MRT station</th>\n",
       "      <th>X4 number of convenience stores</th>\n",
       "      <th>X5 latitude</th>\n",
       "      <th>X6 longitude</th>\n",
       "      <th>Y house price of unit area</th>\n",
       "    </tr>\n",
       "  </thead>\n",
       "  <tbody>\n",
       "    <tr>\n",
       "      <th>0</th>\n",
       "      <td>1</td>\n",
       "      <td>2012.916667</td>\n",
       "      <td>32.0</td>\n",
       "      <td>84.87882</td>\n",
       "      <td>10</td>\n",
       "      <td>24.98298</td>\n",
       "      <td>121.54024</td>\n",
       "      <td>37.9</td>\n",
       "    </tr>\n",
       "    <tr>\n",
       "      <th>1</th>\n",
       "      <td>2</td>\n",
       "      <td>2012.916667</td>\n",
       "      <td>19.5</td>\n",
       "      <td>306.59470</td>\n",
       "      <td>9</td>\n",
       "      <td>24.98034</td>\n",
       "      <td>121.53951</td>\n",
       "      <td>42.2</td>\n",
       "    </tr>\n",
       "    <tr>\n",
       "      <th>2</th>\n",
       "      <td>3</td>\n",
       "      <td>2013.583333</td>\n",
       "      <td>13.3</td>\n",
       "      <td>561.98450</td>\n",
       "      <td>5</td>\n",
       "      <td>24.98746</td>\n",
       "      <td>121.54391</td>\n",
       "      <td>47.3</td>\n",
       "    </tr>\n",
       "    <tr>\n",
       "      <th>3</th>\n",
       "      <td>4</td>\n",
       "      <td>2013.500000</td>\n",
       "      <td>13.3</td>\n",
       "      <td>561.98450</td>\n",
       "      <td>5</td>\n",
       "      <td>24.98746</td>\n",
       "      <td>121.54391</td>\n",
       "      <td>54.8</td>\n",
       "    </tr>\n",
       "    <tr>\n",
       "      <th>4</th>\n",
       "      <td>5</td>\n",
       "      <td>2012.833333</td>\n",
       "      <td>5.0</td>\n",
       "      <td>390.56840</td>\n",
       "      <td>5</td>\n",
       "      <td>24.97937</td>\n",
       "      <td>121.54245</td>\n",
       "      <td>43.1</td>\n",
       "    </tr>\n",
       "  </tbody>\n",
       "</table>\n",
       "</div>"
      ],
      "text/plain": [
       "   No  X1 transaction date  X2 house age  \\\n",
       "0   1          2012.916667          32.0   \n",
       "1   2          2012.916667          19.5   \n",
       "2   3          2013.583333          13.3   \n",
       "3   4          2013.500000          13.3   \n",
       "4   5          2012.833333           5.0   \n",
       "\n",
       "   X3 distance to the nearest MRT station  X4 number of convenience stores  \\\n",
       "0                                84.87882                               10   \n",
       "1                               306.59470                                9   \n",
       "2                               561.98450                                5   \n",
       "3                               561.98450                                5   \n",
       "4                               390.56840                                5   \n",
       "\n",
       "   X5 latitude  X6 longitude  Y house price of unit area  \n",
       "0     24.98298     121.54024                        37.9  \n",
       "1     24.98034     121.53951                        42.2  \n",
       "2     24.98746     121.54391                        47.3  \n",
       "3     24.98746     121.54391                        54.8  \n",
       "4     24.97937     121.54245                        43.1  "
      ]
     },
     "execution_count": 3,
     "metadata": {},
     "output_type": "execute_result"
    }
   ],
   "source": [
    "df1.head() #display the first five lines"
   ]
  },
  {
   "cell_type": "code",
   "execution_count": 4,
   "metadata": {},
   "outputs": [
    {
     "data": {
      "text/html": [
       "<div>\n",
       "<style scoped>\n",
       "    .dataframe tbody tr th:only-of-type {\n",
       "        vertical-align: middle;\n",
       "    }\n",
       "\n",
       "    .dataframe tbody tr th {\n",
       "        vertical-align: top;\n",
       "    }\n",
       "\n",
       "    .dataframe thead th {\n",
       "        text-align: right;\n",
       "    }\n",
       "</style>\n",
       "<table border=\"1\" class=\"dataframe\">\n",
       "  <thead>\n",
       "    <tr style=\"text-align: right;\">\n",
       "      <th></th>\n",
       "      <th>No</th>\n",
       "      <th>X1 transaction date</th>\n",
       "      <th>X2 house age</th>\n",
       "      <th>X3 distance to the nearest MRT station</th>\n",
       "      <th>X4 number of convenience stores</th>\n",
       "      <th>X5 latitude</th>\n",
       "      <th>X6 longitude</th>\n",
       "      <th>Y house price of unit area</th>\n",
       "    </tr>\n",
       "  </thead>\n",
       "  <tbody>\n",
       "    <tr>\n",
       "      <th>409</th>\n",
       "      <td>410</td>\n",
       "      <td>2013.000000</td>\n",
       "      <td>13.7</td>\n",
       "      <td>4082.01500</td>\n",
       "      <td>0</td>\n",
       "      <td>24.94155</td>\n",
       "      <td>121.50381</td>\n",
       "      <td>15.4</td>\n",
       "    </tr>\n",
       "    <tr>\n",
       "      <th>410</th>\n",
       "      <td>411</td>\n",
       "      <td>2012.666667</td>\n",
       "      <td>5.6</td>\n",
       "      <td>90.45606</td>\n",
       "      <td>9</td>\n",
       "      <td>24.97433</td>\n",
       "      <td>121.54310</td>\n",
       "      <td>50.0</td>\n",
       "    </tr>\n",
       "    <tr>\n",
       "      <th>411</th>\n",
       "      <td>412</td>\n",
       "      <td>2013.250000</td>\n",
       "      <td>18.8</td>\n",
       "      <td>390.96960</td>\n",
       "      <td>7</td>\n",
       "      <td>24.97923</td>\n",
       "      <td>121.53986</td>\n",
       "      <td>40.6</td>\n",
       "    </tr>\n",
       "    <tr>\n",
       "      <th>412</th>\n",
       "      <td>413</td>\n",
       "      <td>2013.000000</td>\n",
       "      <td>8.1</td>\n",
       "      <td>104.81010</td>\n",
       "      <td>5</td>\n",
       "      <td>24.96674</td>\n",
       "      <td>121.54067</td>\n",
       "      <td>52.5</td>\n",
       "    </tr>\n",
       "    <tr>\n",
       "      <th>413</th>\n",
       "      <td>414</td>\n",
       "      <td>2013.500000</td>\n",
       "      <td>6.5</td>\n",
       "      <td>90.45606</td>\n",
       "      <td>9</td>\n",
       "      <td>24.97433</td>\n",
       "      <td>121.54310</td>\n",
       "      <td>63.9</td>\n",
       "    </tr>\n",
       "  </tbody>\n",
       "</table>\n",
       "</div>"
      ],
      "text/plain": [
       "      No  X1 transaction date  X2 house age  \\\n",
       "409  410          2013.000000          13.7   \n",
       "410  411          2012.666667           5.6   \n",
       "411  412          2013.250000          18.8   \n",
       "412  413          2013.000000           8.1   \n",
       "413  414          2013.500000           6.5   \n",
       "\n",
       "     X3 distance to the nearest MRT station  X4 number of convenience stores  \\\n",
       "409                              4082.01500                                0   \n",
       "410                                90.45606                                9   \n",
       "411                               390.96960                                7   \n",
       "412                               104.81010                                5   \n",
       "413                                90.45606                                9   \n",
       "\n",
       "     X5 latitude  X6 longitude  Y house price of unit area  \n",
       "409     24.94155     121.50381                        15.4  \n",
       "410     24.97433     121.54310                        50.0  \n",
       "411     24.97923     121.53986                        40.6  \n",
       "412     24.96674     121.54067                        52.5  \n",
       "413     24.97433     121.54310                        63.9  "
      ]
     },
     "execution_count": 4,
     "metadata": {},
     "output_type": "execute_result"
    }
   ],
   "source": [
    "df1.tail() #display the last five lines\n"
   ]
  },
  {
   "cell_type": "code",
   "execution_count": 5,
   "metadata": {},
   "outputs": [
    {
     "data": {
      "text/plain": [
       "(414, 8)"
      ]
     },
     "execution_count": 5,
     "metadata": {},
     "output_type": "execute_result"
    }
   ],
   "source": [
    "df1.shape  # 414 rows et 8 columns"
   ]
  },
  {
   "cell_type": "code",
   "execution_count": 6,
   "metadata": {},
   "outputs": [],
   "source": [
    "df1.rename(\n",
    "    columns={\n",
    "        \"X1 transaction date\": \"Transaction_Date\", \n",
    "        \"X2 house age\": \"House_Age\", \n",
    "        \"X3 distance to the nearest MRT station\": \"Distance\",\n",
    "        \"X4 number of convenience stores\": \"Num_Stores_NearBy\",\n",
    "        \"X5 latitude\": \"Latitude\",\n",
    "        \"X6 longitude\": \"Longitude\",\n",
    "        \"Y house price of unit area\": \"Target\",\n",
    "    },\n",
    "    inplace = True\n",
    ")\n",
    "#rename features"
   ]
  },
  {
   "cell_type": "code",
   "execution_count": 7,
   "metadata": {
    "scrolled": true
   },
   "outputs": [
    {
     "data": {
      "text/html": [
       "<div>\n",
       "<style scoped>\n",
       "    .dataframe tbody tr th:only-of-type {\n",
       "        vertical-align: middle;\n",
       "    }\n",
       "\n",
       "    .dataframe tbody tr th {\n",
       "        vertical-align: top;\n",
       "    }\n",
       "\n",
       "    .dataframe thead th {\n",
       "        text-align: right;\n",
       "    }\n",
       "</style>\n",
       "<table border=\"1\" class=\"dataframe\">\n",
       "  <thead>\n",
       "    <tr style=\"text-align: right;\">\n",
       "      <th></th>\n",
       "      <th>No</th>\n",
       "      <th>Transaction_Date</th>\n",
       "      <th>House_Age</th>\n",
       "      <th>Distance</th>\n",
       "      <th>Num_Stores_NearBy</th>\n",
       "      <th>Latitude</th>\n",
       "      <th>Longitude</th>\n",
       "      <th>Target</th>\n",
       "    </tr>\n",
       "  </thead>\n",
       "  <tbody>\n",
       "    <tr>\n",
       "      <th>0</th>\n",
       "      <td>1</td>\n",
       "      <td>2012.916667</td>\n",
       "      <td>32.0</td>\n",
       "      <td>84.87882</td>\n",
       "      <td>10</td>\n",
       "      <td>24.98298</td>\n",
       "      <td>121.54024</td>\n",
       "      <td>37.9</td>\n",
       "    </tr>\n",
       "    <tr>\n",
       "      <th>1</th>\n",
       "      <td>2</td>\n",
       "      <td>2012.916667</td>\n",
       "      <td>19.5</td>\n",
       "      <td>306.59470</td>\n",
       "      <td>9</td>\n",
       "      <td>24.98034</td>\n",
       "      <td>121.53951</td>\n",
       "      <td>42.2</td>\n",
       "    </tr>\n",
       "    <tr>\n",
       "      <th>2</th>\n",
       "      <td>3</td>\n",
       "      <td>2013.583333</td>\n",
       "      <td>13.3</td>\n",
       "      <td>561.98450</td>\n",
       "      <td>5</td>\n",
       "      <td>24.98746</td>\n",
       "      <td>121.54391</td>\n",
       "      <td>47.3</td>\n",
       "    </tr>\n",
       "    <tr>\n",
       "      <th>3</th>\n",
       "      <td>4</td>\n",
       "      <td>2013.500000</td>\n",
       "      <td>13.3</td>\n",
       "      <td>561.98450</td>\n",
       "      <td>5</td>\n",
       "      <td>24.98746</td>\n",
       "      <td>121.54391</td>\n",
       "      <td>54.8</td>\n",
       "    </tr>\n",
       "    <tr>\n",
       "      <th>4</th>\n",
       "      <td>5</td>\n",
       "      <td>2012.833333</td>\n",
       "      <td>5.0</td>\n",
       "      <td>390.56840</td>\n",
       "      <td>5</td>\n",
       "      <td>24.97937</td>\n",
       "      <td>121.54245</td>\n",
       "      <td>43.1</td>\n",
       "    </tr>\n",
       "  </tbody>\n",
       "</table>\n",
       "</div>"
      ],
      "text/plain": [
       "   No  Transaction_Date  House_Age   Distance  Num_Stores_NearBy  Latitude  \\\n",
       "0   1       2012.916667       32.0   84.87882                 10  24.98298   \n",
       "1   2       2012.916667       19.5  306.59470                  9  24.98034   \n",
       "2   3       2013.583333       13.3  561.98450                  5  24.98746   \n",
       "3   4       2013.500000       13.3  561.98450                  5  24.98746   \n",
       "4   5       2012.833333        5.0  390.56840                  5  24.97937   \n",
       "\n",
       "   Longitude  Target  \n",
       "0  121.54024    37.9  \n",
       "1  121.53951    42.2  \n",
       "2  121.54391    47.3  \n",
       "3  121.54391    54.8  \n",
       "4  121.54245    43.1  "
      ]
     },
     "execution_count": 7,
     "metadata": {},
     "output_type": "execute_result"
    }
   ],
   "source": [
    "df1.head()"
   ]
  },
  {
   "cell_type": "code",
   "execution_count": 8,
   "metadata": {},
   "outputs": [
    {
     "data": {
      "text/plain": [
       "(414, 8)"
      ]
     },
     "execution_count": 8,
     "metadata": {},
     "output_type": "execute_result"
    }
   ],
   "source": [
    "df1.shape"
   ]
  },
  {
   "cell_type": "code",
   "execution_count": 9,
   "metadata": {
    "scrolled": true
   },
   "outputs": [
    {
     "name": "stdout",
     "output_type": "stream",
     "text": [
      "<class 'pandas.core.frame.DataFrame'>\n",
      "RangeIndex: 414 entries, 0 to 413\n",
      "Data columns (total 8 columns):\n",
      " #   Column             Non-Null Count  Dtype  \n",
      "---  ------             --------------  -----  \n",
      " 0   No                 414 non-null    int64  \n",
      " 1   Transaction_Date   414 non-null    float64\n",
      " 2   House_Age          414 non-null    float64\n",
      " 3   Distance           414 non-null    float64\n",
      " 4   Num_Stores_NearBy  414 non-null    int64  \n",
      " 5   Latitude           414 non-null    float64\n",
      " 6   Longitude          414 non-null    float64\n",
      " 7   Target             414 non-null    float64\n",
      "dtypes: float64(6), int64(2)\n",
      "memory usage: 26.0 KB\n",
      "None\n"
     ]
    }
   ],
   "source": [
    "print(df1.info())\n",
    "\n",
    "#In order to have more information about our dataset, both the name of the variables, the number of lines, the number of missing data, the type of the variables"
   ]
  },
  {
   "cell_type": "code",
   "execution_count": 10,
   "metadata": {
    "scrolled": true
   },
   "outputs": [
    {
     "data": {
      "text/html": [
       "<div>\n",
       "<style scoped>\n",
       "    .dataframe tbody tr th:only-of-type {\n",
       "        vertical-align: middle;\n",
       "    }\n",
       "\n",
       "    .dataframe tbody tr th {\n",
       "        vertical-align: top;\n",
       "    }\n",
       "\n",
       "    .dataframe thead th {\n",
       "        text-align: right;\n",
       "    }\n",
       "</style>\n",
       "<table border=\"1\" class=\"dataframe\">\n",
       "  <thead>\n",
       "    <tr style=\"text-align: right;\">\n",
       "      <th></th>\n",
       "      <th>No</th>\n",
       "      <th>Transaction_Date</th>\n",
       "      <th>House_Age</th>\n",
       "      <th>Distance</th>\n",
       "      <th>Num_Stores_NearBy</th>\n",
       "      <th>Latitude</th>\n",
       "      <th>Longitude</th>\n",
       "      <th>Target</th>\n",
       "    </tr>\n",
       "  </thead>\n",
       "  <tbody>\n",
       "    <tr>\n",
       "      <th>No</th>\n",
       "      <td>1.000000</td>\n",
       "      <td>-0.048634</td>\n",
       "      <td>-0.032808</td>\n",
       "      <td>-0.013573</td>\n",
       "      <td>-0.012699</td>\n",
       "      <td>-0.010110</td>\n",
       "      <td>-0.011059</td>\n",
       "      <td>-0.028587</td>\n",
       "    </tr>\n",
       "    <tr>\n",
       "      <th>Transaction_Date</th>\n",
       "      <td>-0.048634</td>\n",
       "      <td>1.000000</td>\n",
       "      <td>0.017542</td>\n",
       "      <td>0.060880</td>\n",
       "      <td>0.009544</td>\n",
       "      <td>0.035016</td>\n",
       "      <td>-0.041065</td>\n",
       "      <td>0.087529</td>\n",
       "    </tr>\n",
       "    <tr>\n",
       "      <th>House_Age</th>\n",
       "      <td>-0.032808</td>\n",
       "      <td>0.017542</td>\n",
       "      <td>1.000000</td>\n",
       "      <td>0.025622</td>\n",
       "      <td>0.049593</td>\n",
       "      <td>0.054420</td>\n",
       "      <td>-0.048520</td>\n",
       "      <td>-0.210567</td>\n",
       "    </tr>\n",
       "    <tr>\n",
       "      <th>Distance</th>\n",
       "      <td>-0.013573</td>\n",
       "      <td>0.060880</td>\n",
       "      <td>0.025622</td>\n",
       "      <td>1.000000</td>\n",
       "      <td>-0.602519</td>\n",
       "      <td>-0.591067</td>\n",
       "      <td>-0.806317</td>\n",
       "      <td>-0.673613</td>\n",
       "    </tr>\n",
       "    <tr>\n",
       "      <th>Num_Stores_NearBy</th>\n",
       "      <td>-0.012699</td>\n",
       "      <td>0.009544</td>\n",
       "      <td>0.049593</td>\n",
       "      <td>-0.602519</td>\n",
       "      <td>1.000000</td>\n",
       "      <td>0.444143</td>\n",
       "      <td>0.449099</td>\n",
       "      <td>0.571005</td>\n",
       "    </tr>\n",
       "    <tr>\n",
       "      <th>Latitude</th>\n",
       "      <td>-0.010110</td>\n",
       "      <td>0.035016</td>\n",
       "      <td>0.054420</td>\n",
       "      <td>-0.591067</td>\n",
       "      <td>0.444143</td>\n",
       "      <td>1.000000</td>\n",
       "      <td>0.412924</td>\n",
       "      <td>0.546307</td>\n",
       "    </tr>\n",
       "    <tr>\n",
       "      <th>Longitude</th>\n",
       "      <td>-0.011059</td>\n",
       "      <td>-0.041065</td>\n",
       "      <td>-0.048520</td>\n",
       "      <td>-0.806317</td>\n",
       "      <td>0.449099</td>\n",
       "      <td>0.412924</td>\n",
       "      <td>1.000000</td>\n",
       "      <td>0.523287</td>\n",
       "    </tr>\n",
       "    <tr>\n",
       "      <th>Target</th>\n",
       "      <td>-0.028587</td>\n",
       "      <td>0.087529</td>\n",
       "      <td>-0.210567</td>\n",
       "      <td>-0.673613</td>\n",
       "      <td>0.571005</td>\n",
       "      <td>0.546307</td>\n",
       "      <td>0.523287</td>\n",
       "      <td>1.000000</td>\n",
       "    </tr>\n",
       "  </tbody>\n",
       "</table>\n",
       "</div>"
      ],
      "text/plain": [
       "                         No  Transaction_Date  House_Age  Distance  \\\n",
       "No                 1.000000         -0.048634  -0.032808 -0.013573   \n",
       "Transaction_Date  -0.048634          1.000000   0.017542  0.060880   \n",
       "House_Age         -0.032808          0.017542   1.000000  0.025622   \n",
       "Distance          -0.013573          0.060880   0.025622  1.000000   \n",
       "Num_Stores_NearBy -0.012699          0.009544   0.049593 -0.602519   \n",
       "Latitude          -0.010110          0.035016   0.054420 -0.591067   \n",
       "Longitude         -0.011059         -0.041065  -0.048520 -0.806317   \n",
       "Target            -0.028587          0.087529  -0.210567 -0.673613   \n",
       "\n",
       "                   Num_Stores_NearBy  Latitude  Longitude    Target  \n",
       "No                         -0.012699 -0.010110  -0.011059 -0.028587  \n",
       "Transaction_Date            0.009544  0.035016  -0.041065  0.087529  \n",
       "House_Age                   0.049593  0.054420  -0.048520 -0.210567  \n",
       "Distance                   -0.602519 -0.591067  -0.806317 -0.673613  \n",
       "Num_Stores_NearBy           1.000000  0.444143   0.449099  0.571005  \n",
       "Latitude                    0.444143  1.000000   0.412924  0.546307  \n",
       "Longitude                   0.449099  0.412924   1.000000  0.523287  \n",
       "Target                      0.571005  0.546307   0.523287  1.000000  "
      ]
     },
     "execution_count": 10,
     "metadata": {},
     "output_type": "execute_result"
    }
   ],
   "source": [
    "df1.corr()  # The pairwise Correlation of  features in our dataset"
   ]
  },
  {
   "cell_type": "markdown",
   "metadata": {},
   "source": [
    "# Graphic Representation\n"
   ]
  },
  {
   "cell_type": "code",
   "execution_count": 11,
   "metadata": {},
   "outputs": [
    {
     "data": {
      "image/png": "[encoded data removed]",
      "text/plain": [
       "<Figure size 1080x1080 with 6 Axes>"
      ]
     },
     "metadata": {
      "needs_background": "light"
     },
     "output_type": "display_data"
    }
   ],
   "source": [
    "# Scatter subplot of each feature\n",
    "fig = plt.figure(figsize=(15,15))\n",
    "\n",
    "plt.subplot(331)\n",
    "sns.scatterplot(data = df1, x = 'Transaction_Date', y = 'Target', color='blue')\n",
    "\n",
    "plt.subplot(332)\n",
    "sns.scatterplot(data = df1, x = 'House_Age', y = 'Target', color='red')\n",
    "\n",
    "plt.subplot(333)\n",
    "sns.scatterplot(data = df1, x = 'Distance', y = 'Target', color='green')\n",
    "\n",
    "plt.subplot(334)\n",
    "sns.scatterplot(data = df1, x = 'Num_Stores_NearBy', y = 'Target', color='magenta')\n",
    "\n",
    "plt.subplot(335)\n",
    "sns.scatterplot(data = df1,x = 'Latitude', y = 'Target', color='gray')\n",
    "\n",
    "plt.subplot(336)\n",
    "sns.scatterplot(data = df1, x = 'Longitude', y = 'Target', color='orange');\n",
    "\n"
   ]
  },
  {
   "cell_type": "markdown",
   "metadata": {},
   "source": [
    " "
   ]
  },
  {
   "cell_type": "markdown",
   "metadata": {},
   "source": [
    "#  Preprocessing\n",
    "\n",
    "## Dataset regression Real estate valuation"
   ]
  },
  {
   "cell_type": "markdown",
   "metadata": {},
   "source": [
    "# 1- Missing values \n",
    "\n",
    "In the description of the regression dataset, it is mentioned that there is no missing values\n",
    "and there is a command that allows us to determine whether or not there are missing values which is:\n",
    "\n",
    "df1 .isna().sum()"
   ]
  },
  {
   "cell_type": "code",
   "execution_count": 12,
   "metadata": {},
   "outputs": [
    {
     "data": {
      "text/plain": [
       "No                   0\n",
       "Transaction_Date     0\n",
       "House_Age            0\n",
       "Distance             0\n",
       "Num_Stores_NearBy    0\n",
       "Latitude             0\n",
       "Longitude            0\n",
       "Target               0\n",
       "dtype: int64"
      ]
     },
     "execution_count": 12,
     "metadata": {},
     "output_type": "execute_result"
    }
   ],
   "source": [
    "df1.isna().sum()   # same result with this request : df1.isnull().sum()\n",
    "# As you can notice all the values obtained are equal to zero therefore there are no missing values"
   ]
  },
  {
   "cell_type": "code",
   "execution_count": 13,
   "metadata": {},
   "outputs": [
    {
     "data": {
      "text/plain": [
       "No                   0\n",
       "Transaction_Date     0\n",
       "House_Age            0\n",
       "Distance             0\n",
       "Num_Stores_NearBy    0\n",
       "Latitude             0\n",
       "Longitude            0\n",
       "Target               0\n",
       "dtype: int64"
      ]
     },
     "execution_count": 13,
     "metadata": {},
     "output_type": "execute_result"
    }
   ],
   "source": [
    "df1.isnull().sum()\n",
    "#how many missing values (sum of null values)"
   ]
  },
  {
   "cell_type": "markdown",
   "metadata": {},
   "source": [
    "# 2- Remove an unnecessary attribute such as the \"No\" attribute"
   ]
  },
  {
   "cell_type": "code",
   "execution_count": 14,
   "metadata": {
    "scrolled": true
   },
   "outputs": [
    {
     "data": {
      "text/html": [
       "<div>\n",
       "<style scoped>\n",
       "    .dataframe tbody tr th:only-of-type {\n",
       "        vertical-align: middle;\n",
       "    }\n",
       "\n",
       "    .dataframe tbody tr th {\n",
       "        vertical-align: top;\n",
       "    }\n",
       "\n",
       "    .dataframe thead th {\n",
       "        text-align: right;\n",
       "    }\n",
       "</style>\n",
       "<table border=\"1\" class=\"dataframe\">\n",
       "  <thead>\n",
       "    <tr style=\"text-align: right;\">\n",
       "      <th></th>\n",
       "      <th>Transaction_Date</th>\n",
       "      <th>House_Age</th>\n",
       "      <th>Distance</th>\n",
       "      <th>Num_Stores_NearBy</th>\n",
       "      <th>Latitude</th>\n",
       "      <th>Longitude</th>\n",
       "      <th>Target</th>\n",
       "    </tr>\n",
       "  </thead>\n",
       "  <tbody>\n",
       "    <tr>\n",
       "      <th>0</th>\n",
       "      <td>2012.916667</td>\n",
       "      <td>32.0</td>\n",
       "      <td>84.87882</td>\n",
       "      <td>10</td>\n",
       "      <td>24.98298</td>\n",
       "      <td>121.54024</td>\n",
       "      <td>37.9</td>\n",
       "    </tr>\n",
       "    <tr>\n",
       "      <th>1</th>\n",
       "      <td>2012.916667</td>\n",
       "      <td>19.5</td>\n",
       "      <td>306.59470</td>\n",
       "      <td>9</td>\n",
       "      <td>24.98034</td>\n",
       "      <td>121.53951</td>\n",
       "      <td>42.2</td>\n",
       "    </tr>\n",
       "    <tr>\n",
       "      <th>2</th>\n",
       "      <td>2013.583333</td>\n",
       "      <td>13.3</td>\n",
       "      <td>561.98450</td>\n",
       "      <td>5</td>\n",
       "      <td>24.98746</td>\n",
       "      <td>121.54391</td>\n",
       "      <td>47.3</td>\n",
       "    </tr>\n",
       "    <tr>\n",
       "      <th>3</th>\n",
       "      <td>2013.500000</td>\n",
       "      <td>13.3</td>\n",
       "      <td>561.98450</td>\n",
       "      <td>5</td>\n",
       "      <td>24.98746</td>\n",
       "      <td>121.54391</td>\n",
       "      <td>54.8</td>\n",
       "    </tr>\n",
       "    <tr>\n",
       "      <th>4</th>\n",
       "      <td>2012.833333</td>\n",
       "      <td>5.0</td>\n",
       "      <td>390.56840</td>\n",
       "      <td>5</td>\n",
       "      <td>24.97937</td>\n",
       "      <td>121.54245</td>\n",
       "      <td>43.1</td>\n",
       "    </tr>\n",
       "    <tr>\n",
       "      <th>...</th>\n",
       "      <td>...</td>\n",
       "      <td>...</td>\n",
       "      <td>...</td>\n",
       "      <td>...</td>\n",
       "      <td>...</td>\n",
       "      <td>...</td>\n",
       "      <td>...</td>\n",
       "    </tr>\n",
       "    <tr>\n",
       "      <th>409</th>\n",
       "      <td>2013.000000</td>\n",
       "      <td>13.7</td>\n",
       "      <td>4082.01500</td>\n",
       "      <td>0</td>\n",
       "      <td>24.94155</td>\n",
       "      <td>121.50381</td>\n",
       "      <td>15.4</td>\n",
       "    </tr>\n",
       "    <tr>\n",
       "      <th>410</th>\n",
       "      <td>2012.666667</td>\n",
       "      <td>5.6</td>\n",
       "      <td>90.45606</td>\n",
       "      <td>9</td>\n",
       "      <td>24.97433</td>\n",
       "      <td>121.54310</td>\n",
       "      <td>50.0</td>\n",
       "    </tr>\n",
       "    <tr>\n",
       "      <th>411</th>\n",
       "      <td>2013.250000</td>\n",
       "      <td>18.8</td>\n",
       "      <td>390.96960</td>\n",
       "      <td>7</td>\n",
       "      <td>24.97923</td>\n",
       "      <td>121.53986</td>\n",
       "      <td>40.6</td>\n",
       "    </tr>\n",
       "    <tr>\n",
       "      <th>412</th>\n",
       "      <td>2013.000000</td>\n",
       "      <td>8.1</td>\n",
       "      <td>104.81010</td>\n",
       "      <td>5</td>\n",
       "      <td>24.96674</td>\n",
       "      <td>121.54067</td>\n",
       "      <td>52.5</td>\n",
       "    </tr>\n",
       "    <tr>\n",
       "      <th>413</th>\n",
       "      <td>2013.500000</td>\n",
       "      <td>6.5</td>\n",
       "      <td>90.45606</td>\n",
       "      <td>9</td>\n",
       "      <td>24.97433</td>\n",
       "      <td>121.54310</td>\n",
       "      <td>63.9</td>\n",
       "    </tr>\n",
       "  </tbody>\n",
       "</table>\n",
       "<p>414 rows × 7 columns</p>\n",
       "</div>"
      ],
      "text/plain": [
       "     Transaction_Date  House_Age    Distance  Num_Stores_NearBy  Latitude  \\\n",
       "0         2012.916667       32.0    84.87882                 10  24.98298   \n",
       "1         2012.916667       19.5   306.59470                  9  24.98034   \n",
       "2         2013.583333       13.3   561.98450                  5  24.98746   \n",
       "3         2013.500000       13.3   561.98450                  5  24.98746   \n",
       "4         2012.833333        5.0   390.56840                  5  24.97937   \n",
       "..                ...        ...         ...                ...       ...   \n",
       "409       2013.000000       13.7  4082.01500                  0  24.94155   \n",
       "410       2012.666667        5.6    90.45606                  9  24.97433   \n",
       "411       2013.250000       18.8   390.96960                  7  24.97923   \n",
       "412       2013.000000        8.1   104.81010                  5  24.96674   \n",
       "413       2013.500000        6.5    90.45606                  9  24.97433   \n",
       "\n",
       "     Longitude  Target  \n",
       "0    121.54024    37.9  \n",
       "1    121.53951    42.2  \n",
       "2    121.54391    47.3  \n",
       "3    121.54391    54.8  \n",
       "4    121.54245    43.1  \n",
       "..         ...     ...  \n",
       "409  121.50381    15.4  \n",
       "410  121.54310    50.0  \n",
       "411  121.53986    40.6  \n",
       "412  121.54067    52.5  \n",
       "413  121.54310    63.9  \n",
       "\n",
       "[414 rows x 7 columns]"
      ]
     },
     "execution_count": 14,
     "metadata": {},
     "output_type": "execute_result"
    }
   ],
   "source": [
    "df1= df1.drop('No',axis=1)\n",
    "df1\n"
   ]
  },
  {
   "cell_type": "code",
   "execution_count": 15,
   "metadata": {},
   "outputs": [
    {
     "data": {
      "text/plain": [
       "Index(['Transaction_Date', 'House_Age', 'Distance', 'Num_Stores_NearBy',\n",
       "       'Latitude', 'Longitude', 'Target'],\n",
       "      dtype='object')"
      ]
     },
     "execution_count": 15,
     "metadata": {},
     "output_type": "execute_result"
    }
   ],
   "source": [
    "df1.columns"
   ]
  },
  {
   "cell_type": "markdown",
   "metadata": {},
   "source": [
    "# 3- Encoding"
   ]
  },
  {
   "cell_type": "code",
   "execution_count": 16,
   "metadata": {
    "scrolled": true
   },
   "outputs": [
    {
     "data": {
      "text/plain": [
       "Transaction_Date     float64\n",
       "House_Age            float64\n",
       "Distance             float64\n",
       "Num_Stores_NearBy      int64\n",
       "Latitude             float64\n",
       "Longitude            float64\n",
       "Target               float64\n",
       "dtype: object"
      ]
     },
     "execution_count": 16,
     "metadata": {},
     "output_type": "execute_result"
    }
   ],
   "source": [
    "df1.dtypes  # this command allows us to see the data type of our Dataframe and which is our case: numeric (float64 and int64), therefore, we have no categorical variable and which requires encoding"
   ]
  },
  {
   "cell_type": "markdown",
   "metadata": {},
   "source": [
    "# 4- Duplicate Values"
   ]
  },
  {
   "cell_type": "code",
   "execution_count": 17,
   "metadata": {},
   "outputs": [
    {
     "name": "stdout",
     "output_type": "stream",
     "text": [
      "0\n"
     ]
    }
   ],
   "source": [
    "print(df1.duplicated().values.sum())#this command allows us to know if we have duplicate values and as we can notice the value is 0  "
   ]
  },
  {
   "cell_type": "markdown",
   "metadata": {},
   "source": [
    "# 5- Detecte outliers"
   ]
  },
  {
   "cell_type": "code",
   "execution_count": 18,
   "metadata": {
    "scrolled": true
   },
   "outputs": [
    {
     "data": {
      "text/html": [
       "<div>\n",
       "<style scoped>\n",
       "    .dataframe tbody tr th:only-of-type {\n",
       "        vertical-align: middle;\n",
       "    }\n",
       "\n",
       "    .dataframe tbody tr th {\n",
       "        vertical-align: top;\n",
       "    }\n",
       "\n",
       "    .dataframe thead th {\n",
       "        text-align: right;\n",
       "    }\n",
       "</style>\n",
       "<table border=\"1\" class=\"dataframe\">\n",
       "  <thead>\n",
       "    <tr style=\"text-align: right;\">\n",
       "      <th></th>\n",
       "      <th>Transaction_Date</th>\n",
       "      <th>House_Age</th>\n",
       "      <th>Distance</th>\n",
       "      <th>Num_Stores_NearBy</th>\n",
       "      <th>Latitude</th>\n",
       "      <th>Longitude</th>\n",
       "      <th>Target</th>\n",
       "    </tr>\n",
       "  </thead>\n",
       "  <tbody>\n",
       "    <tr>\n",
       "      <th>count</th>\n",
       "      <td>414.000000</td>\n",
       "      <td>414.000000</td>\n",
       "      <td>414.000000</td>\n",
       "      <td>414.000000</td>\n",
       "      <td>414.000000</td>\n",
       "      <td>414.000000</td>\n",
       "      <td>414.000000</td>\n",
       "    </tr>\n",
       "    <tr>\n",
       "      <th>mean</th>\n",
       "      <td>2013.148953</td>\n",
       "      <td>17.712560</td>\n",
       "      <td>1083.885689</td>\n",
       "      <td>4.094203</td>\n",
       "      <td>24.969030</td>\n",
       "      <td>121.533361</td>\n",
       "      <td>37.980193</td>\n",
       "    </tr>\n",
       "    <tr>\n",
       "      <th>std</th>\n",
       "      <td>0.281995</td>\n",
       "      <td>11.392485</td>\n",
       "      <td>1262.109595</td>\n",
       "      <td>2.945562</td>\n",
       "      <td>0.012410</td>\n",
       "      <td>0.015347</td>\n",
       "      <td>13.606488</td>\n",
       "    </tr>\n",
       "    <tr>\n",
       "      <th>min</th>\n",
       "      <td>2012.666667</td>\n",
       "      <td>0.000000</td>\n",
       "      <td>23.382840</td>\n",
       "      <td>0.000000</td>\n",
       "      <td>24.932070</td>\n",
       "      <td>121.473530</td>\n",
       "      <td>7.600000</td>\n",
       "    </tr>\n",
       "    <tr>\n",
       "      <th>25%</th>\n",
       "      <td>2012.916667</td>\n",
       "      <td>9.025000</td>\n",
       "      <td>289.324800</td>\n",
       "      <td>1.000000</td>\n",
       "      <td>24.963000</td>\n",
       "      <td>121.528085</td>\n",
       "      <td>27.700000</td>\n",
       "    </tr>\n",
       "    <tr>\n",
       "      <th>50%</th>\n",
       "      <td>2013.166667</td>\n",
       "      <td>16.100000</td>\n",
       "      <td>492.231300</td>\n",
       "      <td>4.000000</td>\n",
       "      <td>24.971100</td>\n",
       "      <td>121.538630</td>\n",
       "      <td>38.450000</td>\n",
       "    </tr>\n",
       "    <tr>\n",
       "      <th>75%</th>\n",
       "      <td>2013.416667</td>\n",
       "      <td>28.150000</td>\n",
       "      <td>1454.279000</td>\n",
       "      <td>6.000000</td>\n",
       "      <td>24.977455</td>\n",
       "      <td>121.543305</td>\n",
       "      <td>46.600000</td>\n",
       "    </tr>\n",
       "    <tr>\n",
       "      <th>max</th>\n",
       "      <td>2013.583333</td>\n",
       "      <td>43.800000</td>\n",
       "      <td>6488.021000</td>\n",
       "      <td>10.000000</td>\n",
       "      <td>25.014590</td>\n",
       "      <td>121.566270</td>\n",
       "      <td>117.500000</td>\n",
       "    </tr>\n",
       "  </tbody>\n",
       "</table>\n",
       "</div>"
      ],
      "text/plain": [
       "       Transaction_Date   House_Age     Distance  Num_Stores_NearBy  \\\n",
       "count        414.000000  414.000000   414.000000         414.000000   \n",
       "mean        2013.148953   17.712560  1083.885689           4.094203   \n",
       "std            0.281995   11.392485  1262.109595           2.945562   \n",
       "min         2012.666667    0.000000    23.382840           0.000000   \n",
       "25%         2012.916667    9.025000   289.324800           1.000000   \n",
       "50%         2013.166667   16.100000   492.231300           4.000000   \n",
       "75%         2013.416667   28.150000  1454.279000           6.000000   \n",
       "max         2013.583333   43.800000  6488.021000          10.000000   \n",
       "\n",
       "         Latitude   Longitude      Target  \n",
       "count  414.000000  414.000000  414.000000  \n",
       "mean    24.969030  121.533361   37.980193  \n",
       "std      0.012410    0.015347   13.606488  \n",
       "min     24.932070  121.473530    7.600000  \n",
       "25%     24.963000  121.528085   27.700000  \n",
       "50%     24.971100  121.538630   38.450000  \n",
       "75%     24.977455  121.543305   46.600000  \n",
       "max     25.014590  121.566270  117.500000  "
      ]
     },
     "execution_count": 18,
     "metadata": {},
     "output_type": "execute_result"
    }
   ],
   "source": [
    "df1.describe() #this command is used to display the  elementary statistics of the features\n",
    "#count --> the count remains unchanged for each attribute and as we can still notice there are no missing values\n",
    "#mean --> the mean \n",
    "#std --> the  standard deviation\n",
    "# min--> the minimum value taken by each attribute and this can give us an overview of the outliers for example house_Age its min value is 0.000000 and does not contain a negative value which could be interpreted as an outlier\n",
    "# max--> the maximum value taken by each attribute\n",
    "# 25% , 50% , 75% represent the quartiles, and 50% is the median"
   ]
  },
  {
   "cell_type": "code",
   "execution_count": 19,
   "metadata": {},
   "outputs": [],
   "source": [
    "# in order to detect outliers method, we use z score method:\n",
    "\n",
    "def detect_outliers(data):\n",
    "    outilers=[]\n",
    "    threshold=3\n",
    "    mean=np.mean(data)\n",
    "    std=np.std(data)\n",
    "    \n",
    "    for i in data:\n",
    "        z_score=(i-mean)/std\n",
    "        if np.abs(z_score)>threshold:\n",
    "            outilers.append(i)\n",
    "    \n",
    "    return outilers\n"
   ]
  },
  {
   "cell_type": "code",
   "execution_count": 20,
   "metadata": {},
   "outputs": [
    {
     "name": "stdout",
     "output_type": "stream",
     "text": [
      "[]\n",
      "[]\n",
      "[5512.038, 6396.283, 6306.153, 5512.038, 6488.021]\n",
      "[]\n",
      "[25.01459]\n",
      "[121.48458, 121.47883, 121.47516, 121.48458, 121.47353]\n"
     ]
    }
   ],
   "source": [
    "\n",
    "outlierstransaction=detect_outliers(df1['Transaction_Date'])  # no outliers \n",
    "outliersHouseAge=detect_outliers(df1['House_Age'])  # no outliers \n",
    "outliersDistance=detect_outliers(df1['Distance'])\n",
    "outliersNum_Store=detect_outliers(df1['Num_Stores_NearBy'])  # no outliers \n",
    "outliersLatitude=detect_outliers(df1['Latitude']) \n",
    "outliersLogtitude=detect_outliers(df1['Longitude'])\n",
    "print (outlierstransaction)\n",
    "print (outliersHouseAge)\n",
    "print (outliersDistance)\n",
    "print (outliersNum_Store)\n",
    "print (outliersLatitude)\n",
    "print (outliersLogtitude)"
   ]
  },
  {
   "cell_type": "code",
   "execution_count": 21,
   "metadata": {},
   "outputs": [
    {
     "name": "stdout",
     "output_type": "stream",
     "text": [
      "[5512.038, 6396.283, 6306.153, 5512.038, 6488.021]\n",
      "[25.01459]\n",
      "[121.48458, 121.47883, 121.47516, 121.48458, 121.47353]\n"
     ]
    }
   ],
   "source": [
    "outliers1=detect_outliers(df1['Distance'])\n",
    "outliers2=detect_outliers(df1['Latitude']) \n",
    "outliers3=detect_outliers(df1['Longitude'])\n",
    "print (outliers1)\n",
    "print (outliers2)\n",
    "print (outliers3)"
   ]
  },
  {
   "cell_type": "code",
   "execution_count": 22,
   "metadata": {},
   "outputs": [
    {
     "data": {
      "text/html": [
       "<div>\n",
       "<style scoped>\n",
       "    .dataframe tbody tr th:only-of-type {\n",
       "        vertical-align: middle;\n",
       "    }\n",
       "\n",
       "    .dataframe tbody tr th {\n",
       "        vertical-align: top;\n",
       "    }\n",
       "\n",
       "    .dataframe thead th {\n",
       "        text-align: right;\n",
       "    }\n",
       "</style>\n",
       "<table border=\"1\" class=\"dataframe\">\n",
       "  <thead>\n",
       "    <tr style=\"text-align: right;\">\n",
       "      <th></th>\n",
       "      <th>Transaction_Date</th>\n",
       "      <th>House_Age</th>\n",
       "      <th>Distance</th>\n",
       "      <th>Num_Stores_NearBy</th>\n",
       "      <th>Latitude</th>\n",
       "      <th>Longitude</th>\n",
       "      <th>Target</th>\n",
       "    </tr>\n",
       "  </thead>\n",
       "  <tbody>\n",
       "    <tr>\n",
       "      <th>8</th>\n",
       "      <td>2013.500000</td>\n",
       "      <td>31.7</td>\n",
       "      <td>5512.038</td>\n",
       "      <td>1</td>\n",
       "      <td>24.95095</td>\n",
       "      <td>121.48458</td>\n",
       "      <td>18.8</td>\n",
       "    </tr>\n",
       "    <tr>\n",
       "      <th>35</th>\n",
       "      <td>2013.500000</td>\n",
       "      <td>13.9</td>\n",
       "      <td>4079.418</td>\n",
       "      <td>0</td>\n",
       "      <td>25.01459</td>\n",
       "      <td>121.51816</td>\n",
       "      <td>27.3</td>\n",
       "    </tr>\n",
       "    <tr>\n",
       "      <th>116</th>\n",
       "      <td>2013.000000</td>\n",
       "      <td>30.9</td>\n",
       "      <td>6396.283</td>\n",
       "      <td>1</td>\n",
       "      <td>24.94375</td>\n",
       "      <td>121.47883</td>\n",
       "      <td>12.2</td>\n",
       "    </tr>\n",
       "    <tr>\n",
       "      <th>249</th>\n",
       "      <td>2012.833333</td>\n",
       "      <td>18.0</td>\n",
       "      <td>6306.153</td>\n",
       "      <td>1</td>\n",
       "      <td>24.95743</td>\n",
       "      <td>121.47516</td>\n",
       "      <td>15.0</td>\n",
       "    </tr>\n",
       "    <tr>\n",
       "      <th>255</th>\n",
       "      <td>2013.416667</td>\n",
       "      <td>31.5</td>\n",
       "      <td>5512.038</td>\n",
       "      <td>1</td>\n",
       "      <td>24.95095</td>\n",
       "      <td>121.48458</td>\n",
       "      <td>17.4</td>\n",
       "    </tr>\n",
       "    <tr>\n",
       "      <th>347</th>\n",
       "      <td>2013.583333</td>\n",
       "      <td>17.4</td>\n",
       "      <td>6488.021</td>\n",
       "      <td>1</td>\n",
       "      <td>24.95719</td>\n",
       "      <td>121.47353</td>\n",
       "      <td>11.2</td>\n",
       "    </tr>\n",
       "  </tbody>\n",
       "</table>\n",
       "</div>"
      ],
      "text/plain": [
       "     Transaction_Date  House_Age  Distance  Num_Stores_NearBy  Latitude  \\\n",
       "8         2013.500000       31.7  5512.038                  1  24.95095   \n",
       "35        2013.500000       13.9  4079.418                  0  25.01459   \n",
       "116       2013.000000       30.9  6396.283                  1  24.94375   \n",
       "249       2012.833333       18.0  6306.153                  1  24.95743   \n",
       "255       2013.416667       31.5  5512.038                  1  24.95095   \n",
       "347       2013.583333       17.4  6488.021                  1  24.95719   \n",
       "\n",
       "     Longitude  Target  \n",
       "8    121.48458    18.8  \n",
       "35   121.51816    27.3  \n",
       "116  121.47883    12.2  \n",
       "249  121.47516    15.0  \n",
       "255  121.48458    17.4  \n",
       "347  121.47353    11.2  "
      ]
     },
     "execution_count": 22,
     "metadata": {},
     "output_type": "execute_result"
    }
   ],
   "source": [
    "df_outliers = df1[df1['Distance'] == 5512.038].append(df1[df1['Distance'] == 6396.283]).append(df1[df1['Distance'] == 6306.153]).append(df1[df1['Distance'] == 5512.038]).append(df1[df1['Distance'] == 6488.021]).append(df1[df1['Latitude'] == 25.01459]).append(df1[df1['Longitude'] == 121.48458]).append(df1[df1['Longitude'] == 121.47883]).append(df1[df1['Longitude'] == 121.47516]).append(df1[df1['Longitude'] == 121.48458]).append(df1[df1['Longitude'] == 121.47353])\n",
    "df_outliers = df_outliers.drop_duplicates()\n",
    "df_outliers = df_outliers.sort_index()\n",
    "df_outliers"
   ]
  },
  {
   "cell_type": "code",
   "execution_count": 23,
   "metadata": {},
   "outputs": [
    {
     "data": {
      "text/html": [
       "<div>\n",
       "<style scoped>\n",
       "    .dataframe tbody tr th:only-of-type {\n",
       "        vertical-align: middle;\n",
       "    }\n",
       "\n",
       "    .dataframe tbody tr th {\n",
       "        vertical-align: top;\n",
       "    }\n",
       "\n",
       "    .dataframe thead th {\n",
       "        text-align: right;\n",
       "    }\n",
       "</style>\n",
       "<table border=\"1\" class=\"dataframe\">\n",
       "  <thead>\n",
       "    <tr style=\"text-align: right;\">\n",
       "      <th></th>\n",
       "      <th>Transaction_Date</th>\n",
       "      <th>House_Age</th>\n",
       "      <th>Distance</th>\n",
       "      <th>Num_Stores_NearBy</th>\n",
       "      <th>Latitude</th>\n",
       "      <th>Longitude</th>\n",
       "      <th>Target</th>\n",
       "    </tr>\n",
       "  </thead>\n",
       "  <tbody>\n",
       "    <tr>\n",
       "      <th>0</th>\n",
       "      <td>2012.916667</td>\n",
       "      <td>32.0</td>\n",
       "      <td>84.87882</td>\n",
       "      <td>10</td>\n",
       "      <td>24.98298</td>\n",
       "      <td>121.54024</td>\n",
       "      <td>37.9</td>\n",
       "    </tr>\n",
       "    <tr>\n",
       "      <th>1</th>\n",
       "      <td>2012.916667</td>\n",
       "      <td>19.5</td>\n",
       "      <td>306.59470</td>\n",
       "      <td>9</td>\n",
       "      <td>24.98034</td>\n",
       "      <td>121.53951</td>\n",
       "      <td>42.2</td>\n",
       "    </tr>\n",
       "    <tr>\n",
       "      <th>2</th>\n",
       "      <td>2013.583333</td>\n",
       "      <td>13.3</td>\n",
       "      <td>561.98450</td>\n",
       "      <td>5</td>\n",
       "      <td>24.98746</td>\n",
       "      <td>121.54391</td>\n",
       "      <td>47.3</td>\n",
       "    </tr>\n",
       "    <tr>\n",
       "      <th>3</th>\n",
       "      <td>2013.500000</td>\n",
       "      <td>13.3</td>\n",
       "      <td>561.98450</td>\n",
       "      <td>5</td>\n",
       "      <td>24.98746</td>\n",
       "      <td>121.54391</td>\n",
       "      <td>54.8</td>\n",
       "    </tr>\n",
       "    <tr>\n",
       "      <th>4</th>\n",
       "      <td>2012.833333</td>\n",
       "      <td>5.0</td>\n",
       "      <td>390.56840</td>\n",
       "      <td>5</td>\n",
       "      <td>24.97937</td>\n",
       "      <td>121.54245</td>\n",
       "      <td>43.1</td>\n",
       "    </tr>\n",
       "    <tr>\n",
       "      <th>...</th>\n",
       "      <td>...</td>\n",
       "      <td>...</td>\n",
       "      <td>...</td>\n",
       "      <td>...</td>\n",
       "      <td>...</td>\n",
       "      <td>...</td>\n",
       "      <td>...</td>\n",
       "    </tr>\n",
       "    <tr>\n",
       "      <th>403</th>\n",
       "      <td>2013.000000</td>\n",
       "      <td>13.7</td>\n",
       "      <td>4082.01500</td>\n",
       "      <td>0</td>\n",
       "      <td>24.94155</td>\n",
       "      <td>121.50381</td>\n",
       "      <td>15.4</td>\n",
       "    </tr>\n",
       "    <tr>\n",
       "      <th>404</th>\n",
       "      <td>2012.666667</td>\n",
       "      <td>5.6</td>\n",
       "      <td>90.45606</td>\n",
       "      <td>9</td>\n",
       "      <td>24.97433</td>\n",
       "      <td>121.54310</td>\n",
       "      <td>50.0</td>\n",
       "    </tr>\n",
       "    <tr>\n",
       "      <th>405</th>\n",
       "      <td>2013.250000</td>\n",
       "      <td>18.8</td>\n",
       "      <td>390.96960</td>\n",
       "      <td>7</td>\n",
       "      <td>24.97923</td>\n",
       "      <td>121.53986</td>\n",
       "      <td>40.6</td>\n",
       "    </tr>\n",
       "    <tr>\n",
       "      <th>406</th>\n",
       "      <td>2013.000000</td>\n",
       "      <td>8.1</td>\n",
       "      <td>104.81010</td>\n",
       "      <td>5</td>\n",
       "      <td>24.96674</td>\n",
       "      <td>121.54067</td>\n",
       "      <td>52.5</td>\n",
       "    </tr>\n",
       "    <tr>\n",
       "      <th>407</th>\n",
       "      <td>2013.500000</td>\n",
       "      <td>6.5</td>\n",
       "      <td>90.45606</td>\n",
       "      <td>9</td>\n",
       "      <td>24.97433</td>\n",
       "      <td>121.54310</td>\n",
       "      <td>63.9</td>\n",
       "    </tr>\n",
       "  </tbody>\n",
       "</table>\n",
       "<p>408 rows × 7 columns</p>\n",
       "</div>"
      ],
      "text/plain": [
       "     Transaction_Date  House_Age    Distance  Num_Stores_NearBy  Latitude  \\\n",
       "0         2012.916667       32.0    84.87882                 10  24.98298   \n",
       "1         2012.916667       19.5   306.59470                  9  24.98034   \n",
       "2         2013.583333       13.3   561.98450                  5  24.98746   \n",
       "3         2013.500000       13.3   561.98450                  5  24.98746   \n",
       "4         2012.833333        5.0   390.56840                  5  24.97937   \n",
       "..                ...        ...         ...                ...       ...   \n",
       "403       2013.000000       13.7  4082.01500                  0  24.94155   \n",
       "404       2012.666667        5.6    90.45606                  9  24.97433   \n",
       "405       2013.250000       18.8   390.96960                  7  24.97923   \n",
       "406       2013.000000        8.1   104.81010                  5  24.96674   \n",
       "407       2013.500000        6.5    90.45606                  9  24.97433   \n",
       "\n",
       "     Longitude  Target  \n",
       "0    121.54024    37.9  \n",
       "1    121.53951    42.2  \n",
       "2    121.54391    47.3  \n",
       "3    121.54391    54.8  \n",
       "4    121.54245    43.1  \n",
       "..         ...     ...  \n",
       "403  121.50381    15.4  \n",
       "404  121.54310    50.0  \n",
       "405  121.53986    40.6  \n",
       "406  121.54067    52.5  \n",
       "407  121.54310    63.9  \n",
       "\n",
       "[408 rows x 7 columns]"
      ]
     },
     "execution_count": 23,
     "metadata": {},
     "output_type": "execute_result"
    }
   ],
   "source": [
    "#Deletion of the outliers from the dataframe\n",
    "df1 = df1.drop(labels=[8,35,116,249,255,347], axis=0)\n",
    "df1.index = np.arange(0, len(df1))\n",
    "df1"
   ]
  },
  {
   "cell_type": "markdown",
   "metadata": {},
   "source": [
    "# 6- Feature scaling (Normalisation)  "
   ]
  },
  {
   "cell_type": "code",
   "execution_count": 24,
   "metadata": {},
   "outputs": [],
   "source": [
    "from sklearn.preprocessing import MinMaxScaler #To make our values between 0 and 1\n",
    "s= MinMaxScaler()\n",
    "df2 =s.fit_transform(df1)\n",
    "\n",
    "#apply the following formula X’=(X-X_min)/(X_max  – X_min)"
   ]
  },
  {
   "cell_type": "code",
   "execution_count": 25,
   "metadata": {},
   "outputs": [
    {
     "data": {
      "text/html": [
       "<div>\n",
       "<style scoped>\n",
       "    .dataframe tbody tr th:only-of-type {\n",
       "        vertical-align: middle;\n",
       "    }\n",
       "\n",
       "    .dataframe tbody tr th {\n",
       "        vertical-align: top;\n",
       "    }\n",
       "\n",
       "    .dataframe thead th {\n",
       "        text-align: right;\n",
       "    }\n",
       "</style>\n",
       "<table border=\"1\" class=\"dataframe\">\n",
       "  <thead>\n",
       "    <tr style=\"text-align: right;\">\n",
       "      <th></th>\n",
       "      <th>Transaction_Date</th>\n",
       "      <th>House_Age</th>\n",
       "      <th>Distance</th>\n",
       "      <th>Num_Stores_NearBy</th>\n",
       "      <th>Latitude</th>\n",
       "      <th>Longitude</th>\n",
       "      <th>Target</th>\n",
       "    </tr>\n",
       "  </thead>\n",
       "  <tbody>\n",
       "    <tr>\n",
       "      <th>0</th>\n",
       "      <td>0.272727</td>\n",
       "      <td>0.730594</td>\n",
       "      <td>0.013420</td>\n",
       "      <td>1.0</td>\n",
       "      <td>0.736972</td>\n",
       "      <td>0.634410</td>\n",
       "      <td>0.275705</td>\n",
       "    </tr>\n",
       "    <tr>\n",
       "      <th>1</th>\n",
       "      <td>0.272727</td>\n",
       "      <td>0.445205</td>\n",
       "      <td>0.061805</td>\n",
       "      <td>0.9</td>\n",
       "      <td>0.698755</td>\n",
       "      <td>0.624157</td>\n",
       "      <td>0.314832</td>\n",
       "    </tr>\n",
       "    <tr>\n",
       "      <th>2</th>\n",
       "      <td>1.000000</td>\n",
       "      <td>0.303653</td>\n",
       "      <td>0.117538</td>\n",
       "      <td>0.5</td>\n",
       "      <td>0.801824</td>\n",
       "      <td>0.685955</td>\n",
       "      <td>0.361237</td>\n",
       "    </tr>\n",
       "    <tr>\n",
       "      <th>3</th>\n",
       "      <td>0.909091</td>\n",
       "      <td>0.303653</td>\n",
       "      <td>0.117538</td>\n",
       "      <td>0.5</td>\n",
       "      <td>0.801824</td>\n",
       "      <td>0.685955</td>\n",
       "      <td>0.429481</td>\n",
       "    </tr>\n",
       "    <tr>\n",
       "      <th>4</th>\n",
       "      <td>0.181818</td>\n",
       "      <td>0.114155</td>\n",
       "      <td>0.080130</td>\n",
       "      <td>0.5</td>\n",
       "      <td>0.684713</td>\n",
       "      <td>0.665449</td>\n",
       "      <td>0.323021</td>\n",
       "    </tr>\n",
       "    <tr>\n",
       "      <th>...</th>\n",
       "      <td>...</td>\n",
       "      <td>...</td>\n",
       "      <td>...</td>\n",
       "      <td>...</td>\n",
       "      <td>...</td>\n",
       "      <td>...</td>\n",
       "      <td>...</td>\n",
       "    </tr>\n",
       "    <tr>\n",
       "      <th>403</th>\n",
       "      <td>0.363636</td>\n",
       "      <td>0.312785</td>\n",
       "      <td>0.885707</td>\n",
       "      <td>0.0</td>\n",
       "      <td>0.137232</td>\n",
       "      <td>0.122753</td>\n",
       "      <td>0.070974</td>\n",
       "    </tr>\n",
       "    <tr>\n",
       "      <th>404</th>\n",
       "      <td>0.000000</td>\n",
       "      <td>0.127854</td>\n",
       "      <td>0.014637</td>\n",
       "      <td>0.9</td>\n",
       "      <td>0.611754</td>\n",
       "      <td>0.674579</td>\n",
       "      <td>0.385805</td>\n",
       "    </tr>\n",
       "    <tr>\n",
       "      <th>405</th>\n",
       "      <td>0.636364</td>\n",
       "      <td>0.429224</td>\n",
       "      <td>0.080218</td>\n",
       "      <td>0.7</td>\n",
       "      <td>0.682687</td>\n",
       "      <td>0.629073</td>\n",
       "      <td>0.300273</td>\n",
       "    </tr>\n",
       "    <tr>\n",
       "      <th>406</th>\n",
       "      <td>0.363636</td>\n",
       "      <td>0.184932</td>\n",
       "      <td>0.017770</td>\n",
       "      <td>0.5</td>\n",
       "      <td>0.501882</td>\n",
       "      <td>0.640449</td>\n",
       "      <td>0.408553</td>\n",
       "    </tr>\n",
       "    <tr>\n",
       "      <th>407</th>\n",
       "      <td>0.909091</td>\n",
       "      <td>0.148402</td>\n",
       "      <td>0.014637</td>\n",
       "      <td>0.9</td>\n",
       "      <td>0.611754</td>\n",
       "      <td>0.674579</td>\n",
       "      <td>0.512284</td>\n",
       "    </tr>\n",
       "  </tbody>\n",
       "</table>\n",
       "<p>408 rows × 7 columns</p>\n",
       "</div>"
      ],
      "text/plain": [
       "     Transaction_Date  House_Age  Distance  Num_Stores_NearBy  Latitude  \\\n",
       "0            0.272727   0.730594  0.013420                1.0  0.736972   \n",
       "1            0.272727   0.445205  0.061805                0.9  0.698755   \n",
       "2            1.000000   0.303653  0.117538                0.5  0.801824   \n",
       "3            0.909091   0.303653  0.117538                0.5  0.801824   \n",
       "4            0.181818   0.114155  0.080130                0.5  0.684713   \n",
       "..                ...        ...       ...                ...       ...   \n",
       "403          0.363636   0.312785  0.885707                0.0  0.137232   \n",
       "404          0.000000   0.127854  0.014637                0.9  0.611754   \n",
       "405          0.636364   0.429224  0.080218                0.7  0.682687   \n",
       "406          0.363636   0.184932  0.017770                0.5  0.501882   \n",
       "407          0.909091   0.148402  0.014637                0.9  0.611754   \n",
       "\n",
       "     Longitude    Target  \n",
       "0     0.634410  0.275705  \n",
       "1     0.624157  0.314832  \n",
       "2     0.685955  0.361237  \n",
       "3     0.685955  0.429481  \n",
       "4     0.665449  0.323021  \n",
       "..         ...       ...  \n",
       "403   0.122753  0.070974  \n",
       "404   0.674579  0.385805  \n",
       "405   0.629073  0.300273  \n",
       "406   0.640449  0.408553  \n",
       "407   0.674579  0.512284  \n",
       "\n",
       "[408 rows x 7 columns]"
      ]
     },
     "execution_count": 25,
     "metadata": {},
     "output_type": "execute_result"
    }
   ],
   "source": [
    "import pandas as pd\n",
    "import numpy as np\n",
    "df2=pd.DataFrame(df2)\n",
    "df2.columns= df1.columns # rename the features of df2 and give them the name of features of df1\n",
    "df2"
   ]
  },
  {
   "cell_type": "markdown",
   "metadata": {},
   "source": [
    "# Linear Regression "
   ]
  },
  {
   "cell_type": "code",
   "execution_count": 26,
   "metadata": {},
   "outputs": [
    {
     "name": "stdout",
     "output_type": "stream",
     "text": [
      "     Transaction_Date  House_Age  Distance  Num_Stores_NearBy  Latitude  \\\n",
      "0            0.272727   0.730594  0.013420                1.0  0.736972   \n",
      "1            0.272727   0.445205  0.061805                0.9  0.698755   \n",
      "2            1.000000   0.303653  0.117538                0.5  0.801824   \n",
      "3            0.909091   0.303653  0.117538                0.5  0.801824   \n",
      "4            0.181818   0.114155  0.080130                0.5  0.684713   \n",
      "..                ...        ...       ...                ...       ...   \n",
      "403          0.363636   0.312785  0.885707                0.0  0.137232   \n",
      "404          0.000000   0.127854  0.014637                0.9  0.611754   \n",
      "405          0.636364   0.429224  0.080218                0.7  0.682687   \n",
      "406          0.363636   0.184932  0.017770                0.5  0.501882   \n",
      "407          0.909091   0.148402  0.014637                0.9  0.611754   \n",
      "\n",
      "     Longitude    Target  \n",
      "0     0.634410  0.275705  \n",
      "1     0.624157  0.314832  \n",
      "2     0.685955  0.361237  \n",
      "3     0.685955  0.429481  \n",
      "4     0.665449  0.323021  \n",
      "..         ...       ...  \n",
      "403   0.122753  0.070974  \n",
      "404   0.674579  0.385805  \n",
      "405   0.629073  0.300273  \n",
      "406   0.640449  0.408553  \n",
      "407   0.674579  0.512284  \n",
      "\n",
      "[408 rows x 7 columns]\n",
      "      X0  Transaction_Date  House_Age  Distance  Num_Stores_NearBy  Latitude  \\\n",
      "0    1.0          0.272727   0.730594  0.013420                1.0  0.736972   \n",
      "1    1.0          0.272727   0.445205  0.061805                0.9  0.698755   \n",
      "2    1.0          1.000000   0.303653  0.117538                0.5  0.801824   \n",
      "3    1.0          0.909091   0.303653  0.117538                0.5  0.801824   \n",
      "4    1.0          0.181818   0.114155  0.080130                0.5  0.684713   \n",
      "..   ...               ...        ...       ...                ...       ...   \n",
      "403  1.0          0.363636   0.312785  0.885707                0.0  0.137232   \n",
      "404  1.0          0.000000   0.127854  0.014637                0.9  0.611754   \n",
      "405  1.0          0.636364   0.429224  0.080218                0.7  0.682687   \n",
      "406  1.0          0.363636   0.184932  0.017770                0.5  0.501882   \n",
      "407  1.0          0.909091   0.148402  0.014637                0.9  0.611754   \n",
      "\n",
      "     Longitude    Target  \n",
      "0     0.634410  0.275705  \n",
      "1     0.624157  0.314832  \n",
      "2     0.685955  0.361237  \n",
      "3     0.685955  0.429481  \n",
      "4     0.665449  0.323021  \n",
      "..         ...       ...  \n",
      "403   0.122753  0.070974  \n",
      "404   0.674579  0.385805  \n",
      "405   0.629073  0.300273  \n",
      "406   0.640449  0.408553  \n",
      "407   0.674579  0.512284  \n",
      "\n",
      "[408 rows x 8 columns]\n"
     ]
    }
   ],
   "source": [
    "import pandas as pd\n",
    "import numpy as np\n",
    "\n",
    "Data1= pd.DataFrame(df2)\n",
    "print(Data1)\n",
    "\n",
    "X0= np.ones((408,1)) # prepare the column X0 which contains only 1 in order to  add it to use it after \n",
    "#print(X0)\n",
    "\n",
    "X11= np.append(X0, Data1 , axis=1)\n",
    "#print(X11)\n",
    "\n",
    "yy=pd.DataFrame(X11, columns=['X0','Transaction_Date','House_Age','Distance','Num_Stores_NearBy','Latitude','Longitude','Target'])\n",
    "print(yy)"
   ]
  },
  {
   "cell_type": "code",
   "execution_count": 27,
   "metadata": {},
   "outputs": [
    {
     "name": "stdout",
     "output_type": "stream",
     "text": [
      "0      0.275705\n",
      "1      0.314832\n",
      "2      0.361237\n",
      "3      0.429481\n",
      "4      0.323021\n",
      "         ...   \n",
      "403    0.070974\n",
      "404    0.385805\n",
      "405    0.300273\n",
      "406    0.408553\n",
      "407    0.512284\n",
      "Name: Target, Length: 408, dtype: float64\n"
     ]
    }
   ],
   "source": [
    "Y = Data1['Target'] \n",
    "print(Y)"
   ]
  },
  {
   "cell_type": "code",
   "execution_count": 28,
   "metadata": {},
   "outputs": [],
   "source": [
    "data_train = yy.sample(frac=0.6, random_state = 1)\n",
    "data_test = yy.drop(data_train.index)\n",
    "data_train.reset_index(drop=True,inplace=True)\n",
    "data_test.reset_index(drop=True,inplace=True)\n",
    "data_test1 = data_test.sample(frac=0.5, random_state = 1)\n",
    "data_valid = data_test.drop(data_test1.index)\n",
    "data_test1.reset_index(drop=True,inplace=True)\n",
    "data_valid.reset_index(drop=True,inplace=True)"
   ]
  },
  {
   "cell_type": "code",
   "execution_count": 29,
   "metadata": {},
   "outputs": [
    {
     "name": "stdout",
     "output_type": "stream",
     "text": [
      "(245, 8)\n",
      "(82, 8)\n",
      "(81, 8)\n"
     ]
    }
   ],
   "source": [
    "#print(base_train.shape)\n",
    "#print(base_test1.shape)\n",
    "#print(base_valid.shape)\n",
    "\n",
    "print(data_train.shape)\n",
    "print(data_test1.shape)\n",
    "print(data_valid.shape)"
   ]
  },
  {
   "cell_type": "code",
   "execution_count": 30,
   "metadata": {},
   "outputs": [],
   "source": [
    "X_train = data_train.drop(['Target'],axis=1)\n",
    "Y_train = data_train[['Target']]\n",
    "#print(X_train)\n",
    "#print(Y_train)"
   ]
  },
  {
   "cell_type": "code",
   "execution_count": 31,
   "metadata": {},
   "outputs": [],
   "source": [
    "X_test1 = data_test1.drop(['Target'],axis=1)\n",
    "Y_test1 = data_test1[['Target']]\n",
    "#print(base_test1_X)\n",
    "#print(base_test1_Y)"
   ]
  },
  {
   "cell_type": "code",
   "execution_count": 32,
   "metadata": {},
   "outputs": [
    {
     "name": "stdout",
     "output_type": "stream",
     "text": [
      "     X0  Transaction_Date  House_Age  Distance  Num_Stores_NearBy  Latitude  \\\n",
      "0   1.0          1.000000   0.303653  0.117538                0.5  0.801824   \n",
      "1   1.0          0.818182   0.463470  0.057660                0.6  0.699913   \n",
      "2   1.0          0.272727   0.335616  0.291717                0.1  0.289085   \n",
      "3   1.0          0.454545   0.230594  0.055820                0.7  0.625507   \n",
      "4   1.0          0.454545   0.668950  0.319591                0.2  0.627533   \n",
      "..  ...               ...        ...       ...                ...       ...   \n",
      "76  1.0          0.818182   0.335616  0.369637                0.2  0.469021   \n",
      "77  1.0          0.818182   0.182648  0.023823                0.9  0.736972   \n",
      "78  1.0          0.181818   0.289954  0.035811                0.1  0.605240   \n",
      "79  1.0          0.818182   0.422374  0.469705                0.3  0.452085   \n",
      "80  1.0          0.636364   0.429224  0.080218                0.7  0.682687   \n",
      "\n",
      "    Longitude  \n",
      "0    0.685955  \n",
      "1    0.663062  \n",
      "2    0.749298  \n",
      "3    0.707022  \n",
      "4    0.311657  \n",
      "..        ...  \n",
      "76   0.300843  \n",
      "77   0.628371  \n",
      "78   0.487921  \n",
      "79   0.243820  \n",
      "80   0.629073  \n",
      "\n",
      "[81 rows x 7 columns]\n",
      "      Target\n",
      "0   0.361237\n",
      "1   0.355778\n",
      "2   0.154686\n",
      "3   0.366697\n",
      "4   0.176524\n",
      "..       ...\n",
      "76  0.208371\n",
      "77  0.361237\n",
      "78  0.190173\n",
      "79  0.186533\n",
      "80  0.300273\n",
      "\n",
      "[81 rows x 1 columns]\n"
     ]
    }
   ],
   "source": [
    "X_valid = data_valid.drop(['Target'],axis=1)\n",
    "Y_valid = data_valid[['Target']]\n",
    "print(X_valid)\n",
    "print(Y_valid)"
   ]
  },
  {
   "cell_type": "code",
   "execution_count": 33,
   "metadata": {},
   "outputs": [
    {
     "name": "stdout",
     "output_type": "stream",
     "text": [
      "Mean squared error: 0.01\n",
      "R²: 0.42\n"
     ]
    }
   ],
   "source": [
    "import pandas as pd\n",
    "import numpy as np\n",
    "import matplotlib.pyplot as plt\n",
    "from sklearn.linear_model import LinearRegression\n",
    "from sklearn.model_selection import train_test_split\n",
    "import statsmodels.formula.api as sm\n",
    "from sklearn.metrics import mean_squared_error, r2_score\n",
    "\n",
    "reg = LinearRegression()\n",
    "reg.fit(X_train[['X0','Transaction_Date','House_Age','Distance','Num_Stores_NearBy','Latitude','Longitude']], Y_train)\n",
    "y_predicted = reg.predict(X_test1[['X0','Transaction_Date','House_Age','Distance','Num_Stores_NearBy','Latitude','Longitude']])\n",
    "print(\"Mean squared error: %.2f\" % mean_squared_error(Y_test1, y_predicted))\n",
    "print('R²: %.2f' % r2_score(Y_test1, y_predicted))"
   ]
  },
  {
   "cell_type": "code",
   "execution_count": 34,
   "metadata": {},
   "outputs": [
    {
     "name": "stdout",
     "output_type": "stream",
     "text": [
      "       Target\n",
      "0    0.313922\n",
      "1    0.161056\n",
      "2    0.145587\n",
      "3    0.303913\n",
      "4    0.292084\n",
      "..        ...\n",
      "240  0.465878\n",
      "241  0.277525\n",
      "242  0.050955\n",
      "243  0.353048\n",
      "244  0.071884\n",
      "\n",
      "[245 rows x 1 columns]\n"
     ]
    }
   ],
   "source": [
    "from sklearn import linear_model    \n",
    "from sklearn.linear_model import LinearRegression\n",
    "import matplotlib.pyplot as plt\n",
    "ML =linear_model.LinearRegression()\n",
    "ML.fit(X_train, Y_train)\n",
    "print(Y_train)"
   ]
  },
  {
   "cell_type": "code",
   "execution_count": 35,
   "metadata": {},
   "outputs": [
    {
     "name": "stdout",
     "output_type": "stream",
     "text": [
      "[[0.05325837]\n",
      " [0.31749339]\n",
      " [0.27447799]\n",
      " [0.31726626]\n",
      " [0.19969632]\n",
      " [0.30483097]\n",
      " [0.33078098]\n",
      " [0.2643468 ]\n",
      " [0.26066333]\n",
      " [0.34780806]\n",
      " [0.2050707 ]\n",
      " [0.3517367 ]\n",
      " [0.34153943]\n",
      " [0.34540353]\n",
      " [0.20104284]\n",
      " [0.17420686]\n",
      " [0.30114135]\n",
      " [0.23037482]\n",
      " [0.28329916]\n",
      " [0.32143495]\n",
      " [0.3934915 ]\n",
      " [0.41197138]\n",
      " [0.41077211]\n",
      " [0.23195786]\n",
      " [0.29083576]\n",
      " [0.29277475]\n",
      " [0.38848345]\n",
      " [0.39374141]\n",
      " [0.37312936]\n",
      " [0.3014391 ]\n",
      " [0.18577474]\n",
      " [0.33697363]\n",
      " [0.32551669]\n",
      " [0.25780933]\n",
      " [0.18119013]\n",
      " [0.36789135]\n",
      " [0.28073249]\n",
      " [0.37148752]\n",
      " [0.31486441]\n",
      " [0.18904848]\n",
      " [0.38792192]\n",
      " [0.19855906]\n",
      " [0.3658997 ]\n",
      " [0.2055485 ]\n",
      " [0.29791486]\n",
      " [0.29362521]\n",
      " [0.3574339 ]\n",
      " [0.30696123]\n",
      " [0.28820678]\n",
      " [0.23200483]\n",
      " [0.06743314]\n",
      " [0.31749339]\n",
      " [0.26837309]\n",
      " [0.39612048]\n",
      " [0.16806088]\n",
      " [0.31938954]\n",
      " [0.35550139]\n",
      " [0.34438327]\n",
      " [0.3661649 ]\n",
      " [0.23355169]\n",
      " [0.36301839]\n",
      " [0.16659536]\n",
      " [0.40836758]\n",
      " [0.22427801]\n",
      " [0.27781581]\n",
      " [0.074033  ]\n",
      " [0.06143746]\n",
      " [0.29388945]\n",
      " [0.26182231]\n",
      " [0.27352798]\n",
      " [0.29524785]\n",
      " [0.36834498]\n",
      " [0.16566748]\n",
      " [0.42444292]\n",
      " [0.37744557]\n",
      " [0.36941663]\n",
      " [0.33434041]\n",
      " [0.28219648]\n",
      " [0.34332939]\n",
      " [0.35043704]\n",
      " [0.40070509]\n",
      " [0.32379625]]\n"
     ]
    }
   ],
   "source": [
    "y_pred=ML.predict(X_test1)\n",
    "print(y_pred)"
   ]
  },
  {
   "cell_type": "code",
   "execution_count": 36,
   "metadata": {},
   "outputs": [
    {
     "data": {
      "text/plain": [
       "0.42188642168139157"
      ]
     },
     "execution_count": 36,
     "metadata": {},
     "output_type": "execute_result"
    }
   ],
   "source": [
    "from sklearn.metrics import r2_score\n",
    "r2_score(Y_test1,y_pred)"
   ]
  },
  {
   "cell_type": "code",
   "execution_count": 37,
   "metadata": {},
   "outputs": [
    {
     "data": {
      "text/plain": [
       "Text(0, 0.5, 'Y pred')"
      ]
     },
     "execution_count": 37,
     "metadata": {},
     "output_type": "execute_result"
    },
    {
     "data": {
      "image/png": "[encoded data removed]",
      "text/plain": [
       "<Figure size 432x432 with 1 Axes>"
      ]
     },
     "metadata": {
      "needs_background": "light"
     },
     "output_type": "display_data"
    }
   ],
   "source": [
    "import matplotlib.pyplot as plt \n",
    "plt.figure(figsize=(6,6))\n",
    "plt.scatter(Y_test1 ,y_pred)\n",
    "plt.xlabel('Y test ')\n",
    "plt.ylabel('Y pred')\n",
    "#plt.title('old values vs prediction')"
   ]
  },
  {
   "cell_type": "code",
   "execution_count": 38,
   "metadata": {},
   "outputs": [
    {
     "name": "stdout",
     "output_type": "stream",
     "text": [
      "Mean squared error: 0.01\n"
     ]
    }
   ],
   "source": [
    "from sklearn.metrics import r2_score\n",
    "r2_score(Y_test1,y_pred)\n",
    "print(\"Mean squared error: %.2f\" % mean_squared_error(Y_test1, y_pred))"
   ]
  },
  {
   "cell_type": "code",
   "execution_count": 39,
   "metadata": {},
   "outputs": [
    {
     "name": "stdout",
     "output_type": "stream",
     "text": [
      "(82, 1)\n",
      "(82, 1)\n",
      "0     0.049136\n",
      "1     0.367607\n",
      "2     0.315742\n",
      "3     0.369427\n",
      "4     0.133758\n",
      "        ...   \n",
      "77    0.263876\n",
      "78    0.289354\n",
      "79    0.398544\n",
      "80    0.458599\n",
      "81    0.296633\n",
      "Name: Target, Length: 82, dtype: float64\n",
      "0     0.053258\n",
      "1     0.317493\n",
      "2     0.274478\n",
      "3     0.317266\n",
      "4     0.199696\n",
      "        ...   \n",
      "77    0.282196\n",
      "78    0.343329\n",
      "79    0.350437\n",
      "80    0.400705\n",
      "81    0.323796\n",
      "Name: 0, Length: 82, dtype: float64\n"
     ]
    }
   ],
   "source": [
    "#predicted_y_df= pd.DataFrame({'Actual Value':Y_test1,'Predicted Value':y_pred , 'Difference':(y_test - y_pred)})\n",
    "#predicted_y_df[0:10]\n",
    "print(Y_test1.shape)\n",
    "print(y_pred.shape)\n",
    "\n",
    "y_testtt=Y_test1.iloc[:,-1]\n",
    "print(y_testtt)\n",
    "y_prediction =pd.DataFrame(y_pred)\n",
    "y_predd=y_prediction.iloc[:,-1]\n",
    "print(y_predd)"
   ]
  },
  {
   "cell_type": "code",
   "execution_count": 40,
   "metadata": {},
   "outputs": [
    {
     "data": {
      "text/plain": [
       "[<matplotlib.lines.Line2D at 0x2115f987910>]"
      ]
     },
     "execution_count": 40,
     "metadata": {},
     "output_type": "execute_result"
    },
    {
     "data": {
      "image/png": "[encoded data removed]",
      "text/plain": [
       "<Figure size 720x720 with 1 Axes>"
      ]
     },
     "metadata": {
      "needs_background": "light"
     },
     "output_type": "display_data"
    }
   ],
   "source": [
    "import matplotlib.pyplot as plt \n",
    "\n",
    "plt.figure(figsize=(10,10))\n",
    "plt.scatter(y_testtt,y_predd)\n",
    "plt.xlabel('old values')\n",
    "plt.ylabel('prediction')\n",
    "plt.title('old values vs prediction')\n",
    "\n",
    "a=np.linspace(min(y_testtt) ,max(y_predd),25)\n",
    "b=0.1+0.5*a\n",
    "plt.plot(a , b , color='g')\n",
    "\n",
    "\n",
    "a=np.linspace(min(y_testtt) ,max(y_predd), 25)\n",
    "b=0.15+0.5*a\n",
    "plt.plot(a , b , color='r')\n",
    "\n",
    "\n",
    "a=np.linspace(min(y_testtt) ,max(y_predd), 25)\n",
    "b=0.11+0.5*a\n",
    "plt.plot(a , b , color='b')\n",
    "\n",
    "#a=np.linspace(min(Y_test1) ,max(y_pred), 10)\n",
    "#b=2+0.80*a\n",
    "#plt.plot(a , b , color='g')\n",
    "\n",
    "#a=np.linspace(min(Y_test1) ,max(y_pred), 10)\n",
    "#b=9+0.85*a\n",
    "#plt.plot(a , b , color='b') "
   ]
  },
  {
   "cell_type": "code",
   "execution_count": 41,
   "metadata": {},
   "outputs": [
    {
     "data": {
      "image/png": "[encoded data removed]",
      "text/plain": [
       "<Figure size 432x288 with 1 Axes>"
      ]
     },
     "metadata": {
      "needs_background": "light"
     },
     "output_type": "display_data"
    }
   ],
   "source": [
    "import numpy\n",
    "import matplotlib.pyplot as plt\n",
    "\n",
    "mymodel = numpy.poly1d(numpy.polyfit(y_testtt,y_predd, 5))\n",
    "\n",
    "myline = numpy.linspace(0, 1)\n",
    "\n",
    "plt.scatter(y_testtt,y_predd)\n",
    "plt.plot(myline, mymodel(myline))\n",
    "plt.show()"
   ]
  },
  {
   "cell_type": "code",
   "execution_count": 42,
   "metadata": {},
   "outputs": [
    {
     "data": {
      "image/png": "[encoded data removed]",
      "text/plain": [
       "<Figure size 432x288 with 1 Axes>"
      ]
     },
     "metadata": {
      "needs_background": "light"
     },
     "output_type": "display_data"
    }
   ],
   "source": [
    "import numpy\n",
    "import matplotlib.pyplot as plt\n",
    "\n",
    "mymodel = numpy.poly1d(numpy.polyfit(y_testtt,y_predd, 4))\n",
    "\n",
    "myline = numpy.linspace(0, 1)\n",
    "\n",
    "plt.scatter(y_testtt,y_predd)\n",
    "plt.plot(myline, mymodel(myline))\n",
    "plt.show()"
   ]
  },
  {
   "cell_type": "code",
   "execution_count": 43,
   "metadata": {},
   "outputs": [
    {
     "data": {
      "image/png": "[encoded data removed]",
      "text/plain": [
       "<Figure size 432x288 with 1 Axes>"
      ]
     },
     "metadata": {
      "needs_background": "light"
     },
     "output_type": "display_data"
    }
   ],
   "source": [
    "import numpy\n",
    "import matplotlib.pyplot as plt\n",
    "\n",
    "mymodel = numpy.poly1d(numpy.polyfit(y_testtt,y_predd, 2))\n",
    "\n",
    "myline = numpy.linspace(0, 1)\n",
    "\n",
    "plt.scatter(y_testtt,y_predd)\n",
    "plt.plot(myline, mymodel(myline))\n",
    "plt.show()"
   ]
  },
  {
   "cell_type": "code",
   "execution_count": 44,
   "metadata": {},
   "outputs": [
    {
     "data": {
      "image/png": "[encoded data removed]",
      "text/plain": [
       "<Figure size 432x288 with 1 Axes>"
      ]
     },
     "metadata": {
      "needs_background": "light"
     },
     "output_type": "display_data"
    }
   ],
   "source": [
    "import numpy\n",
    "import matplotlib.pyplot as plt\n",
    "\n",
    "mymodel = numpy.poly1d(numpy.polyfit(y_testtt,y_predd, 3))\n",
    "\n",
    "myline = numpy.linspace(0, 1)\n",
    "\n",
    "plt.scatter(y_testtt,y_predd)\n",
    "plt.plot(myline, mymodel(myline))\n",
    "plt.show()\n"
   ]
  },
  {
   "cell_type": "code",
   "execution_count": 45,
   "metadata": {},
   "outputs": [
    {
     "data": {
      "text/html": [
       "<div>\n",
       "<style scoped>\n",
       "    .dataframe tbody tr th:only-of-type {\n",
       "        vertical-align: middle;\n",
       "    }\n",
       "\n",
       "    .dataframe tbody tr th {\n",
       "        vertical-align: top;\n",
       "    }\n",
       "\n",
       "    .dataframe thead th {\n",
       "        text-align: right;\n",
       "    }\n",
       "</style>\n",
       "<table border=\"1\" class=\"dataframe\">\n",
       "  <thead>\n",
       "    <tr style=\"text-align: right;\">\n",
       "      <th></th>\n",
       "      <th>Actual Value</th>\n",
       "      <th>Predicted Value</th>\n",
       "      <th>Difference</th>\n",
       "    </tr>\n",
       "  </thead>\n",
       "  <tbody>\n",
       "    <tr>\n",
       "      <th>0</th>\n",
       "      <td>0.049136</td>\n",
       "      <td>0.053258</td>\n",
       "      <td>-0.004123</td>\n",
       "    </tr>\n",
       "    <tr>\n",
       "      <th>1</th>\n",
       "      <td>0.367607</td>\n",
       "      <td>0.317493</td>\n",
       "      <td>0.050114</td>\n",
       "    </tr>\n",
       "    <tr>\n",
       "      <th>2</th>\n",
       "      <td>0.315742</td>\n",
       "      <td>0.274478</td>\n",
       "      <td>0.041264</td>\n",
       "    </tr>\n",
       "    <tr>\n",
       "      <th>3</th>\n",
       "      <td>0.369427</td>\n",
       "      <td>0.317266</td>\n",
       "      <td>0.052160</td>\n",
       "    </tr>\n",
       "    <tr>\n",
       "      <th>4</th>\n",
       "      <td>0.133758</td>\n",
       "      <td>0.199696</td>\n",
       "      <td>-0.065938</td>\n",
       "    </tr>\n",
       "    <tr>\n",
       "      <th>5</th>\n",
       "      <td>0.236579</td>\n",
       "      <td>0.304831</td>\n",
       "      <td>-0.068252</td>\n",
       "    </tr>\n",
       "    <tr>\n",
       "      <th>6</th>\n",
       "      <td>0.243858</td>\n",
       "      <td>0.330781</td>\n",
       "      <td>-0.086923</td>\n",
       "    </tr>\n",
       "    <tr>\n",
       "      <th>7</th>\n",
       "      <td>0.367607</td>\n",
       "      <td>0.264347</td>\n",
       "      <td>0.103260</td>\n",
       "    </tr>\n",
       "    <tr>\n",
       "      <th>8</th>\n",
       "      <td>0.300273</td>\n",
       "      <td>0.260663</td>\n",
       "      <td>0.039610</td>\n",
       "    </tr>\n",
       "    <tr>\n",
       "      <th>9</th>\n",
       "      <td>0.351228</td>\n",
       "      <td>0.347808</td>\n",
       "      <td>0.003420</td>\n",
       "    </tr>\n",
       "  </tbody>\n",
       "</table>\n",
       "</div>"
      ],
      "text/plain": [
       "   Actual Value  Predicted Value  Difference\n",
       "0      0.049136         0.053258   -0.004123\n",
       "1      0.367607         0.317493    0.050114\n",
       "2      0.315742         0.274478    0.041264\n",
       "3      0.369427         0.317266    0.052160\n",
       "4      0.133758         0.199696   -0.065938\n",
       "5      0.236579         0.304831   -0.068252\n",
       "6      0.243858         0.330781   -0.086923\n",
       "7      0.367607         0.264347    0.103260\n",
       "8      0.300273         0.260663    0.039610\n",
       "9      0.351228         0.347808    0.003420"
      ]
     },
     "execution_count": 45,
     "metadata": {},
     "output_type": "execute_result"
    }
   ],
   "source": [
    "pred_y_df=pd.DataFrame({'Actual Value':y_testtt,'Predicted Value':y_predd, 'Difference':(y_testtt-y_predd)})\n",
    "pred_y_df[0:10]"
   ]
  },
  {
   "cell_type": "markdown",
   "metadata": {},
   "source": [
    "# Gradient Descent "
   ]
  },
  {
   "cell_type": "code",
   "execution_count": 46,
   "metadata": {},
   "outputs": [
    {
     "data": {
      "text/html": [
       "<div>\n",
       "<style scoped>\n",
       "    .dataframe tbody tr th:only-of-type {\n",
       "        vertical-align: middle;\n",
       "    }\n",
       "\n",
       "    .dataframe tbody tr th {\n",
       "        vertical-align: top;\n",
       "    }\n",
       "\n",
       "    .dataframe thead th {\n",
       "        text-align: right;\n",
       "    }\n",
       "</style>\n",
       "<table border=\"1\" class=\"dataframe\">\n",
       "  <thead>\n",
       "    <tr style=\"text-align: right;\">\n",
       "      <th></th>\n",
       "      <th>Transaction_Date</th>\n",
       "      <th>House_Age</th>\n",
       "      <th>Distance</th>\n",
       "      <th>Num_Stores_NearBy</th>\n",
       "      <th>Latitude</th>\n",
       "      <th>Longitude</th>\n",
       "      <th>Target</th>\n",
       "    </tr>\n",
       "  </thead>\n",
       "  <tbody>\n",
       "    <tr>\n",
       "      <th>0</th>\n",
       "      <td>0.272727</td>\n",
       "      <td>0.730594</td>\n",
       "      <td>0.013420</td>\n",
       "      <td>1.0</td>\n",
       "      <td>0.736972</td>\n",
       "      <td>0.634410</td>\n",
       "      <td>0.275705</td>\n",
       "    </tr>\n",
       "    <tr>\n",
       "      <th>1</th>\n",
       "      <td>0.272727</td>\n",
       "      <td>0.445205</td>\n",
       "      <td>0.061805</td>\n",
       "      <td>0.9</td>\n",
       "      <td>0.698755</td>\n",
       "      <td>0.624157</td>\n",
       "      <td>0.314832</td>\n",
       "    </tr>\n",
       "    <tr>\n",
       "      <th>2</th>\n",
       "      <td>1.000000</td>\n",
       "      <td>0.303653</td>\n",
       "      <td>0.117538</td>\n",
       "      <td>0.5</td>\n",
       "      <td>0.801824</td>\n",
       "      <td>0.685955</td>\n",
       "      <td>0.361237</td>\n",
       "    </tr>\n",
       "    <tr>\n",
       "      <th>3</th>\n",
       "      <td>0.909091</td>\n",
       "      <td>0.303653</td>\n",
       "      <td>0.117538</td>\n",
       "      <td>0.5</td>\n",
       "      <td>0.801824</td>\n",
       "      <td>0.685955</td>\n",
       "      <td>0.429481</td>\n",
       "    </tr>\n",
       "    <tr>\n",
       "      <th>4</th>\n",
       "      <td>0.181818</td>\n",
       "      <td>0.114155</td>\n",
       "      <td>0.080130</td>\n",
       "      <td>0.5</td>\n",
       "      <td>0.684713</td>\n",
       "      <td>0.665449</td>\n",
       "      <td>0.323021</td>\n",
       "    </tr>\n",
       "    <tr>\n",
       "      <th>...</th>\n",
       "      <td>...</td>\n",
       "      <td>...</td>\n",
       "      <td>...</td>\n",
       "      <td>...</td>\n",
       "      <td>...</td>\n",
       "      <td>...</td>\n",
       "      <td>...</td>\n",
       "    </tr>\n",
       "    <tr>\n",
       "      <th>403</th>\n",
       "      <td>0.363636</td>\n",
       "      <td>0.312785</td>\n",
       "      <td>0.885707</td>\n",
       "      <td>0.0</td>\n",
       "      <td>0.137232</td>\n",
       "      <td>0.122753</td>\n",
       "      <td>0.070974</td>\n",
       "    </tr>\n",
       "    <tr>\n",
       "      <th>404</th>\n",
       "      <td>0.000000</td>\n",
       "      <td>0.127854</td>\n",
       "      <td>0.014637</td>\n",
       "      <td>0.9</td>\n",
       "      <td>0.611754</td>\n",
       "      <td>0.674579</td>\n",
       "      <td>0.385805</td>\n",
       "    </tr>\n",
       "    <tr>\n",
       "      <th>405</th>\n",
       "      <td>0.636364</td>\n",
       "      <td>0.429224</td>\n",
       "      <td>0.080218</td>\n",
       "      <td>0.7</td>\n",
       "      <td>0.682687</td>\n",
       "      <td>0.629073</td>\n",
       "      <td>0.300273</td>\n",
       "    </tr>\n",
       "    <tr>\n",
       "      <th>406</th>\n",
       "      <td>0.363636</td>\n",
       "      <td>0.184932</td>\n",
       "      <td>0.017770</td>\n",
       "      <td>0.5</td>\n",
       "      <td>0.501882</td>\n",
       "      <td>0.640449</td>\n",
       "      <td>0.408553</td>\n",
       "    </tr>\n",
       "    <tr>\n",
       "      <th>407</th>\n",
       "      <td>0.909091</td>\n",
       "      <td>0.148402</td>\n",
       "      <td>0.014637</td>\n",
       "      <td>0.9</td>\n",
       "      <td>0.611754</td>\n",
       "      <td>0.674579</td>\n",
       "      <td>0.512284</td>\n",
       "    </tr>\n",
       "  </tbody>\n",
       "</table>\n",
       "<p>408 rows × 7 columns</p>\n",
       "</div>"
      ],
      "text/plain": [
       "     Transaction_Date  House_Age  Distance  Num_Stores_NearBy  Latitude  \\\n",
       "0            0.272727   0.730594  0.013420                1.0  0.736972   \n",
       "1            0.272727   0.445205  0.061805                0.9  0.698755   \n",
       "2            1.000000   0.303653  0.117538                0.5  0.801824   \n",
       "3            0.909091   0.303653  0.117538                0.5  0.801824   \n",
       "4            0.181818   0.114155  0.080130                0.5  0.684713   \n",
       "..                ...        ...       ...                ...       ...   \n",
       "403          0.363636   0.312785  0.885707                0.0  0.137232   \n",
       "404          0.000000   0.127854  0.014637                0.9  0.611754   \n",
       "405          0.636364   0.429224  0.080218                0.7  0.682687   \n",
       "406          0.363636   0.184932  0.017770                0.5  0.501882   \n",
       "407          0.909091   0.148402  0.014637                0.9  0.611754   \n",
       "\n",
       "     Longitude    Target  \n",
       "0     0.634410  0.275705  \n",
       "1     0.624157  0.314832  \n",
       "2     0.685955  0.361237  \n",
       "3     0.685955  0.429481  \n",
       "4     0.665449  0.323021  \n",
       "..         ...       ...  \n",
       "403   0.122753  0.070974  \n",
       "404   0.674579  0.385805  \n",
       "405   0.629073  0.300273  \n",
       "406   0.640449  0.408553  \n",
       "407   0.674579  0.512284  \n",
       "\n",
       "[408 rows x 7 columns]"
      ]
     },
     "execution_count": 46,
     "metadata": {},
     "output_type": "execute_result"
    }
   ],
   "source": [
    "df2"
   ]
  },
  {
   "cell_type": "code",
   "execution_count": 47,
   "metadata": {},
   "outputs": [
    {
     "name": "stdout",
     "output_type": "stream",
     "text": [
      "(408, 6)\n"
     ]
    }
   ],
   "source": [
    "X1222=df2.drop(['Target'],axis=1).values\n",
    "y1222=df2['Target'].values\n",
    "print(X1222.shape)"
   ]
  },
  {
   "cell_type": "code",
   "execution_count": 48,
   "metadata": {},
   "outputs": [
    {
     "data": {
      "text/html": [
       "<div>\n",
       "<style scoped>\n",
       "    .dataframe tbody tr th:only-of-type {\n",
       "        vertical-align: middle;\n",
       "    }\n",
       "\n",
       "    .dataframe tbody tr th {\n",
       "        vertical-align: top;\n",
       "    }\n",
       "\n",
       "    .dataframe thead th {\n",
       "        text-align: right;\n",
       "    }\n",
       "</style>\n",
       "<table border=\"1\" class=\"dataframe\">\n",
       "  <thead>\n",
       "    <tr style=\"text-align: right;\">\n",
       "      <th></th>\n",
       "      <th>X0</th>\n",
       "      <th>Transaction_Date</th>\n",
       "      <th>House_Age</th>\n",
       "      <th>Distance</th>\n",
       "      <th>Num_Stores_NearBy</th>\n",
       "      <th>Latitude</th>\n",
       "      <th>Longitude</th>\n",
       "      <th>Target</th>\n",
       "    </tr>\n",
       "  </thead>\n",
       "  <tbody>\n",
       "    <tr>\n",
       "      <th>0</th>\n",
       "      <td>1.0</td>\n",
       "      <td>0.272727</td>\n",
       "      <td>0.730594</td>\n",
       "      <td>0.013420</td>\n",
       "      <td>1.0</td>\n",
       "      <td>0.736972</td>\n",
       "      <td>0.634410</td>\n",
       "      <td>0.275705</td>\n",
       "    </tr>\n",
       "    <tr>\n",
       "      <th>1</th>\n",
       "      <td>1.0</td>\n",
       "      <td>0.272727</td>\n",
       "      <td>0.445205</td>\n",
       "      <td>0.061805</td>\n",
       "      <td>0.9</td>\n",
       "      <td>0.698755</td>\n",
       "      <td>0.624157</td>\n",
       "      <td>0.314832</td>\n",
       "    </tr>\n",
       "    <tr>\n",
       "      <th>2</th>\n",
       "      <td>1.0</td>\n",
       "      <td>1.000000</td>\n",
       "      <td>0.303653</td>\n",
       "      <td>0.117538</td>\n",
       "      <td>0.5</td>\n",
       "      <td>0.801824</td>\n",
       "      <td>0.685955</td>\n",
       "      <td>0.361237</td>\n",
       "    </tr>\n",
       "    <tr>\n",
       "      <th>3</th>\n",
       "      <td>1.0</td>\n",
       "      <td>0.909091</td>\n",
       "      <td>0.303653</td>\n",
       "      <td>0.117538</td>\n",
       "      <td>0.5</td>\n",
       "      <td>0.801824</td>\n",
       "      <td>0.685955</td>\n",
       "      <td>0.429481</td>\n",
       "    </tr>\n",
       "    <tr>\n",
       "      <th>4</th>\n",
       "      <td>1.0</td>\n",
       "      <td>0.181818</td>\n",
       "      <td>0.114155</td>\n",
       "      <td>0.080130</td>\n",
       "      <td>0.5</td>\n",
       "      <td>0.684713</td>\n",
       "      <td>0.665449</td>\n",
       "      <td>0.323021</td>\n",
       "    </tr>\n",
       "    <tr>\n",
       "      <th>...</th>\n",
       "      <td>...</td>\n",
       "      <td>...</td>\n",
       "      <td>...</td>\n",
       "      <td>...</td>\n",
       "      <td>...</td>\n",
       "      <td>...</td>\n",
       "      <td>...</td>\n",
       "      <td>...</td>\n",
       "    </tr>\n",
       "    <tr>\n",
       "      <th>403</th>\n",
       "      <td>1.0</td>\n",
       "      <td>0.363636</td>\n",
       "      <td>0.312785</td>\n",
       "      <td>0.885707</td>\n",
       "      <td>0.0</td>\n",
       "      <td>0.137232</td>\n",
       "      <td>0.122753</td>\n",
       "      <td>0.070974</td>\n",
       "    </tr>\n",
       "    <tr>\n",
       "      <th>404</th>\n",
       "      <td>1.0</td>\n",
       "      <td>0.000000</td>\n",
       "      <td>0.127854</td>\n",
       "      <td>0.014637</td>\n",
       "      <td>0.9</td>\n",
       "      <td>0.611754</td>\n",
       "      <td>0.674579</td>\n",
       "      <td>0.385805</td>\n",
       "    </tr>\n",
       "    <tr>\n",
       "      <th>405</th>\n",
       "      <td>1.0</td>\n",
       "      <td>0.636364</td>\n",
       "      <td>0.429224</td>\n",
       "      <td>0.080218</td>\n",
       "      <td>0.7</td>\n",
       "      <td>0.682687</td>\n",
       "      <td>0.629073</td>\n",
       "      <td>0.300273</td>\n",
       "    </tr>\n",
       "    <tr>\n",
       "      <th>406</th>\n",
       "      <td>1.0</td>\n",
       "      <td>0.363636</td>\n",
       "      <td>0.184932</td>\n",
       "      <td>0.017770</td>\n",
       "      <td>0.5</td>\n",
       "      <td>0.501882</td>\n",
       "      <td>0.640449</td>\n",
       "      <td>0.408553</td>\n",
       "    </tr>\n",
       "    <tr>\n",
       "      <th>407</th>\n",
       "      <td>1.0</td>\n",
       "      <td>0.909091</td>\n",
       "      <td>0.148402</td>\n",
       "      <td>0.014637</td>\n",
       "      <td>0.9</td>\n",
       "      <td>0.611754</td>\n",
       "      <td>0.674579</td>\n",
       "      <td>0.512284</td>\n",
       "    </tr>\n",
       "  </tbody>\n",
       "</table>\n",
       "<p>408 rows × 8 columns</p>\n",
       "</div>"
      ],
      "text/plain": [
       "      X0  Transaction_Date  House_Age  Distance  Num_Stores_NearBy  Latitude  \\\n",
       "0    1.0          0.272727   0.730594  0.013420                1.0  0.736972   \n",
       "1    1.0          0.272727   0.445205  0.061805                0.9  0.698755   \n",
       "2    1.0          1.000000   0.303653  0.117538                0.5  0.801824   \n",
       "3    1.0          0.909091   0.303653  0.117538                0.5  0.801824   \n",
       "4    1.0          0.181818   0.114155  0.080130                0.5  0.684713   \n",
       "..   ...               ...        ...       ...                ...       ...   \n",
       "403  1.0          0.363636   0.312785  0.885707                0.0  0.137232   \n",
       "404  1.0          0.000000   0.127854  0.014637                0.9  0.611754   \n",
       "405  1.0          0.636364   0.429224  0.080218                0.7  0.682687   \n",
       "406  1.0          0.363636   0.184932  0.017770                0.5  0.501882   \n",
       "407  1.0          0.909091   0.148402  0.014637                0.9  0.611754   \n",
       "\n",
       "     Longitude    Target  \n",
       "0     0.634410  0.275705  \n",
       "1     0.624157  0.314832  \n",
       "2     0.685955  0.361237  \n",
       "3     0.685955  0.429481  \n",
       "4     0.665449  0.323021  \n",
       "..         ...       ...  \n",
       "403   0.122753  0.070974  \n",
       "404   0.674579  0.385805  \n",
       "405   0.629073  0.300273  \n",
       "406   0.640449  0.408553  \n",
       "407   0.674579  0.512284  \n",
       "\n",
       "[408 rows x 8 columns]"
      ]
     },
     "execution_count": 48,
     "metadata": {},
     "output_type": "execute_result"
    }
   ],
   "source": [
    "yy"
   ]
  },
  {
   "cell_type": "code",
   "execution_count": 49,
   "metadata": {},
   "outputs": [],
   "source": [
    "data_train_GD = df2.sample(frac=0.6, random_state = 1)\n",
    "data_test_GD = df2.drop(data_train_GD.index)\n",
    "data_train_GD.reset_index(drop=True,inplace=True)\n",
    "data_test_GD.reset_index(drop=True,inplace=True)\n",
    "data_test1_GD = data_test_GD.sample(frac=0.5, random_state = 1)\n",
    "data_valid_GD = data_test_GD.drop(data_test1_GD.index)\n",
    "data_test1_GD.reset_index(drop=True,inplace=True)\n",
    "data_valid_GD.reset_index(drop=True,inplace=True)"
   ]
  },
  {
   "cell_type": "code",
   "execution_count": 50,
   "metadata": {},
   "outputs": [],
   "source": [
    "X_train_GD = data_train_GD.drop(['Target'],axis=1).values\n",
    "Y_train_GD = data_train_GD['Target']\n",
    "X_test1_GD = data_test1_GD.drop(['Target'],axis=1).values\n",
    "Y_test1_GD = data_test1_GD['Target']\n",
    "X_valid_GD = data_valid_GD.drop(['Target'],axis=1).values\n",
    "Y_valid_GD = data_valid_GD['Target']"
   ]
  },
  {
   "cell_type": "code",
   "execution_count": 51,
   "metadata": {},
   "outputs": [],
   "source": [
    "import numpy as np\n",
    "def LinReg_with_gradient_descent(X_train_GD, Y_train_GD, alpha, epoch):\n",
    "    m = X_train_GD.shape[0]  # number of samples\n",
    "    ones =np.ones((m,1))  \n",
    "    XX = np.concatenate((ones, X_train_GD), axis=1)   # Nuw X with X0's =1\n",
    "    n = XX.shape[1]   # \n",
    "    Theta = np.zeros(n)    # n= 4  parameter initialization\n",
    "    h = np.dot(XX, Theta)   # Compute hypothesis\n",
    "    \n",
    "    \n",
    "    # Gradient descent algorithm\n",
    "    cost = np.ones(epoch)\n",
    "    for i in range (0, epoch):\n",
    "        Theta[0] = Theta[0] - (alpha / X_train_GD.shape[0]) * sum(h-Y_train_GD)\n",
    "        for j in range(1, n):\n",
    "            Theta[j]= Theta[j] - (alpha/ X_train_GD.shape[0]) * sum((h-Y_train_GD) * XX[:, j])\n",
    "            h  = np.dot(XX, Theta)\n",
    "            cost[i] = 1/(2*m) * sum(np.square(h-Y_train_GD))  # Compute Cost\n",
    "    return cost, Theta"
   ]
  },
  {
   "cell_type": "code",
   "execution_count": 52,
   "metadata": {},
   "outputs": [
    {
     "name": "stdout",
     "output_type": "stream",
     "text": [
      "[ 0.11485283  0.05189638  0.01443613 -0.02495933  0.08561123  0.08684469\n",
      "  0.0928856 ]\n",
      "[ 0.1180206   0.03613883 -0.05487139 -0.07954356  0.11968782  0.12023876\n",
      "  0.11979427]\n"
     ]
    }
   ],
   "source": [
    "# Calculating theta and cost\n",
    "cost, theta = LinReg_with_gradient_descent(X_train_GD, Y_train_GD,0.002, 2000)\n",
    "print(theta)\n",
    "#print(cost)\n",
    "\n",
    "cost1, theta1 = LinReg_with_gradient_descent(X_train_GD, Y_train_GD,0.009, 2000)\n",
    "print(theta1)\n",
    "#print(cost1)"
   ]
  },
  {
   "cell_type": "code",
   "execution_count": 53,
   "metadata": {},
   "outputs": [
    {
     "data": {
      "image/png": "[encoded data removed]",
      "text/plain": [
       "<Figure size 432x288 with 1 Axes>"
      ]
     },
     "metadata": {
      "needs_background": "light"
     },
     "output_type": "display_data"
    },
    {
     "name": "stdout",
     "output_type": "stream",
     "text": [
      "Lowest cost =0.0037921802780848785\n",
      " Cost after 2000 iterations = 0.0037921802780848785\n"
     ]
    },
    {
     "data": {
      "image/png": "[encoded data removed]",
      "text/plain": [
       "<Figure size 432x288 with 1 Axes>"
      ]
     },
     "metadata": {
      "needs_background": "light"
     },
     "output_type": "display_data"
    },
    {
     "name": "stdout",
     "output_type": "stream",
     "text": [
      "Lowest cost =0.0037921802780848785\n",
      " Cost after 2000 iterations = 0.0037921802780848785\n"
     ]
    }
   ],
   "source": [
    "import matplotlib.pyplot as plt\n",
    "# Checking out the loss or cost plot\n",
    "plt.plot(cost)\n",
    "plt.xlabel(\"Epoch (number of iteration)\")\n",
    "plt.ylabel( \"Cost or Loss\")\n",
    "plt.show()\n",
    "print(\"Lowest cost =\" + str(np.min(cost)))\n",
    "print(\" Cost after 2000 iterations = \" + str(cost[-1]))\n",
    "\n",
    "plt.plot(cost1)\n",
    "plt.xlabel(\"Epoch (number of iteration)\")\n",
    "plt.ylabel( \"Cost or Loss\")\n",
    "plt.show()\n",
    "print(\"Lowest cost =\" + str(np.min(cost)))\n",
    "print(\" Cost after 2000 iterations = \" + str(cost[-1]))"
   ]
  },
  {
   "cell_type": "code",
   "execution_count": 54,
   "metadata": {},
   "outputs": [
    {
     "data": {
      "text/plain": [
       "LinearRegression()"
      ]
     },
     "execution_count": 54,
     "metadata": {},
     "output_type": "execute_result"
    }
   ],
   "source": [
    "from sklearn import linear_model  # Importing linear model\n",
    "lm = linear_model.LinearRegression()   # Linear regression\n",
    "lm.fit(X1222, y1222) "
   ]
  },
  {
   "cell_type": "code",
   "execution_count": 55,
   "metadata": {},
   "outputs": [
    {
     "name": "stdout",
     "output_type": "stream",
     "text": [
      "0.23076501637125457\n",
      "[ 0.04370067 -0.11023609 -0.20267715  0.09631246  0.14141274 -0.00349087]\n"
     ]
    }
   ],
   "source": [
    "print(lm.intercept_)\n",
    "print(lm.coef_)"
   ]
  },
  {
   "cell_type": "code",
   "execution_count": null,
   "metadata": {},
   "outputs": [],
   "source": []
  },
  {
   "cell_type": "markdown",
   "metadata": {},
   "source": [
    "# Normal equation (NE)"
   ]
  },
  {
   "cell_type": "markdown",
   "metadata": {},
   "source": [
    "\n",
    "Remark: in this methode (Normal equation) we don't need to apply the feature scaling \n"
   ]
  },
  {
   "cell_type": "code",
   "execution_count": 56,
   "metadata": {},
   "outputs": [
    {
     "data": {
      "text/html": [
       "<div>\n",
       "<style scoped>\n",
       "    .dataframe tbody tr th:only-of-type {\n",
       "        vertical-align: middle;\n",
       "    }\n",
       "\n",
       "    .dataframe tbody tr th {\n",
       "        vertical-align: top;\n",
       "    }\n",
       "\n",
       "    .dataframe thead th {\n",
       "        text-align: right;\n",
       "    }\n",
       "</style>\n",
       "<table border=\"1\" class=\"dataframe\">\n",
       "  <thead>\n",
       "    <tr style=\"text-align: right;\">\n",
       "      <th></th>\n",
       "      <th>Transaction_Date</th>\n",
       "      <th>House_Age</th>\n",
       "      <th>Distance</th>\n",
       "      <th>Num_Stores_NearBy</th>\n",
       "      <th>Latitude</th>\n",
       "      <th>Longitude</th>\n",
       "    </tr>\n",
       "  </thead>\n",
       "  <tbody>\n",
       "    <tr>\n",
       "      <th>0</th>\n",
       "      <td>2012.916667</td>\n",
       "      <td>32.0</td>\n",
       "      <td>84.87882</td>\n",
       "      <td>10</td>\n",
       "      <td>24.98298</td>\n",
       "      <td>121.54024</td>\n",
       "    </tr>\n",
       "    <tr>\n",
       "      <th>1</th>\n",
       "      <td>2012.916667</td>\n",
       "      <td>19.5</td>\n",
       "      <td>306.59470</td>\n",
       "      <td>9</td>\n",
       "      <td>24.98034</td>\n",
       "      <td>121.53951</td>\n",
       "    </tr>\n",
       "    <tr>\n",
       "      <th>2</th>\n",
       "      <td>2013.583333</td>\n",
       "      <td>13.3</td>\n",
       "      <td>561.98450</td>\n",
       "      <td>5</td>\n",
       "      <td>24.98746</td>\n",
       "      <td>121.54391</td>\n",
       "    </tr>\n",
       "    <tr>\n",
       "      <th>3</th>\n",
       "      <td>2013.500000</td>\n",
       "      <td>13.3</td>\n",
       "      <td>561.98450</td>\n",
       "      <td>5</td>\n",
       "      <td>24.98746</td>\n",
       "      <td>121.54391</td>\n",
       "    </tr>\n",
       "    <tr>\n",
       "      <th>4</th>\n",
       "      <td>2012.833333</td>\n",
       "      <td>5.0</td>\n",
       "      <td>390.56840</td>\n",
       "      <td>5</td>\n",
       "      <td>24.97937</td>\n",
       "      <td>121.54245</td>\n",
       "    </tr>\n",
       "    <tr>\n",
       "      <th>...</th>\n",
       "      <td>...</td>\n",
       "      <td>...</td>\n",
       "      <td>...</td>\n",
       "      <td>...</td>\n",
       "      <td>...</td>\n",
       "      <td>...</td>\n",
       "    </tr>\n",
       "    <tr>\n",
       "      <th>403</th>\n",
       "      <td>2013.000000</td>\n",
       "      <td>13.7</td>\n",
       "      <td>4082.01500</td>\n",
       "      <td>0</td>\n",
       "      <td>24.94155</td>\n",
       "      <td>121.50381</td>\n",
       "    </tr>\n",
       "    <tr>\n",
       "      <th>404</th>\n",
       "      <td>2012.666667</td>\n",
       "      <td>5.6</td>\n",
       "      <td>90.45606</td>\n",
       "      <td>9</td>\n",
       "      <td>24.97433</td>\n",
       "      <td>121.54310</td>\n",
       "    </tr>\n",
       "    <tr>\n",
       "      <th>405</th>\n",
       "      <td>2013.250000</td>\n",
       "      <td>18.8</td>\n",
       "      <td>390.96960</td>\n",
       "      <td>7</td>\n",
       "      <td>24.97923</td>\n",
       "      <td>121.53986</td>\n",
       "    </tr>\n",
       "    <tr>\n",
       "      <th>406</th>\n",
       "      <td>2013.000000</td>\n",
       "      <td>8.1</td>\n",
       "      <td>104.81010</td>\n",
       "      <td>5</td>\n",
       "      <td>24.96674</td>\n",
       "      <td>121.54067</td>\n",
       "    </tr>\n",
       "    <tr>\n",
       "      <th>407</th>\n",
       "      <td>2013.500000</td>\n",
       "      <td>6.5</td>\n",
       "      <td>90.45606</td>\n",
       "      <td>9</td>\n",
       "      <td>24.97433</td>\n",
       "      <td>121.54310</td>\n",
       "    </tr>\n",
       "  </tbody>\n",
       "</table>\n",
       "<p>408 rows × 6 columns</p>\n",
       "</div>"
      ],
      "text/plain": [
       "     Transaction_Date  House_Age    Distance  Num_Stores_NearBy  Latitude  \\\n",
       "0         2012.916667       32.0    84.87882                 10  24.98298   \n",
       "1         2012.916667       19.5   306.59470                  9  24.98034   \n",
       "2         2013.583333       13.3   561.98450                  5  24.98746   \n",
       "3         2013.500000       13.3   561.98450                  5  24.98746   \n",
       "4         2012.833333        5.0   390.56840                  5  24.97937   \n",
       "..                ...        ...         ...                ...       ...   \n",
       "403       2013.000000       13.7  4082.01500                  0  24.94155   \n",
       "404       2012.666667        5.6    90.45606                  9  24.97433   \n",
       "405       2013.250000       18.8   390.96960                  7  24.97923   \n",
       "406       2013.000000        8.1   104.81010                  5  24.96674   \n",
       "407       2013.500000        6.5    90.45606                  9  24.97433   \n",
       "\n",
       "     Longitude  \n",
       "0    121.54024  \n",
       "1    121.53951  \n",
       "2    121.54391  \n",
       "3    121.54391  \n",
       "4    121.54245  \n",
       "..         ...  \n",
       "403  121.50381  \n",
       "404  121.54310  \n",
       "405  121.53986  \n",
       "406  121.54067  \n",
       "407  121.54310  \n",
       "\n",
       "[408 rows x 6 columns]"
      ]
     },
     "metadata": {},
     "output_type": "display_data"
    },
    {
     "data": {
      "text/plain": [
       "array([[1.],\n",
       "       [1.],\n",
       "       [1.],\n",
       "       [1.],\n",
       "       [1.],\n",
       "       [1.],\n",
       "       [1.],\n",
       "       [1.],\n",
       "       [1.],\n",
       "       [1.],\n",
       "       [1.],\n",
       "       [1.],\n",
       "       [1.],\n",
       "       [1.],\n",
       "       [1.],\n",
       "       [1.],\n",
       "       [1.],\n",
       "       [1.],\n",
       "       [1.],\n",
       "       [1.],\n",
       "       [1.],\n",
       "       [1.],\n",
       "       [1.],\n",
       "       [1.],\n",
       "       [1.],\n",
       "       [1.],\n",
       "       [1.],\n",
       "       [1.],\n",
       "       [1.],\n",
       "       [1.],\n",
       "       [1.],\n",
       "       [1.],\n",
       "       [1.],\n",
       "       [1.],\n",
       "       [1.],\n",
       "       [1.],\n",
       "       [1.],\n",
       "       [1.],\n",
       "       [1.],\n",
       "       [1.],\n",
       "       [1.],\n",
       "       [1.],\n",
       "       [1.],\n",
       "       [1.],\n",
       "       [1.],\n",
       "       [1.],\n",
       "       [1.],\n",
       "       [1.],\n",
       "       [1.],\n",
       "       [1.],\n",
       "       [1.],\n",
       "       [1.],\n",
       "       [1.],\n",
       "       [1.],\n",
       "       [1.],\n",
       "       [1.],\n",
       "       [1.],\n",
       "       [1.],\n",
       "       [1.],\n",
       "       [1.],\n",
       "       [1.],\n",
       "       [1.],\n",
       "       [1.],\n",
       "       [1.],\n",
       "       [1.],\n",
       "       [1.],\n",
       "       [1.],\n",
       "       [1.],\n",
       "       [1.],\n",
       "       [1.],\n",
       "       [1.],\n",
       "       [1.],\n",
       "       [1.],\n",
       "       [1.],\n",
       "       [1.],\n",
       "       [1.],\n",
       "       [1.],\n",
       "       [1.],\n",
       "       [1.],\n",
       "       [1.],\n",
       "       [1.],\n",
       "       [1.],\n",
       "       [1.],\n",
       "       [1.],\n",
       "       [1.],\n",
       "       [1.],\n",
       "       [1.],\n",
       "       [1.],\n",
       "       [1.],\n",
       "       [1.],\n",
       "       [1.],\n",
       "       [1.],\n",
       "       [1.],\n",
       "       [1.],\n",
       "       [1.],\n",
       "       [1.],\n",
       "       [1.],\n",
       "       [1.],\n",
       "       [1.],\n",
       "       [1.],\n",
       "       [1.],\n",
       "       [1.],\n",
       "       [1.],\n",
       "       [1.],\n",
       "       [1.],\n",
       "       [1.],\n",
       "       [1.],\n",
       "       [1.],\n",
       "       [1.],\n",
       "       [1.],\n",
       "       [1.],\n",
       "       [1.],\n",
       "       [1.],\n",
       "       [1.],\n",
       "       [1.],\n",
       "       [1.],\n",
       "       [1.],\n",
       "       [1.],\n",
       "       [1.],\n",
       "       [1.],\n",
       "       [1.],\n",
       "       [1.],\n",
       "       [1.],\n",
       "       [1.],\n",
       "       [1.],\n",
       "       [1.],\n",
       "       [1.],\n",
       "       [1.],\n",
       "       [1.],\n",
       "       [1.],\n",
       "       [1.],\n",
       "       [1.],\n",
       "       [1.],\n",
       "       [1.],\n",
       "       [1.],\n",
       "       [1.],\n",
       "       [1.],\n",
       "       [1.],\n",
       "       [1.],\n",
       "       [1.],\n",
       "       [1.],\n",
       "       [1.],\n",
       "       [1.],\n",
       "       [1.],\n",
       "       [1.],\n",
       "       [1.],\n",
       "       [1.],\n",
       "       [1.],\n",
       "       [1.],\n",
       "       [1.],\n",
       "       [1.],\n",
       "       [1.],\n",
       "       [1.],\n",
       "       [1.],\n",
       "       [1.],\n",
       "       [1.],\n",
       "       [1.],\n",
       "       [1.],\n",
       "       [1.],\n",
       "       [1.],\n",
       "       [1.],\n",
       "       [1.],\n",
       "       [1.],\n",
       "       [1.],\n",
       "       [1.],\n",
       "       [1.],\n",
       "       [1.],\n",
       "       [1.],\n",
       "       [1.],\n",
       "       [1.],\n",
       "       [1.],\n",
       "       [1.],\n",
       "       [1.],\n",
       "       [1.],\n",
       "       [1.],\n",
       "       [1.],\n",
       "       [1.],\n",
       "       [1.],\n",
       "       [1.],\n",
       "       [1.],\n",
       "       [1.],\n",
       "       [1.],\n",
       "       [1.],\n",
       "       [1.],\n",
       "       [1.],\n",
       "       [1.],\n",
       "       [1.],\n",
       "       [1.],\n",
       "       [1.],\n",
       "       [1.],\n",
       "       [1.],\n",
       "       [1.],\n",
       "       [1.],\n",
       "       [1.],\n",
       "       [1.],\n",
       "       [1.],\n",
       "       [1.],\n",
       "       [1.],\n",
       "       [1.],\n",
       "       [1.],\n",
       "       [1.],\n",
       "       [1.],\n",
       "       [1.],\n",
       "       [1.],\n",
       "       [1.],\n",
       "       [1.],\n",
       "       [1.],\n",
       "       [1.],\n",
       "       [1.],\n",
       "       [1.],\n",
       "       [1.],\n",
       "       [1.],\n",
       "       [1.],\n",
       "       [1.],\n",
       "       [1.],\n",
       "       [1.],\n",
       "       [1.],\n",
       "       [1.],\n",
       "       [1.],\n",
       "       [1.],\n",
       "       [1.],\n",
       "       [1.],\n",
       "       [1.],\n",
       "       [1.],\n",
       "       [1.],\n",
       "       [1.],\n",
       "       [1.],\n",
       "       [1.],\n",
       "       [1.],\n",
       "       [1.],\n",
       "       [1.],\n",
       "       [1.],\n",
       "       [1.],\n",
       "       [1.],\n",
       "       [1.],\n",
       "       [1.],\n",
       "       [1.],\n",
       "       [1.],\n",
       "       [1.],\n",
       "       [1.],\n",
       "       [1.],\n",
       "       [1.],\n",
       "       [1.],\n",
       "       [1.],\n",
       "       [1.],\n",
       "       [1.],\n",
       "       [1.],\n",
       "       [1.],\n",
       "       [1.],\n",
       "       [1.],\n",
       "       [1.],\n",
       "       [1.],\n",
       "       [1.],\n",
       "       [1.],\n",
       "       [1.],\n",
       "       [1.],\n",
       "       [1.],\n",
       "       [1.],\n",
       "       [1.],\n",
       "       [1.],\n",
       "       [1.],\n",
       "       [1.],\n",
       "       [1.],\n",
       "       [1.],\n",
       "       [1.],\n",
       "       [1.],\n",
       "       [1.],\n",
       "       [1.],\n",
       "       [1.],\n",
       "       [1.],\n",
       "       [1.],\n",
       "       [1.],\n",
       "       [1.],\n",
       "       [1.],\n",
       "       [1.],\n",
       "       [1.],\n",
       "       [1.],\n",
       "       [1.],\n",
       "       [1.],\n",
       "       [1.],\n",
       "       [1.],\n",
       "       [1.],\n",
       "       [1.],\n",
       "       [1.],\n",
       "       [1.],\n",
       "       [1.],\n",
       "       [1.],\n",
       "       [1.],\n",
       "       [1.],\n",
       "       [1.],\n",
       "       [1.],\n",
       "       [1.],\n",
       "       [1.],\n",
       "       [1.],\n",
       "       [1.],\n",
       "       [1.],\n",
       "       [1.],\n",
       "       [1.],\n",
       "       [1.],\n",
       "       [1.],\n",
       "       [1.],\n",
       "       [1.],\n",
       "       [1.],\n",
       "       [1.],\n",
       "       [1.],\n",
       "       [1.],\n",
       "       [1.],\n",
       "       [1.],\n",
       "       [1.],\n",
       "       [1.],\n",
       "       [1.],\n",
       "       [1.],\n",
       "       [1.],\n",
       "       [1.],\n",
       "       [1.],\n",
       "       [1.],\n",
       "       [1.],\n",
       "       [1.],\n",
       "       [1.],\n",
       "       [1.],\n",
       "       [1.],\n",
       "       [1.],\n",
       "       [1.],\n",
       "       [1.],\n",
       "       [1.],\n",
       "       [1.],\n",
       "       [1.],\n",
       "       [1.],\n",
       "       [1.],\n",
       "       [1.],\n",
       "       [1.],\n",
       "       [1.],\n",
       "       [1.],\n",
       "       [1.],\n",
       "       [1.],\n",
       "       [1.],\n",
       "       [1.],\n",
       "       [1.],\n",
       "       [1.],\n",
       "       [1.],\n",
       "       [1.],\n",
       "       [1.],\n",
       "       [1.],\n",
       "       [1.],\n",
       "       [1.],\n",
       "       [1.],\n",
       "       [1.],\n",
       "       [1.],\n",
       "       [1.],\n",
       "       [1.],\n",
       "       [1.],\n",
       "       [1.],\n",
       "       [1.],\n",
       "       [1.],\n",
       "       [1.],\n",
       "       [1.],\n",
       "       [1.],\n",
       "       [1.],\n",
       "       [1.],\n",
       "       [1.],\n",
       "       [1.],\n",
       "       [1.],\n",
       "       [1.],\n",
       "       [1.],\n",
       "       [1.],\n",
       "       [1.],\n",
       "       [1.],\n",
       "       [1.],\n",
       "       [1.],\n",
       "       [1.],\n",
       "       [1.],\n",
       "       [1.],\n",
       "       [1.],\n",
       "       [1.],\n",
       "       [1.],\n",
       "       [1.],\n",
       "       [1.],\n",
       "       [1.],\n",
       "       [1.],\n",
       "       [1.],\n",
       "       [1.],\n",
       "       [1.],\n",
       "       [1.],\n",
       "       [1.],\n",
       "       [1.],\n",
       "       [1.],\n",
       "       [1.],\n",
       "       [1.],\n",
       "       [1.],\n",
       "       [1.],\n",
       "       [1.],\n",
       "       [1.],\n",
       "       [1.],\n",
       "       [1.],\n",
       "       [1.],\n",
       "       [1.],\n",
       "       [1.],\n",
       "       [1.],\n",
       "       [1.],\n",
       "       [1.],\n",
       "       [1.],\n",
       "       [1.],\n",
       "       [1.],\n",
       "       [1.],\n",
       "       [1.],\n",
       "       [1.],\n",
       "       [1.],\n",
       "       [1.]])"
      ]
     },
     "execution_count": 56,
     "metadata": {},
     "output_type": "execute_result"
    }
   ],
   "source": [
    "import pandas as pd\n",
    "import numpy as np\n",
    "\n",
    "dataenlevertarget= df1.drop('Target',axis=1)  # we remove the Target column to prepare the matrix X\n",
    "\n",
    "dataenlevertarget= pd.DataFrame(dataenlevertarget)\n",
    "\n",
    "display(dataenlevertarget)\n",
    "\n",
    "arrayprepareX= dataenlevertarget.to_numpy()   # convert dataframe dataenlevertarget to array to array for doing operations later\n",
    "\n",
    "X0= np.ones((408,1)) # prepare the column X0 which contains only 1 in order to  add it to  arrayprepare X and have X\n",
    "X0"
   ]
  },
  {
   "cell_type": "code",
   "execution_count": 57,
   "metadata": {},
   "outputs": [
    {
     "data": {
      "text/plain": [
       "(408, 6)"
      ]
     },
     "execution_count": 57,
     "metadata": {},
     "output_type": "execute_result"
    }
   ],
   "source": [
    "dataenlevertarget.shape"
   ]
  },
  {
   "cell_type": "code",
   "execution_count": 58,
   "metadata": {},
   "outputs": [
    {
     "data": {
      "text/plain": [
       "array([[1.00000000e+00, 2.01291667e+03, 3.20000000e+01, ...,\n",
       "        1.00000000e+01, 2.49829800e+01, 1.21540240e+02],\n",
       "       [1.00000000e+00, 2.01291667e+03, 1.95000000e+01, ...,\n",
       "        9.00000000e+00, 2.49803400e+01, 1.21539510e+02],\n",
       "       [1.00000000e+00, 2.01358333e+03, 1.33000000e+01, ...,\n",
       "        5.00000000e+00, 2.49874600e+01, 1.21543910e+02],\n",
       "       ...,\n",
       "       [1.00000000e+00, 2.01325000e+03, 1.88000000e+01, ...,\n",
       "        7.00000000e+00, 2.49792300e+01, 1.21539860e+02],\n",
       "       [1.00000000e+00, 2.01300000e+03, 8.10000000e+00, ...,\n",
       "        5.00000000e+00, 2.49667400e+01, 1.21540670e+02],\n",
       "       [1.00000000e+00, 2.01350000e+03, 6.50000000e+00, ...,\n",
       "        9.00000000e+00, 2.49743300e+01, 1.21543100e+02]])"
      ]
     },
     "execution_count": 58,
     "metadata": {},
     "output_type": "execute_result"
    }
   ],
   "source": [
    "import pandas as pd\n",
    "import numpy as np\n",
    "\n",
    "X= np.append(X0, arrayprepareX , axis=1) #prepare the matrix X\n",
    "X"
   ]
  },
  {
   "cell_type": "code",
   "execution_count": 59,
   "metadata": {},
   "outputs": [
    {
     "data": {
      "text/plain": [
       "0      37.9\n",
       "1      42.2\n",
       "2      47.3\n",
       "3      54.8\n",
       "4      43.1\n",
       "       ... \n",
       "403    15.4\n",
       "404    50.0\n",
       "405    40.6\n",
       "406    52.5\n",
       "407    63.9\n",
       "Name: Target, Length: 408, dtype: float64"
      ]
     },
     "execution_count": 59,
     "metadata": {},
     "output_type": "execute_result"
    }
   ],
   "source": [
    "import pandas as pd\n",
    "import numpy as np\n",
    "\n",
    "Y = df1['Target']   # Prepare the vector Y of size m=414 and 1 column\n",
    "Y"
   ]
  },
  {
   "cell_type": "code",
   "execution_count": 60,
   "metadata": {
    "scrolled": true
   },
   "outputs": [
    {
     "name": "stdout",
     "output_type": "stream",
     "text": [
      "X_train shape: (228, 7)\n",
      "Y_train shape: (228,)\n",
      "X_test shape: (180, 7)\n",
      "Y_test shape: (180,)\n"
     ]
    }
   ],
   "source": [
    "from sklearn.model_selection import train_test_split \n",
    "\n",
    "X_train, X_test, Y_train, Y_test = train_test_split(X, Y, test_size = 0.44, random_state = 0)\n",
    "\n",
    "# test_size=0.2 ---> cost= 0.5049142035473477 (20% test et 80% train)\n",
    "# test_size=0.3 ---> cost= 0.11857450463201558 (30% test et 70% train)\n",
    "# test_size=0.4 ---> cost= 0.004369710852731163 (40% test et 60% train)\n",
    "# test_size=0.41 ---> cost= 0.036047538060923735 (41% test et 59% train)\n",
    "# test_size=0.42 ---> cost=0.26449237849682583 (42% test et 58% train)\n",
    "# test_size=0.43 ---> cost= 0.19137303818568502 (43% test et 57% train)\n",
    "# test_size=0.44 ---> cost= 0.00029727114900567796 (44% test et 56% train)\n",
    "# test_size=0.45 ---> cost= 0.03723089533404737 (45% test et 55% train)\n",
    "# test_size=0.46 ---> cost= 0.008247035253782425 (46% test et 54% train)\n",
    "# test_size=0.48 ---> cost= 0.07642948746289821 (48% test et 52% train)\n",
    "# test_size=0.49 ---> cost= 0.06064303533562981(49% test et 51% train)\n",
    "# test_size=0.5 ---> cost= 0.014106221820501754 (50% test et 50% train)\n",
    "\n",
    "#consequently, we takes test_size=0.44 where we found cost= 0.00029727114900567796\n",
    "\n",
    "print(\"X_train shape: {}\".format(X_train.shape)) \n",
    "print(\"Y_train shape: {}\".format(Y_train.shape))\n",
    "\n",
    "print(\"X_test shape: {}\".format(X_test.shape)) \n",
    "print(\"Y_test shape: {}\".format(Y_test.shape))"
   ]
  },
  {
   "cell_type": "code",
   "execution_count": 61,
   "metadata": {},
   "outputs": [
    {
     "data": {
      "text/plain": [
       "array([[1.00000000e+00, 1.00000000e+00, 1.00000000e+00, ...,\n",
       "        1.00000000e+00, 1.00000000e+00, 1.00000000e+00],\n",
       "       [2.01341667e+03, 2.01308333e+03, 2.01275000e+03, ...,\n",
       "        2.01316667e+03, 2.01266667e+03, 2.01308333e+03],\n",
       "       [1.36000000e+01, 8.10000000e+00, 1.56000000e+01, ...,\n",
       "        1.33000000e+01, 2.94000000e+01, 3.02000000e+01],\n",
       "       ...,\n",
       "       [5.00000000e+00, 5.00000000e+00, 2.00000000e+00, ...,\n",
       "        5.00000000e+00, 1.00000000e+00, 3.00000000e+00],\n",
       "       [2.49651500e+01, 2.49667400e+01, 2.49779500e+01, ...,\n",
       "        2.49651500e+01, 2.49492500e+01, 2.49700500e+01],\n",
       "       [1.21537370e+02, 1.21540670e+02, 1.21534510e+02, ...,\n",
       "        1.21537370e+02, 1.21495420e+02, 1.21537580e+02]])"
      ]
     },
     "execution_count": 61,
     "metadata": {},
     "output_type": "execute_result"
    }
   ],
   "source": [
    "Xtrps= X_train.T # the transpose of X\n",
    "Xtrps"
   ]
  },
  {
   "cell_type": "code",
   "execution_count": 62,
   "metadata": {
    "scrolled": true
   },
   "outputs": [
    {
     "data": {
      "text/plain": [
       "array([[2.28000000e+02, 4.58992500e+05, 4.13500000e+03, 2.30227954e+05,\n",
       "        9.48000000e+02, 5.69284770e+03, 2.77098515e+04],\n",
       "       [4.58992500e+05, 9.24009294e+08, 8.32429126e+06, 4.63483292e+08,\n",
       "        1.90844525e+06, 1.14604140e+07, 5.57833947e+07],\n",
       "       [4.13500000e+03, 8.32429126e+06, 1.05469200e+05, 4.08391483e+06,\n",
       "        1.78113000e+04, 1.03248740e+05, 5.02544499e+05],\n",
       "       [2.30227954e+05, 4.63483292e+08, 4.08391483e+06, 5.14222362e+08,\n",
       "        4.94195633e+05, 5.74655492e+06, 2.79779723e+07],\n",
       "       [9.48000000e+02, 1.90844525e+06, 1.78113000e+04, 4.94195633e+05,\n",
       "        5.90200000e+03, 2.36742549e+04, 1.15218643e+05],\n",
       "       [5.69284770e+03, 1.14604140e+07, 1.03248740e+05, 5.74655492e+06,\n",
       "        2.36742549e+04, 1.42142643e+05, 6.91877051e+05],\n",
       "       [2.77098515e+04, 5.57833947e+07, 5.02544499e+05, 2.79779723e+07,\n",
       "        1.15218643e+05, 6.91877051e+05, 3.36770122e+06]])"
      ]
     },
     "execution_count": 62,
     "metadata": {},
     "output_type": "execute_result"
    }
   ],
   "source": [
    "xtrps_dot_X= Xtrps.dot(X_train)      #  X_train.T X_train\n",
    "xtrps_dot_X"
   ]
  },
  {
   "cell_type": "code",
   "execution_count": 63,
   "metadata": {},
   "outputs": [],
   "source": [
    "#Regularization \n",
    "#n= len(xtrps_dot_X)\n",
    "#L=np.eye(n)\n",
    "#L[0,0]=0\n",
    "\n",
    "#lamda=180\n",
    "\n",
    "#initialement without lamda*l(regularization)  cost= 0.00029727114900567796\n",
    "#lamda=0.1 cost=0.002253520093617522\n",
    "#lamda=40 cost=0.0007960680626412516\n",
    "#lamda=400 cost=0.0007295950321839119\n",
    "#lamda=60 cost= 0.0006652943386509637\n",
    "#lamda=80 cost= 0.0006119894147395088\n",
    "#lamda=100 cost=0.000588272164768957\n",
    "#lamda=180 cost=0.0005845910760909942\n",
    "#lamda=200 cost=0.0005925002416069014\n",
    "#lamda=240 cost=0.0006130633667109279\n",
    "#lamda=280 cost=0.0006381004825140739\n",
    "#lamda=1000 cost= 0.001307749347605921\n",
    "\n",
    "# so the best is Lambda=180 \n",
    "#lamdadotL= lamda* L\n",
    "#lamdadotL\n",
    "#the regularization (adding λ*L ) is generally used when X.T X  IS NOT invertible but in our case  (X.T X) is invertible, so no need\n",
    "#Also the number of features is < compared to the number of instances"
   ]
  },
  {
   "cell_type": "code",
   "execution_count": 64,
   "metadata": {},
   "outputs": [
    {
     "data": {
      "text/plain": [
       "array([[ 1.07039721e+06, -1.08448422e+02, -1.00990248e-02,\n",
       "        -7.31701531e-02,  5.61514906e-01, -2.09981620e+03,\n",
       "        -6.57900532e+03],\n",
       "       [-1.08448421e+02,  5.78013853e-02, -2.83191498e-05,\n",
       "        -2.97281832e-06, -5.40724476e-04, -6.24181295e-02,\n",
       "        -5.22381457e-02],\n",
       "       [-1.00990232e-02, -2.83191500e-05,  3.34326726e-05,\n",
       "        -1.84463442e-08, -9.61674007e-06, -3.93305230e-03,\n",
       "         1.35569986e-03],\n",
       "       [-7.31701535e-02, -2.97281821e-06, -1.84463441e-08,\n",
       "         1.37240749e-08,  1.32198358e-06,  3.72143872e-04,\n",
       "         5.74683746e-04],\n",
       "       [ 5.61514913e-01, -5.40724477e-04, -9.61674007e-06,\n",
       "         1.32198358e-06,  8.68062628e-04, -3.12882443e-02,\n",
       "         1.07252388e-02],\n",
       "       [-2.09981624e+03, -6.24181239e-02, -3.93305230e-03,\n",
       "         3.72143874e-04, -3.12882443e-02,  5.14087372e+01,\n",
       "         7.74835217e+00],\n",
       "       [-6.57900533e+03, -5.22381375e-02,  1.35569987e-03,\n",
       "         5.74683744e-04,  1.07252388e-02,  7.74835200e+00,\n",
       "         5.34009307e+01]])"
      ]
     },
     "execution_count": 64,
     "metadata": {},
     "output_type": "execute_result"
    }
   ],
   "source": [
    "#temp_1=np.linalg.inv(xtrps_dot_X+ lamdadotL)  # inverse( X_train.T X_train + λ*L) \n",
    "temp_1=np.linalg.inv(xtrps_dot_X)  # inverse( X_train.T X_train )\n",
    "temp_1"
   ]
  },
  {
   "cell_type": "code",
   "execution_count": 65,
   "metadata": {},
   "outputs": [
    {
     "data": {
      "text/plain": [
       "array([8.65420000e+03, 1.74220131e+07, 1.51380210e+05, 6.41924346e+06,\n",
       "       4.10389000e+04, 2.16104383e+05, 1.05180326e+06])"
      ]
     },
     "execution_count": 65,
     "metadata": {},
     "output_type": "execute_result"
    }
   ],
   "source": [
    "temp_2= Xtrps.dot(Y_train)  # X_train.T Y_train\n",
    "temp_2"
   ]
  },
  {
   "cell_type": "code",
   "execution_count": 66,
   "metadata": {},
   "outputs": [
    {
     "data": {
      "text/plain": [
       "array([-5.24701030e+03,  3.52090313e+00, -2.47900276e-01, -5.90263191e-03,\n",
       "        9.22473827e-01,  2.25931190e+02, -6.11976546e+01])"
      ]
     },
     "execution_count": 66,
     "metadata": {},
     "output_type": "execute_result"
    }
   ],
   "source": [
    "Teta = temp_1.dot(temp_2)  # INV(X_train.T X_train)* (X-train.T Y_train) = temp_1* temp_2\n",
    "Teta"
   ]
  },
  {
   "cell_type": "code",
   "execution_count": 67,
   "metadata": {},
   "outputs": [
    {
     "name": "stdout",
     "output_type": "stream",
     "text": [
      "-5247.010301589966\n",
      "3.5209031274716835\n",
      "-0.24790027635776823\n",
      "-0.005902631913727419\n",
      "0.9224738268985675\n",
      "225.93118986394256\n",
      "-61.197654627263546\n"
     ]
    }
   ],
   "source": [
    "teta0= Teta[0]\n",
    "teta1= Teta[1]\n",
    "teta2= Teta[2]\n",
    "teta3= Teta[3]\n",
    "teta4= Teta[4]\n",
    "teta5= Teta[5]\n",
    "teta6= Teta[6]\n",
    "\n",
    "print(teta0)\n",
    "print(teta1)\n",
    "print(teta2)\n",
    "print(teta3)\n",
    "print(teta4)\n",
    "print(teta5)\n",
    "print(teta6)"
   ]
  },
  {
   "cell_type": "code",
   "execution_count": 68,
   "metadata": {},
   "outputs": [],
   "source": [
    "def pred_value(teta0,teta1,teta2,teta3,teta4,teta5,teta6,Transaction_Date,House_Age,Distance,Num_Stores_NearBy,Latitude,Longitude):\n",
    "    prediction_value= teta0+ teta1*Transaction_Date+ teta2*House_Age+ teta3*Distance+ teta4*Num_Stores_NearBy+ teta5*Latitude+ teta6*Longitude\n",
    "    return prediction_value "
   ]
  },
  {
   "cell_type": "code",
   "execution_count": 69,
   "metadata": {},
   "outputs": [
    {
     "name": "stdout",
     "output_type": "stream",
     "text": [
      "45.314744862865155\n"
     ]
    }
   ],
   "source": [
    "\n",
    "Transaction_Date=2013.000000\n",
    "House_Age= 8.1\n",
    "Distance= 104.81010\n",
    "Num_Stores_NearBy= 5\n",
    "Latitude= 24.96674\n",
    "Longitude= 121.54067\n",
    "\n",
    "print (pred_value(teta0,teta1,teta2,teta3,teta4,teta5,teta6,Transaction_Date,House_Age,Distance,Num_Stores_NearBy,Latitude,Longitude))\n",
    "#406\t2013.000000\t8.1\t104.81010\t5\t24.96674\t121.54067\t52.5\n"
   ]
  },
  {
   "cell_type": "code",
   "execution_count": 70,
   "metadata": {},
   "outputs": [
    {
     "name": "stdout",
     "output_type": "stream",
     "text": [
      "52.812566221285124\n"
     ]
    }
   ],
   "source": [
    "Transaction_Date=2013.500000\n",
    "House_Age= 6.5\n",
    "Distance= 90.45606\n",
    "Num_Stores_NearBy= 9\n",
    "Latitude= 24.97433\n",
    "Longitude= 121.54310\n",
    "\n",
    "print (pred_value(teta0,teta1,teta2,teta3,teta4,teta5,teta6,Transaction_Date,House_Age,Distance,Num_Stores_NearBy,Latitude,Longitude))\n",
    "\n",
    "#407\t2013.500000\t6.5\t90.45606\t9\t24.97433\t121.54310\t63.9"
   ]
  },
  {
   "cell_type": "code",
   "execution_count": 71,
   "metadata": {},
   "outputs": [],
   "source": [
    "def calculate_hypothesis(X,teta,i): \n",
    "    hypthessis=teta[0]*X[i,0]+teta[1]*X[i,1]+teta[2]*X[i,2]+teta[3]*X[i,3]+teta[4]*X[i,4]+teta[5]*X[i,5]+teta[6]*X[i,6]\n",
    "    return hypthessis"
   ]
  },
  {
   "cell_type": "code",
   "execution_count": 72,
   "metadata": {},
   "outputs": [],
   "source": [
    "hypotessis_vec= np.array([])\n",
    "lenght= np.size(X_test,0)\n",
    "for i in np.arange(lenght):\n",
    "    hypothessis= calculate_hypothesis(X_test,Teta,i)\n",
    "    hypotessis_vec=np.append(hypotessis_vec,hypothessis)\n",
    "#predict X-test\n",
    "  "
   ]
  },
  {
   "cell_type": "code",
   "execution_count": 73,
   "metadata": {},
   "outputs": [
    {
     "data": {
      "text/plain": [
       "array([38.70383929, 34.49384295, 45.79356123, 51.29020114, 36.53186759,\n",
       "       41.68746264, 32.98114505, 17.69991165, 29.57903595, 39.56108449,\n",
       "       47.78916271, 12.82244655, 49.5612206 , 41.610746  , 26.78072404,\n",
       "       38.79744276, 11.38805525, 40.90815584, 41.60637038, 30.13589054,\n",
       "       29.77102224, 44.02000322, 46.65734364, 10.0447907 , 46.08868641,\n",
       "       45.36537732, 46.97603632, 12.40269649, 50.19281489, 32.69096138,\n",
       "       34.65735928, 10.22492854, 43.67490593, 42.02780293, 46.08697006,\n",
       "       43.26766184, 50.48622336, 38.16591148, 28.69654809, 29.07904739,\n",
       "       53.68436017, 44.9600573 , 12.83262992, 24.01848789, 39.4845779 ,\n",
       "       47.83776179, 36.3315221 , 37.26887278, 42.97035539, 41.71902914,\n",
       "       41.2403141 , 44.50888916, 48.06617026, 40.02410252, 34.46115806,\n",
       "       39.94611795, 42.7674521 , 37.63583438, 41.15251324, 39.86978196,\n",
       "       48.60340751, 45.81835126, 52.27532897, 42.26360699, 37.69258197,\n",
       "       31.13596785, 46.55427146, 50.77963219, 46.62420695, 47.49575388,\n",
       "       39.53143435, 31.21212111, 27.61136977, 44.80340824, 50.92292225,\n",
       "       46.5931326 , 47.56747826, 53.08118467, 48.64195276, 26.94181159,\n",
       "       38.15920922, 52.78410268, 42.59486942, 40.26936202, 51.22667072,\n",
       "       28.46628149, 47.22713544, 46.40863763, 45.50494694, 47.55164502,\n",
       "       46.37678762, 34.13466227, 45.58374848, 30.7104891 , 43.67955939,\n",
       "       47.59468576, 13.67783207, 32.94982401, 34.35796055, 10.69523881,\n",
       "       34.3089101 , 45.35160363, 43.29128595, 32.82465663, 39.07722019,\n",
       "       45.59572195, 39.31725572, 36.99324943, 30.34661169, 43.51550812,\n",
       "       33.74688282, 42.22469989, 43.90592106, 30.87028677, 24.13452235,\n",
       "       35.33942248, 49.05348129, 47.78916271, 44.83658478, 46.91761578,\n",
       "       30.26694065, 38.75902168, 46.91761578, 28.49008451, 41.92215474,\n",
       "       32.30319595, 11.90050247, 22.78900745, 25.10284879, 38.75902168,\n",
       "       36.44526946, 43.9344305 , 45.79533464, 52.81256622, 42.19911521,\n",
       "       43.92504036, 43.12945376, 27.24080515, 38.19376841, 44.50422558,\n",
       "       31.69230514, 44.47525866, 50.11486163, 45.75007808, 31.93740894,\n",
       "       50.10159065, 41.06076794, 11.1354742 , 41.68156315, 48.7257718 ,\n",
       "       13.35694105, 33.09327508, 44.92930232, 47.1614442 , 54.05450567,\n",
       "       45.23554677, 47.81669547, 44.40054945, 43.99759675, 40.50710621,\n",
       "       37.68523585, 43.56134848, 44.01369543, 41.00261511, 47.92215443,\n",
       "       44.67430121, 47.71103574, 38.90136248, 34.75711403, 30.76074763,\n",
       "       42.07951064, 52.54394777, 14.09903082, 46.59409424, 10.17709524,\n",
       "       11.00709482, 34.73097388, 41.85406509, 39.11596603, 33.71114843])"
      ]
     },
     "execution_count": 73,
     "metadata": {},
     "output_type": "execute_result"
    }
   ],
   "source": [
    "hypotessis_vec"
   ]
  },
  {
   "cell_type": "code",
   "execution_count": 74,
   "metadata": {},
   "outputs": [],
   "source": [
    "hypotessis_vect= np.array([])\n",
    "lenght= np.size(X_train,0)\n",
    "for i in np.arange(lenght):\n",
    "    hypothessis= calculate_hypothesis(X_train,Teta,i)\n",
    "    hypotessis_vect=np.append(hypotessis_vect,hypothessis)\n",
    "#predict X-train"
   ]
  },
  {
   "cell_type": "code",
   "execution_count": 75,
   "metadata": {},
   "outputs": [
    {
     "data": {
      "text/plain": [
       "array([42.97425336, 45.60815334, 38.89286123,  9.86197081, 44.50888916,\n",
       "       47.32676822, 53.94966749, 31.13890522, 46.38037853, 40.22259323,\n",
       "       46.45675455, 44.68579195, 10.55723792, 19.56211324, 45.8659276 ,\n",
       "       45.69684534, 41.87498883, 38.55763112, 25.05440686, 42.57751857,\n",
       "       47.86400512, 42.70046091, 40.29399533, 47.94920469, 43.93492017,\n",
       "       44.11014653, 39.50969499, 31.4045863 , 39.72919527, 50.90744635,\n",
       "       48.91952764, 10.28003845, 39.70990053, 30.03964104, 35.02252786,\n",
       "       37.71002588, 51.41989322, 45.42164799, 32.81528412, 42.19547119,\n",
       "       42.91646265, 45.54532847, 47.91633328, 11.70857571, 40.92418008,\n",
       "       45.04612641, 43.06918342, 28.46144235, 47.24395765, 43.62437001,\n",
       "       37.12703207, 36.74845911, 48.30282861, 47.38748193, 38.50353304,\n",
       "       32.58752932, 39.7635213 , 12.96472377, 44.64360531, 25.94206172,\n",
       "       33.6661495 , 42.04305797, 31.08573537, 11.43452614, 46.97603632,\n",
       "       47.806065  , 43.18168638, 48.94293227, 39.34567982, 46.56974181,\n",
       "       43.26766184, 48.60340751, 39.09486837, 45.36537732, 40.81317264,\n",
       "       32.87025494, 30.62645799, 12.96472377, 39.45824442, 32.53603596,\n",
       "       44.64879508, 46.14001883, 41.13873983, 33.50640826, 40.83123223,\n",
       "       34.6506713 , 50.61403752, 42.20885796, 33.98544385, 27.43632928,\n",
       "       44.37498686, 47.57059664, 47.3982178 , 38.19835173, 27.56531611,\n",
       "       18.6529437 , 46.43879907, 42.48845803, 47.86414463, 46.41007555,\n",
       "       31.69998266, 44.69429705, 45.91856229, 34.77739556, 41.36254196,\n",
       "       39.55286336, 37.61917446, 43.71510221, 44.30005999, 29.03274512,\n",
       "       33.40547078, 40.97168795, 48.30282861, 34.80244076, 37.04975543,\n",
       "       25.55747887, 36.13632896, 26.90445647, 35.98449463, 48.08257119,\n",
       "       32.93418303, 46.20517987, 47.93359996, 43.21065487, 36.0101387 ,\n",
       "       39.55286336, 47.52197344, 27.56531611, 35.02122398, 44.11397783,\n",
       "       25.86733744, 32.55521371, 51.29588711, 29.03662637, 52.54394777,\n",
       "       38.39856546, 38.59693064, 49.1291549 , 53.08118467, 36.03129052,\n",
       "       29.89191966, 41.85909465, 48.85196027, 43.4069272 , 35.046014  ,\n",
       "       53.32133993, 42.8882779 , 13.34507714, 38.0604796 , 44.4596359 ,\n",
       "       45.31474486, 37.74255323, 11.1354742 , 49.64765752, 30.60467254,\n",
       "       47.03024136, 25.67977934, 47.19437759, 25.00487366, 43.96895413,\n",
       "       40.77572466, 40.8434988 , 42.31147106, 41.31020016, 48.3137575 ,\n",
       "       45.28111436, 27.95383462, 46.56930421, 30.57687794, 12.13307951,\n",
       "       44.50422558, 31.15427256, 12.42748652, 24.82606895, 40.57938835,\n",
       "       35.046014  , 30.18163169, 45.43600199, 29.54075599, 50.77963219,\n",
       "       13.80562235, 31.32257631, 37.48044444, 32.99399925, 46.24897526,\n",
       "       44.54723543, 42.85067942, 43.18168638, 43.12166208, 33.82781737,\n",
       "       40.76202302, 32.97381216, 11.36326522,  7.93277841, 41.74964914,\n",
       "       42.86659149, 36.43645489, 33.25238188, 43.24636285, 33.56244792,\n",
       "       43.65755596, 52.29168751, 42.27952913, 46.72307766, 37.35016365,\n",
       "       50.07680062, 33.82781737, 44.86709933, 41.1680085 , 13.83041237,\n",
       "       38.169774  , 36.24172972, 44.48515154, 44.35698309, 14.15234198,\n",
       "       34.86275311, 44.63603498, 30.84850132, 34.846147  , 35.47650978,\n",
       "       29.71792658, 40.53798047, 39.92586468, 34.92187464, 39.85047121,\n",
       "       42.16839766,  7.98426324, 37.05312574])"
      ]
     },
     "execution_count": 75,
     "metadata": {},
     "output_type": "execute_result"
    }
   ],
   "source": [
    "hypotessis_vect"
   ]
  },
  {
   "cell_type": "code",
   "execution_count": 76,
   "metadata": {},
   "outputs": [],
   "source": [
    "def compute_cost(X,Y,teta): #calculate the meen squar error wich includes the function calculate_hypothesis\n",
    "    J=0.0\n",
    "    m=np.size(Y,0)\n",
    "    for i in range(m):\n",
    "        hypothessis= calculate_hypothesis(X,Teta,i)\n",
    "        squared_error=np.power((hypothessis-Y.iloc[i]),2) # (h(0)i-yi)^2 \n",
    "        J=J+squared_error\n",
    "        J=J*(1.0/(2*m)) # (1/2*m )* sum de i allant de 1 à m de notre (h(0)i-yi)^2\n",
    "    return J"
   ]
  },
  {
   "cell_type": "code",
   "execution_count": 77,
   "metadata": {
    "scrolled": true
   },
   "outputs": [
    {
     "data": {
      "text/plain": [
       "0.00029727114900567796"
      ]
     },
     "execution_count": 77,
     "metadata": {},
     "output_type": "execute_result"
    }
   ],
   "source": [
    "cost=compute_cost(X_test,Y_test,Teta) #calculate the meen squar error wich includes the function calculate_hypothesis\n",
    "cost"
   ]
  },
  {
   "cell_type": "code",
   "execution_count": 78,
   "metadata": {},
   "outputs": [
    {
     "data": {
      "text/plain": [
       "0.0008030134702190326"
      ]
     },
     "execution_count": 78,
     "metadata": {},
     "output_type": "execute_result"
    }
   ],
   "source": [
    "cost2=compute_cost(X_train,Y_train,Teta) #calculate the meen squar error wich includes the function calculate_hypothesis in order to see if we have overfiting compared to the compute_cost(X_test,Y_test,Teta)\n",
    "cost2\n",
    "#we can notify that cost2 which represent the meen squar error train < cost which represent the meen squar error test "
   ]
  },
  {
   "cell_type": "code",
   "execution_count": 79,
   "metadata": {},
   "outputs": [
    {
     "name": "stdout",
     "output_type": "stream",
     "text": [
      "R Squared score :\n",
      "Train set R2 score: 0.5333408693314206\n",
      "Test set R2 score : 0.6174466682913551\n"
     ]
    }
   ],
   "source": [
    "from sklearn.metrics import r2_score\n",
    "\n",
    "print('R Squared score :')         \n",
    "print('Train set R2 score: '+'{}'.format(r2_score(Y_train,hypotessis_vect)))                \n",
    "print('Test set R2 score : '+'{}'.format(r2_score(Y_test,hypotessis_vec)))"
   ]
  },
  {
   "cell_type": "code",
   "execution_count": 80,
   "metadata": {},
   "outputs": [
    {
     "data": {
      "text/plain": [
       "Text(0.5, 1.0, 'Predicted target - Test target\\n NE')"
      ]
     },
     "execution_count": 80,
     "metadata": {},
     "output_type": "execute_result"
    },
    {
     "data": {
      "image/png": "[encoded data removed]",
      "text/plain": [
       "<Figure size 648x360 with 1 Axes>"
      ]
     },
     "metadata": {
      "needs_background": "light"
     },
     "output_type": "display_data"
    }
   ],
   "source": [
    "# Plotting the predicted targets and the test targets\n",
    "\n",
    "plt.figure(figsize=(9, 5))\n",
    "plt.scatter(range(0, len( Y_test)), Y_test)\n",
    "plt.scatter(range(0, len( hypotessis_vec) ), hypotessis_vec, marker = \"^\", color = \"red\")\n",
    "plt.legend([\"Test\", \"Prediction\"])\n",
    "plt.xlabel(\"Instance number\")\n",
    "plt.ylabel(\"Target value\")\n",
    "plt.title(\"Predicted target - Test target\\n NE\")"
   ]
  },
  {
   "cell_type": "markdown",
   "metadata": {},
   "source": [
    "# Neural Network for regression"
   ]
  },
  {
   "cell_type": "code",
   "execution_count": 81,
   "metadata": {},
   "outputs": [],
   "source": [
    "#import librairies and getting the input and output sets\n",
    "\n",
    "%matplotlib inline\n",
    "import numpy as np\n",
    "import pandas as pd\n",
    "import matplotlib.pyplot as plt\n",
    "\n",
    "y = df2['Target']\n",
    "\n",
    "X_DataFrame = df2[['Transaction_Date', 'House_Age', 'Distance', 'Num_Stores_NearBy', 'Latitude', 'Longitude']]\n",
    "\n",
    "X = X_DataFrame.to_numpy()"
   ]
  },
  {
   "cell_type": "markdown",
   "metadata": {},
   "source": [
    "## Split the Dataset into Train and Test sets"
   ]
  },
  {
   "cell_type": "code",
   "execution_count": 82,
   "metadata": {},
   "outputs": [
    {
     "name": "stdout",
     "output_type": "stream",
     "text": [
      "Train set X shape =  (326, 6) \n",
      "Train set y shape =  (326,)\n",
      "Test set X shape  =  (82, 6) \n",
      "Test set y shape  =  (82,)\n"
     ]
    }
   ],
   "source": [
    "from sklearn.model_selection import train_test_split \n",
    "\n",
    "X_train, X_test, y_train, y_test = train_test_split(X, y, test_size = 0.2, random_state = 0)\n",
    "\n",
    "print (\"Train set X shape = \", X_train.shape, \"\\nTrain set y shape = \", y_train.shape)\n",
    "\n",
    "print (\"Test set X shape  = \", X_test.shape, \"\\nTest set y shape  = \", y_test.shape)"
   ]
  },
  {
   "cell_type": "markdown",
   "metadata": {},
   "source": [
    "## Tuning parameters for the model"
   ]
  },
  {
   "cell_type": "code",
   "execution_count": 83,
   "metadata": {},
   "outputs": [
    {
     "name": "stdout",
     "output_type": "stream",
     "text": [
      "The MSE score = 0.003135 for [7, 7] network, 1e-05 alpha, lbfgs sol and tanh act.\n",
      "The MSE score = 0.003142 for [9, 7] network, 1e-05 alpha, lbfgs sol and tanh act.\n"
     ]
    }
   ],
   "source": [
    "from sklearn.neural_network import MLPRegressor\n",
    "from sklearn.metrics import mean_squared_error\n",
    "\n",
    "alpha = 0.00001\n",
    "networks = []\n",
    "\n",
    "for i in range(1, 4):\n",
    "    networks.append([i])\n",
    "    \n",
    "for i in range(1, 10):\n",
    "    for j in range(1, 10):\n",
    "        networks.append([i, j])\n",
    "\n",
    "for network in networks:\n",
    "    for sol in ['adam', 'sgd', 'lbfgs']:\n",
    "        for act in ['relu', 'tanh']:\n",
    "            clr = MLPRegressor(solver = sol, activation = act,  alpha = alpha, hidden_layer_sizes = network, random_state = 1, max_iter = 2500)\n",
    "            clr.fit(X_train, y_train)\n",
    "            y_pred = clr.predict(X_test)\n",
    "            if (mean_squared_error(y_test,y_pred) < 0.0032):\n",
    "                print('The MSE score = {:.6f} for {} network, {} alpha, {} sol and {} act.'.format(mean_squared_error(y_test,y_pred), network, alpha, sol, act))    \n",
    "                \n",
    "# alpha = 0.00001\n",
    "# The MSE score = 0.003019 for [7, 4] network, 1e-05 alpha, lbfgs sol and tanh act.\n",
    "# The MSE score = 0.003111 for [7, 7] network, 1e-05 alpha, lbfgs sol and tanh act."
   ]
  },
  {
   "cell_type": "markdown",
   "metadata": {},
   "source": [
    "- In first executions, we noticed that the logistic activation function does not produce any interesting results at all no matter the chosen alpha values (0.6, 0.01, 0.001 etc.), we must then remove it for the remaining tests.\n",
    "- In a couple more executions, we noticed that all three solvers can produce relatively similar results, so we must try testing all three solver with more larger sets of values for the rest of the parameters."
   ]
  },
  {
   "cell_type": "markdown",
   "metadata": {},
   "source": [
    "- We managed to reach a mean squarred error score of 0.003187 with this set of loops, changing in each exection the alpha value manually."
   ]
  },
  {
   "cell_type": "markdown",
   "metadata": {},
   "source": [
    "- Further tests will help to widen the set of possible alphas by implementing another loop which tests over 100 possible alpha values, to find better and more accurate results. \n",
    "- We will try those alpha values on all solvers, with the relu and tanh activation functions, and with different neural network structures"
   ]
  },
  {
   "cell_type": "markdown",
   "metadata": {},
   "source": [
    "After several tests, we managed to find a relatively low mean square error value (0.002414), for a [9, 9] neural network structure, with the \"lbfgs\" solver and the \"tanh\" activation function. "
   ]
  },
  {
   "cell_type": "markdown",
   "metadata": {},
   "source": [
    "We will try to reduce this MSE value by changing the alpha set of values."
   ]
  },
  {
   "cell_type": "code",
   "execution_count": 84,
   "metadata": {},
   "outputs": [],
   "source": [
    "# After trying different combinations of values for the \"for\" loops\n",
    "# The following one gave us the lowest MSE score we could reach\n",
    "\n",
    "# for i in np.linspace(0.0021, 0.0025, 300):\n",
    "#     clr = MLPRegressor(solver = 'lbfgs', activation = 'tanh',  alpha = i, hidden_layer_sizes = [9, 9], random_state = 1, max_iter = 2500)\n",
    "#     clr.fit(X_train, y_train)\n",
    "#     y_pred = clr.predict(X_test)\n",
    "#     if (mean_squared_error(y_test,y_pred) < 0.0025):\n",
    "#         print('The MSE score = {} for {} network, {} alpha, {} sol, {} act.'.format(mean_squared_error(y_test,y_pred), network, i, sol, act))\n",
    "        \n",
    "# Best result :\n",
    "# The MSE score = 0.002414079377004218 for [9, 9] network, 0.002326086956521739 alpha, lbfgs sol, tanh act."
   ]
  },
  {
   "cell_type": "markdown",
   "metadata": {},
   "source": [
    "We managed to find a combination of parameters for this model that gives an acceptable mean square error value of of 0.002414079377004218\n",
    "- Alpha  = 0.002326086956521739\n",
    "- Network    = [9, 9]\n",
    "- Solver     = lbfgs\n",
    "- Activation = tanh"
   ]
  },
  {
   "cell_type": "markdown",
   "metadata": {},
   "source": [
    "## Results"
   ]
  },
  {
   "cell_type": "code",
   "execution_count": 85,
   "metadata": {},
   "outputs": [
    {
     "name": "stdout",
     "output_type": "stream",
     "text": [
      "Mean Squarred Error scores :\n",
      "Train set MSE score: 0.0041811125281805365\n",
      "Test set MSE score : 0.0027414996817769852\n"
     ]
    }
   ],
   "source": [
    "print('Mean Squarred Error scores :')\n",
    "clr = MLPRegressor(solver='lbfgs', activation = 'tanh', alpha = 0.002326086956521739, hidden_layer_sizes=[9, 9], max_iter= 2500, random_state = 1)\n",
    "clr.fit(X_train, y_train)\n",
    "y_pred = clr.predict(X_test)\n",
    "y_train_pred = clr.predict(X_train)           \n",
    "print('Train set MSE score: '+'{}'.format(mean_squared_error(y_train,y_train_pred)))                \n",
    "print('Test set MSE score : '+'{}'.format(mean_squared_error(y_test,y_pred)))"
   ]
  },
  {
   "cell_type": "code",
   "execution_count": 86,
   "metadata": {},
   "outputs": [
    {
     "name": "stdout",
     "output_type": "stream",
     "text": [
      "R Squared score :\n",
      "Train set R2 score: 0.7207791121725162\n",
      "Test set R2 score : 0.8136630459943734\n"
     ]
    }
   ],
   "source": [
    "from sklearn.metrics import r2_score\n",
    "\n",
    "print('R Squared score :')         \n",
    "print('Train set R2 score: '+'{}'.format(r2_score(y_train,y_train_pred)))                \n",
    "print('Test set R2 score : '+'{}'.format(r2_score(y_test,y_pred)))"
   ]
  },
  {
   "cell_type": "code",
   "execution_count": 87,
   "metadata": {},
   "outputs": [
    {
     "data": {
      "text/plain": [
       "Text(0.5, 1.0, 'Predicted target - Test target\\n (MSE = 0.002414)')"
      ]
     },
     "execution_count": 87,
     "metadata": {},
     "output_type": "execute_result"
    },
    {
     "data": {
      "image/png": "[encoded data removed]",
      "text/plain": [
       "<Figure size 648x360 with 1 Axes>"
      ]
     },
     "metadata": {
      "needs_background": "light"
     },
     "output_type": "display_data"
    }
   ],
   "source": [
    "# Plotting the predicted targets and the test targets\n",
    "\n",
    "plt.figure(figsize=(9, 5))\n",
    "plt.scatter(range(0, 82), y_test)\n",
    "plt.scatter(range(0, 82), y_pred, marker = \"^\", color = \"red\")\n",
    "plt.legend([\"Test\", \"Prediction\"])\n",
    "plt.xlabel(\"Instance number\")\n",
    "plt.ylabel(\"Target value\")\n",
    "plt.title(\"Predicted target - Test target\\n (MSE = 0.002414)\")"
   ]
  },
  {
   "cell_type": "code",
   "execution_count": null,
   "metadata": {},
   "outputs": [],
   "source": []
  }
 ],
 "metadata": {
  "kernelspec": {
   "display_name": "Python 3",
   "language": "python",
   "name": "python3"
  },
  "language_info": {
   "codemirror_mode": {
    "name": "ipython",
    "version": 3
   },
   "file_extension": ".py",
   "mimetype": "text/x-python",
   "name": "python",
   "nbconvert_exporter": "python",
   "pygments_lexer": "ipython3",
   "version": "3.8.5"
  }
 },
 "nbformat": 4,
 "nbformat_minor": 4
}
