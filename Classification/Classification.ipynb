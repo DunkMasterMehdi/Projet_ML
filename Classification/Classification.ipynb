{
 "cells": [
  {
   "cell_type": "markdown",
   "metadata": {},
   "source": [
    "# Projet ML"
   ]
  },
  {
   "cell_type": "code",
   "execution_count": 641,
   "metadata": {},
   "outputs": [],
   "source": [
    "import pandas as pd\n",
    "import numpy as np\n",
    "import matplotlib.pyplot as plt"
   ]
  },
  {
   "cell_type": "markdown",
   "metadata": {},
   "source": [
    "# Dataset classification\n",
    "\n",
    "Immunotherapy Dataset\n",
    "\n",
    "Link:\n",
    "https://archive.ics.uci.edu/ml/datasets/Immunotherapy+Dataset?fbclid=IwAR3UvWjj_2qqoS-_bjMEWCnrSUNS-1LezCZk1G6yMLHf_lAbpO4DZ76VZO0"
   ]
  },
  {
   "cell_type": "code",
   "execution_count": 642,
   "metadata": {},
   "outputs": [],
   "source": [
    "#Open the dataset with read_excel()\n",
    "df = pd.read_excel(\"Immunotherapy.xlsx\")"
   ]
  },
  {
   "cell_type": "code",
   "execution_count": 643,
   "metadata": {},
   "outputs": [],
   "source": [
    "#Rename the features \n",
    "df.rename(\n",
    "    columns={\n",
    "        \"sex\": \"Sex\", \n",
    "        \"age\": \"Age\", \n",
    "        \"Number_of_Warts\": \"Nbr_Warts\",\n",
    "        \"induration_diameter\": \"Induration_diameter\",\n",
    "        \"Result_of_Treatment\": \"Result\", \n",
    "    },\n",
    "    inplace = True\n",
    ")"
   ]
  },
  {
   "cell_type": "code",
   "execution_count": 644,
   "metadata": {},
   "outputs": [
    {
     "data": {
      "text/html": [
       "<div>\n",
       "<style scoped>\n",
       "    .dataframe tbody tr th:only-of-type {\n",
       "        vertical-align: middle;\n",
       "    }\n",
       "\n",
       "    .dataframe tbody tr th {\n",
       "        vertical-align: top;\n",
       "    }\n",
       "\n",
       "    .dataframe thead th {\n",
       "        text-align: right;\n",
       "    }\n",
       "</style>\n",
       "<table border=\"1\" class=\"dataframe\">\n",
       "  <thead>\n",
       "    <tr style=\"text-align: right;\">\n",
       "      <th></th>\n",
       "      <th>Sex</th>\n",
       "      <th>Age</th>\n",
       "      <th>Time</th>\n",
       "      <th>Nbr_Warts</th>\n",
       "      <th>Type</th>\n",
       "      <th>Area</th>\n",
       "      <th>Induration_diameter</th>\n",
       "      <th>Result</th>\n",
       "    </tr>\n",
       "  </thead>\n",
       "  <tbody>\n",
       "    <tr>\n",
       "      <th>0</th>\n",
       "      <td>1</td>\n",
       "      <td>22</td>\n",
       "      <td>2.25</td>\n",
       "      <td>14</td>\n",
       "      <td>3</td>\n",
       "      <td>51</td>\n",
       "      <td>50</td>\n",
       "      <td>1</td>\n",
       "    </tr>\n",
       "    <tr>\n",
       "      <th>1</th>\n",
       "      <td>1</td>\n",
       "      <td>15</td>\n",
       "      <td>3.00</td>\n",
       "      <td>2</td>\n",
       "      <td>3</td>\n",
       "      <td>900</td>\n",
       "      <td>70</td>\n",
       "      <td>1</td>\n",
       "    </tr>\n",
       "    <tr>\n",
       "      <th>2</th>\n",
       "      <td>1</td>\n",
       "      <td>16</td>\n",
       "      <td>10.50</td>\n",
       "      <td>2</td>\n",
       "      <td>1</td>\n",
       "      <td>100</td>\n",
       "      <td>25</td>\n",
       "      <td>1</td>\n",
       "    </tr>\n",
       "    <tr>\n",
       "      <th>3</th>\n",
       "      <td>1</td>\n",
       "      <td>27</td>\n",
       "      <td>4.50</td>\n",
       "      <td>9</td>\n",
       "      <td>3</td>\n",
       "      <td>80</td>\n",
       "      <td>30</td>\n",
       "      <td>1</td>\n",
       "    </tr>\n",
       "    <tr>\n",
       "      <th>4</th>\n",
       "      <td>1</td>\n",
       "      <td>20</td>\n",
       "      <td>8.00</td>\n",
       "      <td>6</td>\n",
       "      <td>1</td>\n",
       "      <td>45</td>\n",
       "      <td>8</td>\n",
       "      <td>1</td>\n",
       "    </tr>\n",
       "    <tr>\n",
       "      <th>...</th>\n",
       "      <td>...</td>\n",
       "      <td>...</td>\n",
       "      <td>...</td>\n",
       "      <td>...</td>\n",
       "      <td>...</td>\n",
       "      <td>...</td>\n",
       "      <td>...</td>\n",
       "      <td>...</td>\n",
       "    </tr>\n",
       "    <tr>\n",
       "      <th>85</th>\n",
       "      <td>1</td>\n",
       "      <td>40</td>\n",
       "      <td>5.50</td>\n",
       "      <td>8</td>\n",
       "      <td>3</td>\n",
       "      <td>69</td>\n",
       "      <td>5</td>\n",
       "      <td>1</td>\n",
       "    </tr>\n",
       "    <tr>\n",
       "      <th>86</th>\n",
       "      <td>1</td>\n",
       "      <td>38</td>\n",
       "      <td>7.50</td>\n",
       "      <td>8</td>\n",
       "      <td>2</td>\n",
       "      <td>56</td>\n",
       "      <td>45</td>\n",
       "      <td>1</td>\n",
       "    </tr>\n",
       "    <tr>\n",
       "      <th>87</th>\n",
       "      <td>1</td>\n",
       "      <td>46</td>\n",
       "      <td>11.50</td>\n",
       "      <td>4</td>\n",
       "      <td>1</td>\n",
       "      <td>91</td>\n",
       "      <td>25</td>\n",
       "      <td>0</td>\n",
       "    </tr>\n",
       "    <tr>\n",
       "      <th>88</th>\n",
       "      <td>1</td>\n",
       "      <td>32</td>\n",
       "      <td>12.00</td>\n",
       "      <td>9</td>\n",
       "      <td>1</td>\n",
       "      <td>43</td>\n",
       "      <td>50</td>\n",
       "      <td>0</td>\n",
       "    </tr>\n",
       "    <tr>\n",
       "      <th>89</th>\n",
       "      <td>2</td>\n",
       "      <td>23</td>\n",
       "      <td>6.75</td>\n",
       "      <td>6</td>\n",
       "      <td>1</td>\n",
       "      <td>19</td>\n",
       "      <td>2</td>\n",
       "      <td>1</td>\n",
       "    </tr>\n",
       "  </tbody>\n",
       "</table>\n",
       "<p>90 rows × 8 columns</p>\n",
       "</div>"
      ],
      "text/plain": [
       "    Sex  Age   Time  Nbr_Warts  Type  Area  Induration_diameter  Result\n",
       "0     1   22   2.25         14     3    51                   50       1\n",
       "1     1   15   3.00          2     3   900                   70       1\n",
       "2     1   16  10.50          2     1   100                   25       1\n",
       "3     1   27   4.50          9     3    80                   30       1\n",
       "4     1   20   8.00          6     1    45                    8       1\n",
       "..  ...  ...    ...        ...   ...   ...                  ...     ...\n",
       "85    1   40   5.50          8     3    69                    5       1\n",
       "86    1   38   7.50          8     2    56                   45       1\n",
       "87    1   46  11.50          4     1    91                   25       0\n",
       "88    1   32  12.00          9     1    43                   50       0\n",
       "89    2   23   6.75          6     1    19                    2       1\n",
       "\n",
       "[90 rows x 8 columns]"
      ]
     },
     "execution_count": 644,
     "metadata": {},
     "output_type": "execute_result"
    }
   ],
   "source": [
    "df"
   ]
  },
  {
   "cell_type": "code",
   "execution_count": 645,
   "metadata": {},
   "outputs": [
    {
     "data": {
      "text/plain": [
       "Sex                      int64\n",
       "Age                      int64\n",
       "Time                   float64\n",
       "Nbr_Warts                int64\n",
       "Type                     int64\n",
       "Area                     int64\n",
       "Induration_diameter      int64\n",
       "Result                   int64\n",
       "dtype: object"
      ]
     },
     "execution_count": 645,
     "metadata": {},
     "output_type": "execute_result"
    }
   ],
   "source": [
    "# Data types of our dataframe\n",
    "df.dtypes"
   ]
  },
  {
   "cell_type": "code",
   "execution_count": 646,
   "metadata": {},
   "outputs": [
    {
     "data": {
      "text/html": [
       "<div>\n",
       "<style scoped>\n",
       "    .dataframe tbody tr th:only-of-type {\n",
       "        vertical-align: middle;\n",
       "    }\n",
       "\n",
       "    .dataframe tbody tr th {\n",
       "        vertical-align: top;\n",
       "    }\n",
       "\n",
       "    .dataframe thead th {\n",
       "        text-align: right;\n",
       "    }\n",
       "</style>\n",
       "<table border=\"1\" class=\"dataframe\">\n",
       "  <thead>\n",
       "    <tr style=\"text-align: right;\">\n",
       "      <th></th>\n",
       "      <th>Sex</th>\n",
       "      <th>Age</th>\n",
       "      <th>Time</th>\n",
       "      <th>Nbr_Warts</th>\n",
       "      <th>Type</th>\n",
       "      <th>Area</th>\n",
       "      <th>Induration_diameter</th>\n",
       "      <th>Result</th>\n",
       "    </tr>\n",
       "  </thead>\n",
       "  <tbody>\n",
       "    <tr>\n",
       "      <th>Sex</th>\n",
       "      <td>1.000000</td>\n",
       "      <td>0.043682</td>\n",
       "      <td>-0.014825</td>\n",
       "      <td>0.100785</td>\n",
       "      <td>-0.104623</td>\n",
       "      <td>-0.115664</td>\n",
       "      <td>0.015202</td>\n",
       "      <td>0.018831</td>\n",
       "    </tr>\n",
       "    <tr>\n",
       "      <th>Age</th>\n",
       "      <td>0.043682</td>\n",
       "      <td>1.000000</td>\n",
       "      <td>0.188981</td>\n",
       "      <td>0.000092</td>\n",
       "      <td>-0.056636</td>\n",
       "      <td>-0.064334</td>\n",
       "      <td>-0.007005</td>\n",
       "      <td>-0.188314</td>\n",
       "    </tr>\n",
       "    <tr>\n",
       "      <th>Time</th>\n",
       "      <td>-0.014825</td>\n",
       "      <td>0.188981</td>\n",
       "      <td>1.000000</td>\n",
       "      <td>0.050800</td>\n",
       "      <td>-0.262870</td>\n",
       "      <td>-0.047254</td>\n",
       "      <td>-0.183656</td>\n",
       "      <td>-0.361172</td>\n",
       "    </tr>\n",
       "    <tr>\n",
       "      <th>Nbr_Warts</th>\n",
       "      <td>0.100785</td>\n",
       "      <td>0.000092</td>\n",
       "      <td>0.050800</td>\n",
       "      <td>1.000000</td>\n",
       "      <td>0.148047</td>\n",
       "      <td>-0.107528</td>\n",
       "      <td>0.062383</td>\n",
       "      <td>-0.047160</td>\n",
       "    </tr>\n",
       "    <tr>\n",
       "      <th>Type</th>\n",
       "      <td>-0.104623</td>\n",
       "      <td>-0.056636</td>\n",
       "      <td>-0.262870</td>\n",
       "      <td>0.148047</td>\n",
       "      <td>1.000000</td>\n",
       "      <td>-0.042080</td>\n",
       "      <td>0.205546</td>\n",
       "      <td>0.083396</td>\n",
       "    </tr>\n",
       "    <tr>\n",
       "      <th>Area</th>\n",
       "      <td>-0.115664</td>\n",
       "      <td>-0.064334</td>\n",
       "      <td>-0.047254</td>\n",
       "      <td>-0.107528</td>\n",
       "      <td>-0.042080</td>\n",
       "      <td>1.000000</td>\n",
       "      <td>0.119262</td>\n",
       "      <td>0.043349</td>\n",
       "    </tr>\n",
       "    <tr>\n",
       "      <th>Induration_diameter</th>\n",
       "      <td>0.015202</td>\n",
       "      <td>-0.007005</td>\n",
       "      <td>-0.183656</td>\n",
       "      <td>0.062383</td>\n",
       "      <td>0.205546</td>\n",
       "      <td>0.119262</td>\n",
       "      <td>1.000000</td>\n",
       "      <td>-0.031273</td>\n",
       "    </tr>\n",
       "    <tr>\n",
       "      <th>Result</th>\n",
       "      <td>0.018831</td>\n",
       "      <td>-0.188314</td>\n",
       "      <td>-0.361172</td>\n",
       "      <td>-0.047160</td>\n",
       "      <td>0.083396</td>\n",
       "      <td>0.043349</td>\n",
       "      <td>-0.031273</td>\n",
       "      <td>1.000000</td>\n",
       "    </tr>\n",
       "  </tbody>\n",
       "</table>\n",
       "</div>"
      ],
      "text/plain": [
       "                          Sex       Age      Time  Nbr_Warts      Type  \\\n",
       "Sex                  1.000000  0.043682 -0.014825   0.100785 -0.104623   \n",
       "Age                  0.043682  1.000000  0.188981   0.000092 -0.056636   \n",
       "Time                -0.014825  0.188981  1.000000   0.050800 -0.262870   \n",
       "Nbr_Warts            0.100785  0.000092  0.050800   1.000000  0.148047   \n",
       "Type                -0.104623 -0.056636 -0.262870   0.148047  1.000000   \n",
       "Area                -0.115664 -0.064334 -0.047254  -0.107528 -0.042080   \n",
       "Induration_diameter  0.015202 -0.007005 -0.183656   0.062383  0.205546   \n",
       "Result               0.018831 -0.188314 -0.361172  -0.047160  0.083396   \n",
       "\n",
       "                         Area  Induration_diameter    Result  \n",
       "Sex                 -0.115664             0.015202  0.018831  \n",
       "Age                 -0.064334            -0.007005 -0.188314  \n",
       "Time                -0.047254            -0.183656 -0.361172  \n",
       "Nbr_Warts           -0.107528             0.062383 -0.047160  \n",
       "Type                -0.042080             0.205546  0.083396  \n",
       "Area                 1.000000             0.119262  0.043349  \n",
       "Induration_diameter  0.119262             1.000000 -0.031273  \n",
       "Result               0.043349            -0.031273  1.000000  "
      ]
     },
     "execution_count": 646,
     "metadata": {},
     "output_type": "execute_result"
    }
   ],
   "source": [
    "# Pairwise Correlation of the features\n",
    "df.corr()"
   ]
  },
  {
   "cell_type": "markdown",
   "metadata": {},
   "source": [
    "## Graphic Representation\n"
   ]
  },
  {
   "cell_type": "code",
   "execution_count": 647,
   "metadata": {},
   "outputs": [
    {
     "data": {
      "text/plain": [
       "<AxesSubplot:xlabel='Induration_diameter', ylabel='Result'>"
      ]
     },
     "execution_count": 647,
     "metadata": {},
     "output_type": "execute_result"
    },
    {
     "data": {
      "image/png": "[encoded data removed]",
      "text/plain": [
       "<Figure size 432x288 with 1 Axes>"
      ]
     },
     "metadata": {
      "needs_background": "light"
     },
     "output_type": "display_data"
    },
    {
     "data": {
      "image/png": "[encoded data removed]",
      "text/plain": [
       "<Figure size 432x288 with 1 Axes>"
      ]
     },
     "metadata": {
      "needs_background": "light"
     },
     "output_type": "display_data"
    },
    {
     "data": {
      "image/png": "[encoded data removed]",
      "text/plain": [
       "<Figure size 432x288 with 1 Axes>"
      ]
     },
     "metadata": {
      "needs_background": "light"
     },
     "output_type": "display_data"
    },
    {
     "data": {
      "image/png": "[encoded data removed]",
      "text/plain": [
       "<Figure size 432x288 with 1 Axes>"
      ]
     },
     "metadata": {
      "needs_background": "light"
     },
     "output_type": "display_data"
    },
    {
     "data": {
      "image/png": "[encoded data removed]",
      "text/plain": [
       "<Figure size 432x288 with 1 Axes>"
      ]
     },
     "metadata": {
      "needs_background": "light"
     },
     "output_type": "display_data"
    },
    {
     "data": {
      "image/png": "[encoded data removed]",
      "text/plain": [
       "<Figure size 432x288 with 1 Axes>"
      ]
     },
     "metadata": {
      "needs_background": "light"
     },
     "output_type": "display_data"
    },
    {
     "data": {
      "image/png": "[encoded data removed]",
      "text/plain": [
       "<Figure size 432x288 with 1 Axes>"
      ]
     },
     "metadata": {
      "needs_background": "light"
     },
     "output_type": "display_data"
    }
   ],
   "source": [
    "# Scatter plot of each feature\n",
    "df.plot(kind = 'scatter', x = 'Sex', y = 'Result', color='blue')\n",
    "df.plot(kind = 'scatter', x = 'Age', y = 'Result', color='green')\n",
    "df.plot(kind = 'scatter', x = 'Time', y = 'Result', color='red')\n",
    "df.plot(kind = 'scatter', x = 'Nbr_Warts', y = 'Result', color='magenta')\n",
    "df.plot(kind = 'scatter', x = 'Type', y = 'Result', color='blue')\n",
    "df.plot(kind = 'scatter', x = 'Area', y = 'Result', color='gray')\n",
    "df.plot(kind = 'scatter', x = 'Induration_diameter', y = 'Result', color='orange')"
   ]
  },
  {
   "cell_type": "code",
   "execution_count": null,
   "metadata": {},
   "outputs": [],
   "source": []
  },
  {
   "cell_type": "markdown",
   "metadata": {},
   "source": [
    "# I- Preprocessing\n"
   ]
  },
  {
   "cell_type": "markdown",
   "metadata": {},
   "source": [
    "# I.1- Missing values \n",
    "\n",
    "We use the commande df.isna().sum() to check if there are any missing values  \n"
   ]
  },
  {
   "cell_type": "code",
   "execution_count": 648,
   "metadata": {},
   "outputs": [
    {
     "data": {
      "text/plain": [
       "Sex                    0\n",
       "Age                    0\n",
       "Time                   0\n",
       "Nbr_Warts              0\n",
       "Type                   0\n",
       "Area                   0\n",
       "Induration_diameter    0\n",
       "Result                 0\n",
       "dtype: int64"
      ]
     },
     "execution_count": 648,
     "metadata": {},
     "output_type": "execute_result"
    }
   ],
   "source": [
    "df.isna().sum()\n",
    "# All the values are equal to zero, so there are no missing values"
   ]
  },
  {
   "cell_type": "code",
   "execution_count": null,
   "metadata": {},
   "outputs": [],
   "source": []
  },
  {
   "cell_type": "markdown",
   "metadata": {},
   "source": [
    "# I.2- Removing Categorical values \n",
    "\n",
    "The features 'Sex' and 'Type' are of Categorical type , we have to transforme them to a numerical type\n"
   ]
  },
  {
   "cell_type": "code",
   "execution_count": 649,
   "metadata": {},
   "outputs": [
    {
     "data": {
      "text/plain": [
       "Index(['Sex', 'Age', 'Time', 'Nbr_Warts', 'Type', 'Area',\n",
       "       'Induration_diameter', 'Result'],\n",
       "      dtype='object')"
      ]
     },
     "execution_count": 649,
     "metadata": {},
     "output_type": "execute_result"
    }
   ],
   "source": [
    "df.columns"
   ]
  },
  {
   "cell_type": "code",
   "execution_count": 650,
   "metadata": {},
   "outputs": [],
   "source": [
    "# We use the 'Dummies' methode:\n",
    "dummies_Type = pd.get_dummies(df['Type'], prefix='Type', dummy_na=False)\n",
    "dummies_Sex  = pd.get_dummies(df['Sex'], prefix='Sex', dummy_na=False)"
   ]
  },
  {
   "cell_type": "code",
   "execution_count": 651,
   "metadata": {},
   "outputs": [
    {
     "name": "stdout",
     "output_type": "stream",
     "text": [
      "   Type_1  Type_2  Type_3\n",
      "0       0       0       1\n",
      "1       0       0       1\n",
      "2       1       0       0\n",
      "3       0       0       1\n",
      "4       1       0       0\n"
     ]
    }
   ],
   "source": [
    "print(dummies_Type.head(5))"
   ]
  },
  {
   "cell_type": "code",
   "execution_count": 652,
   "metadata": {},
   "outputs": [],
   "source": [
    "dummies_Sex.rename(\n",
    "    columns={\n",
    "        \"Sex_1\": \"Sex_M\", \n",
    "        \"Sex_2\": \"Sex_F\", \n",
    "    },\n",
    "    inplace = True\n",
    ")"
   ]
  },
  {
   "cell_type": "code",
   "execution_count": 653,
   "metadata": {},
   "outputs": [
    {
     "name": "stdout",
     "output_type": "stream",
     "text": [
      "   Sex_M  Sex_F\n",
      "0      1      0\n",
      "1      1      0\n",
      "2      1      0\n",
      "3      1      0\n",
      "4      1      0\n"
     ]
    }
   ],
   "source": [
    "print(dummies_Sex.head(5))"
   ]
  },
  {
   "cell_type": "code",
   "execution_count": 654,
   "metadata": {},
   "outputs": [
    {
     "name": "stderr",
     "output_type": "stream",
     "text": [
      "C:\\Users\\user\\AppData\\Local\\Temp/ipykernel_16580/3401346393.py:1: FutureWarning: In a future version of pandas all arguments of DataFrame.drop except for the argument 'labels' will be keyword-only\n",
      "  df = df.drop('Sex', 1)\n"
     ]
    }
   ],
   "source": [
    "df = df.drop('Sex', 1)"
   ]
  },
  {
   "cell_type": "code",
   "execution_count": 655,
   "metadata": {},
   "outputs": [
    {
     "data": {
      "text/html": [
       "<div>\n",
       "<style scoped>\n",
       "    .dataframe tbody tr th:only-of-type {\n",
       "        vertical-align: middle;\n",
       "    }\n",
       "\n",
       "    .dataframe tbody tr th {\n",
       "        vertical-align: top;\n",
       "    }\n",
       "\n",
       "    .dataframe thead th {\n",
       "        text-align: right;\n",
       "    }\n",
       "</style>\n",
       "<table border=\"1\" class=\"dataframe\">\n",
       "  <thead>\n",
       "    <tr style=\"text-align: right;\">\n",
       "      <th></th>\n",
       "      <th>Age</th>\n",
       "      <th>Time</th>\n",
       "      <th>Nbr_Warts</th>\n",
       "      <th>Type</th>\n",
       "      <th>Area</th>\n",
       "      <th>Induration_diameter</th>\n",
       "      <th>Result</th>\n",
       "    </tr>\n",
       "  </thead>\n",
       "  <tbody>\n",
       "    <tr>\n",
       "      <th>0</th>\n",
       "      <td>22</td>\n",
       "      <td>2.25</td>\n",
       "      <td>14</td>\n",
       "      <td>3</td>\n",
       "      <td>51</td>\n",
       "      <td>50</td>\n",
       "      <td>1</td>\n",
       "    </tr>\n",
       "    <tr>\n",
       "      <th>1</th>\n",
       "      <td>15</td>\n",
       "      <td>3.00</td>\n",
       "      <td>2</td>\n",
       "      <td>3</td>\n",
       "      <td>900</td>\n",
       "      <td>70</td>\n",
       "      <td>1</td>\n",
       "    </tr>\n",
       "    <tr>\n",
       "      <th>2</th>\n",
       "      <td>16</td>\n",
       "      <td>10.50</td>\n",
       "      <td>2</td>\n",
       "      <td>1</td>\n",
       "      <td>100</td>\n",
       "      <td>25</td>\n",
       "      <td>1</td>\n",
       "    </tr>\n",
       "    <tr>\n",
       "      <th>3</th>\n",
       "      <td>27</td>\n",
       "      <td>4.50</td>\n",
       "      <td>9</td>\n",
       "      <td>3</td>\n",
       "      <td>80</td>\n",
       "      <td>30</td>\n",
       "      <td>1</td>\n",
       "    </tr>\n",
       "    <tr>\n",
       "      <th>4</th>\n",
       "      <td>20</td>\n",
       "      <td>8.00</td>\n",
       "      <td>6</td>\n",
       "      <td>1</td>\n",
       "      <td>45</td>\n",
       "      <td>8</td>\n",
       "      <td>1</td>\n",
       "    </tr>\n",
       "  </tbody>\n",
       "</table>\n",
       "</div>"
      ],
      "text/plain": [
       "   Age   Time  Nbr_Warts  Type  Area  Induration_diameter  Result\n",
       "0   22   2.25         14     3    51                   50       1\n",
       "1   15   3.00          2     3   900                   70       1\n",
       "2   16  10.50          2     1   100                   25       1\n",
       "3   27   4.50          9     3    80                   30       1\n",
       "4   20   8.00          6     1    45                    8       1"
      ]
     },
     "execution_count": 655,
     "metadata": {},
     "output_type": "execute_result"
    }
   ],
   "source": [
    "df.head(5)"
   ]
  },
  {
   "cell_type": "code",
   "execution_count": 656,
   "metadata": {},
   "outputs": [
    {
     "name": "stderr",
     "output_type": "stream",
     "text": [
      "C:\\Users\\user\\AppData\\Local\\Temp/ipykernel_16580/2018126150.py:1: FutureWarning: In a future version of pandas all arguments of DataFrame.drop except for the argument 'labels' will be keyword-only\n",
      "  df = df.drop('Type', 1)\n"
     ]
    }
   ],
   "source": [
    "df = df.drop('Type', 1)"
   ]
  },
  {
   "cell_type": "code",
   "execution_count": 657,
   "metadata": {},
   "outputs": [
    {
     "data": {
      "text/html": [
       "<div>\n",
       "<style scoped>\n",
       "    .dataframe tbody tr th:only-of-type {\n",
       "        vertical-align: middle;\n",
       "    }\n",
       "\n",
       "    .dataframe tbody tr th {\n",
       "        vertical-align: top;\n",
       "    }\n",
       "\n",
       "    .dataframe thead th {\n",
       "        text-align: right;\n",
       "    }\n",
       "</style>\n",
       "<table border=\"1\" class=\"dataframe\">\n",
       "  <thead>\n",
       "    <tr style=\"text-align: right;\">\n",
       "      <th></th>\n",
       "      <th>Age</th>\n",
       "      <th>Time</th>\n",
       "      <th>Nbr_Warts</th>\n",
       "      <th>Area</th>\n",
       "      <th>Induration_diameter</th>\n",
       "      <th>Result</th>\n",
       "    </tr>\n",
       "  </thead>\n",
       "  <tbody>\n",
       "    <tr>\n",
       "      <th>0</th>\n",
       "      <td>22</td>\n",
       "      <td>2.25</td>\n",
       "      <td>14</td>\n",
       "      <td>51</td>\n",
       "      <td>50</td>\n",
       "      <td>1</td>\n",
       "    </tr>\n",
       "    <tr>\n",
       "      <th>1</th>\n",
       "      <td>15</td>\n",
       "      <td>3.00</td>\n",
       "      <td>2</td>\n",
       "      <td>900</td>\n",
       "      <td>70</td>\n",
       "      <td>1</td>\n",
       "    </tr>\n",
       "    <tr>\n",
       "      <th>2</th>\n",
       "      <td>16</td>\n",
       "      <td>10.50</td>\n",
       "      <td>2</td>\n",
       "      <td>100</td>\n",
       "      <td>25</td>\n",
       "      <td>1</td>\n",
       "    </tr>\n",
       "    <tr>\n",
       "      <th>3</th>\n",
       "      <td>27</td>\n",
       "      <td>4.50</td>\n",
       "      <td>9</td>\n",
       "      <td>80</td>\n",
       "      <td>30</td>\n",
       "      <td>1</td>\n",
       "    </tr>\n",
       "    <tr>\n",
       "      <th>4</th>\n",
       "      <td>20</td>\n",
       "      <td>8.00</td>\n",
       "      <td>6</td>\n",
       "      <td>45</td>\n",
       "      <td>8</td>\n",
       "      <td>1</td>\n",
       "    </tr>\n",
       "  </tbody>\n",
       "</table>\n",
       "</div>"
      ],
      "text/plain": [
       "   Age   Time  Nbr_Warts  Area  Induration_diameter  Result\n",
       "0   22   2.25         14    51                   50       1\n",
       "1   15   3.00          2   900                   70       1\n",
       "2   16  10.50          2   100                   25       1\n",
       "3   27   4.50          9    80                   30       1\n",
       "4   20   8.00          6    45                    8       1"
      ]
     },
     "execution_count": 657,
     "metadata": {},
     "output_type": "execute_result"
    }
   ],
   "source": [
    "df.head(5)"
   ]
  },
  {
   "cell_type": "code",
   "execution_count": 658,
   "metadata": {},
   "outputs": [],
   "source": [
    "#We merge all the features \n",
    "df = pd.concat([dummies_Sex, df.Age, df.Time, df.Nbr_Warts, dummies_Type, df.Area, df.Induration_diameter, df.Result], axis=1)"
   ]
  },
  {
   "cell_type": "code",
   "execution_count": 659,
   "metadata": {},
   "outputs": [
    {
     "data": {
      "text/html": [
       "<div>\n",
       "<style scoped>\n",
       "    .dataframe tbody tr th:only-of-type {\n",
       "        vertical-align: middle;\n",
       "    }\n",
       "\n",
       "    .dataframe tbody tr th {\n",
       "        vertical-align: top;\n",
       "    }\n",
       "\n",
       "    .dataframe thead th {\n",
       "        text-align: right;\n",
       "    }\n",
       "</style>\n",
       "<table border=\"1\" class=\"dataframe\">\n",
       "  <thead>\n",
       "    <tr style=\"text-align: right;\">\n",
       "      <th></th>\n",
       "      <th>Sex_M</th>\n",
       "      <th>Sex_F</th>\n",
       "      <th>Age</th>\n",
       "      <th>Time</th>\n",
       "      <th>Nbr_Warts</th>\n",
       "      <th>Type_1</th>\n",
       "      <th>Type_2</th>\n",
       "      <th>Type_3</th>\n",
       "      <th>Area</th>\n",
       "      <th>Induration_diameter</th>\n",
       "      <th>Result</th>\n",
       "    </tr>\n",
       "  </thead>\n",
       "  <tbody>\n",
       "    <tr>\n",
       "      <th>0</th>\n",
       "      <td>1</td>\n",
       "      <td>0</td>\n",
       "      <td>22</td>\n",
       "      <td>2.25</td>\n",
       "      <td>14</td>\n",
       "      <td>0</td>\n",
       "      <td>0</td>\n",
       "      <td>1</td>\n",
       "      <td>51</td>\n",
       "      <td>50</td>\n",
       "      <td>1</td>\n",
       "    </tr>\n",
       "    <tr>\n",
       "      <th>1</th>\n",
       "      <td>1</td>\n",
       "      <td>0</td>\n",
       "      <td>15</td>\n",
       "      <td>3.00</td>\n",
       "      <td>2</td>\n",
       "      <td>0</td>\n",
       "      <td>0</td>\n",
       "      <td>1</td>\n",
       "      <td>900</td>\n",
       "      <td>70</td>\n",
       "      <td>1</td>\n",
       "    </tr>\n",
       "    <tr>\n",
       "      <th>2</th>\n",
       "      <td>1</td>\n",
       "      <td>0</td>\n",
       "      <td>16</td>\n",
       "      <td>10.50</td>\n",
       "      <td>2</td>\n",
       "      <td>1</td>\n",
       "      <td>0</td>\n",
       "      <td>0</td>\n",
       "      <td>100</td>\n",
       "      <td>25</td>\n",
       "      <td>1</td>\n",
       "    </tr>\n",
       "    <tr>\n",
       "      <th>3</th>\n",
       "      <td>1</td>\n",
       "      <td>0</td>\n",
       "      <td>27</td>\n",
       "      <td>4.50</td>\n",
       "      <td>9</td>\n",
       "      <td>0</td>\n",
       "      <td>0</td>\n",
       "      <td>1</td>\n",
       "      <td>80</td>\n",
       "      <td>30</td>\n",
       "      <td>1</td>\n",
       "    </tr>\n",
       "    <tr>\n",
       "      <th>4</th>\n",
       "      <td>1</td>\n",
       "      <td>0</td>\n",
       "      <td>20</td>\n",
       "      <td>8.00</td>\n",
       "      <td>6</td>\n",
       "      <td>1</td>\n",
       "      <td>0</td>\n",
       "      <td>0</td>\n",
       "      <td>45</td>\n",
       "      <td>8</td>\n",
       "      <td>1</td>\n",
       "    </tr>\n",
       "    <tr>\n",
       "      <th>...</th>\n",
       "      <td>...</td>\n",
       "      <td>...</td>\n",
       "      <td>...</td>\n",
       "      <td>...</td>\n",
       "      <td>...</td>\n",
       "      <td>...</td>\n",
       "      <td>...</td>\n",
       "      <td>...</td>\n",
       "      <td>...</td>\n",
       "      <td>...</td>\n",
       "      <td>...</td>\n",
       "    </tr>\n",
       "    <tr>\n",
       "      <th>85</th>\n",
       "      <td>1</td>\n",
       "      <td>0</td>\n",
       "      <td>40</td>\n",
       "      <td>5.50</td>\n",
       "      <td>8</td>\n",
       "      <td>0</td>\n",
       "      <td>0</td>\n",
       "      <td>1</td>\n",
       "      <td>69</td>\n",
       "      <td>5</td>\n",
       "      <td>1</td>\n",
       "    </tr>\n",
       "    <tr>\n",
       "      <th>86</th>\n",
       "      <td>1</td>\n",
       "      <td>0</td>\n",
       "      <td>38</td>\n",
       "      <td>7.50</td>\n",
       "      <td>8</td>\n",
       "      <td>0</td>\n",
       "      <td>1</td>\n",
       "      <td>0</td>\n",
       "      <td>56</td>\n",
       "      <td>45</td>\n",
       "      <td>1</td>\n",
       "    </tr>\n",
       "    <tr>\n",
       "      <th>87</th>\n",
       "      <td>1</td>\n",
       "      <td>0</td>\n",
       "      <td>46</td>\n",
       "      <td>11.50</td>\n",
       "      <td>4</td>\n",
       "      <td>1</td>\n",
       "      <td>0</td>\n",
       "      <td>0</td>\n",
       "      <td>91</td>\n",
       "      <td>25</td>\n",
       "      <td>0</td>\n",
       "    </tr>\n",
       "    <tr>\n",
       "      <th>88</th>\n",
       "      <td>1</td>\n",
       "      <td>0</td>\n",
       "      <td>32</td>\n",
       "      <td>12.00</td>\n",
       "      <td>9</td>\n",
       "      <td>1</td>\n",
       "      <td>0</td>\n",
       "      <td>0</td>\n",
       "      <td>43</td>\n",
       "      <td>50</td>\n",
       "      <td>0</td>\n",
       "    </tr>\n",
       "    <tr>\n",
       "      <th>89</th>\n",
       "      <td>0</td>\n",
       "      <td>1</td>\n",
       "      <td>23</td>\n",
       "      <td>6.75</td>\n",
       "      <td>6</td>\n",
       "      <td>1</td>\n",
       "      <td>0</td>\n",
       "      <td>0</td>\n",
       "      <td>19</td>\n",
       "      <td>2</td>\n",
       "      <td>1</td>\n",
       "    </tr>\n",
       "  </tbody>\n",
       "</table>\n",
       "<p>90 rows × 11 columns</p>\n",
       "</div>"
      ],
      "text/plain": [
       "    Sex_M  Sex_F  Age   Time  Nbr_Warts  Type_1  Type_2  Type_3  Area  \\\n",
       "0       1      0   22   2.25         14       0       0       1    51   \n",
       "1       1      0   15   3.00          2       0       0       1   900   \n",
       "2       1      0   16  10.50          2       1       0       0   100   \n",
       "3       1      0   27   4.50          9       0       0       1    80   \n",
       "4       1      0   20   8.00          6       1       0       0    45   \n",
       "..    ...    ...  ...    ...        ...     ...     ...     ...   ...   \n",
       "85      1      0   40   5.50          8       0       0       1    69   \n",
       "86      1      0   38   7.50          8       0       1       0    56   \n",
       "87      1      0   46  11.50          4       1       0       0    91   \n",
       "88      1      0   32  12.00          9       1       0       0    43   \n",
       "89      0      1   23   6.75          6       1       0       0    19   \n",
       "\n",
       "    Induration_diameter  Result  \n",
       "0                    50       1  \n",
       "1                    70       1  \n",
       "2                    25       1  \n",
       "3                    30       1  \n",
       "4                     8       1  \n",
       "..                  ...     ...  \n",
       "85                    5       1  \n",
       "86                   45       1  \n",
       "87                   25       0  \n",
       "88                   50       0  \n",
       "89                    2       1  \n",
       "\n",
       "[90 rows x 11 columns]"
      ]
     },
     "execution_count": 659,
     "metadata": {},
     "output_type": "execute_result"
    }
   ],
   "source": [
    "df"
   ]
  },
  {
   "cell_type": "markdown",
   "metadata": {},
   "source": [
    "# I.3- Detecting Outliers\n"
   ]
  },
  {
   "cell_type": "code",
   "execution_count": 660,
   "metadata": {},
   "outputs": [],
   "source": [
    "#We use z_score methode to detecte the outliers: \n",
    "def detect_outliers(data):\n",
    "    outliers=[]\n",
    "    threshold = 3\n",
    "    mean = np.mean(data)\n",
    "    std  = np.std(data)  \n",
    "    \n",
    "    for i in data:\n",
    "        z_score = (i-mean)/std\n",
    "        if np.abs(z_score)>threshold:\n",
    "            outliers.append(i)\n",
    "    \n",
    "    return outliers"
   ]
  },
  {
   "cell_type": "code",
   "execution_count": 661,
   "metadata": {},
   "outputs": [
    {
     "data": {
      "text/plain": [
       "[19]"
      ]
     },
     "execution_count": 661,
     "metadata": {},
     "output_type": "execute_result"
    }
   ],
   "source": [
    "detect_outliers(df['Nbr_Warts'])"
   ]
  },
  {
   "cell_type": "code",
   "execution_count": 662,
   "metadata": {},
   "outputs": [
    {
     "data": {
      "text/plain": [
       "[900, 504, 507]"
      ]
     },
     "execution_count": 662,
     "metadata": {},
     "output_type": "execute_result"
    }
   ],
   "source": [
    "detect_outliers(df['Area'])"
   ]
  },
  {
   "cell_type": "code",
   "execution_count": 663,
   "metadata": {},
   "outputs": [
    {
     "data": {
      "text/plain": [
       "[70, 70, 70]"
      ]
     },
     "execution_count": 663,
     "metadata": {},
     "output_type": "execute_result"
    }
   ],
   "source": [
    "detect_outliers(df['Induration_diameter'])"
   ]
  },
  {
   "cell_type": "code",
   "execution_count": 664,
   "metadata": {},
   "outputs": [
    {
     "data": {
      "text/html": [
       "<div>\n",
       "<style scoped>\n",
       "    .dataframe tbody tr th:only-of-type {\n",
       "        vertical-align: middle;\n",
       "    }\n",
       "\n",
       "    .dataframe tbody tr th {\n",
       "        vertical-align: top;\n",
       "    }\n",
       "\n",
       "    .dataframe thead th {\n",
       "        text-align: right;\n",
       "    }\n",
       "</style>\n",
       "<table border=\"1\" class=\"dataframe\">\n",
       "  <thead>\n",
       "    <tr style=\"text-align: right;\">\n",
       "      <th></th>\n",
       "      <th>Sex_M</th>\n",
       "      <th>Sex_F</th>\n",
       "      <th>Age</th>\n",
       "      <th>Time</th>\n",
       "      <th>Nbr_Warts</th>\n",
       "      <th>Type_1</th>\n",
       "      <th>Type_2</th>\n",
       "      <th>Type_3</th>\n",
       "      <th>Area</th>\n",
       "      <th>Induration_diameter</th>\n",
       "      <th>Result</th>\n",
       "    </tr>\n",
       "  </thead>\n",
       "  <tbody>\n",
       "    <tr>\n",
       "      <th>1</th>\n",
       "      <td>1</td>\n",
       "      <td>0</td>\n",
       "      <td>15</td>\n",
       "      <td>3.00</td>\n",
       "      <td>2</td>\n",
       "      <td>0</td>\n",
       "      <td>0</td>\n",
       "      <td>1</td>\n",
       "      <td>900</td>\n",
       "      <td>70</td>\n",
       "      <td>1</td>\n",
       "    </tr>\n",
       "    <tr>\n",
       "      <th>18</th>\n",
       "      <td>0</td>\n",
       "      <td>1</td>\n",
       "      <td>15</td>\n",
       "      <td>6.50</td>\n",
       "      <td>19</td>\n",
       "      <td>1</td>\n",
       "      <td>0</td>\n",
       "      <td>0</td>\n",
       "      <td>56</td>\n",
       "      <td>7</td>\n",
       "      <td>1</td>\n",
       "    </tr>\n",
       "    <tr>\n",
       "      <th>31</th>\n",
       "      <td>1</td>\n",
       "      <td>0</td>\n",
       "      <td>23</td>\n",
       "      <td>3.00</td>\n",
       "      <td>2</td>\n",
       "      <td>0</td>\n",
       "      <td>0</td>\n",
       "      <td>1</td>\n",
       "      <td>87</td>\n",
       "      <td>70</td>\n",
       "      <td>1</td>\n",
       "    </tr>\n",
       "    <tr>\n",
       "      <th>37</th>\n",
       "      <td>1</td>\n",
       "      <td>0</td>\n",
       "      <td>29</td>\n",
       "      <td>8.75</td>\n",
       "      <td>3</td>\n",
       "      <td>1</td>\n",
       "      <td>0</td>\n",
       "      <td>0</td>\n",
       "      <td>504</td>\n",
       "      <td>2</td>\n",
       "      <td>1</td>\n",
       "    </tr>\n",
       "    <tr>\n",
       "      <th>61</th>\n",
       "      <td>0</td>\n",
       "      <td>1</td>\n",
       "      <td>19</td>\n",
       "      <td>2.25</td>\n",
       "      <td>8</td>\n",
       "      <td>0</td>\n",
       "      <td>1</td>\n",
       "      <td>0</td>\n",
       "      <td>42</td>\n",
       "      <td>70</td>\n",
       "      <td>1</td>\n",
       "    </tr>\n",
       "    <tr>\n",
       "      <th>78</th>\n",
       "      <td>1</td>\n",
       "      <td>0</td>\n",
       "      <td>43</td>\n",
       "      <td>11.00</td>\n",
       "      <td>7</td>\n",
       "      <td>1</td>\n",
       "      <td>0</td>\n",
       "      <td>0</td>\n",
       "      <td>507</td>\n",
       "      <td>7</td>\n",
       "      <td>1</td>\n",
       "    </tr>\n",
       "  </tbody>\n",
       "</table>\n",
       "</div>"
      ],
      "text/plain": [
       "    Sex_M  Sex_F  Age   Time  Nbr_Warts  Type_1  Type_2  Type_3  Area  \\\n",
       "1       1      0   15   3.00          2       0       0       1   900   \n",
       "18      0      1   15   6.50         19       1       0       0    56   \n",
       "31      1      0   23   3.00          2       0       0       1    87   \n",
       "37      1      0   29   8.75          3       1       0       0   504   \n",
       "61      0      1   19   2.25          8       0       1       0    42   \n",
       "78      1      0   43  11.00          7       1       0       0   507   \n",
       "\n",
       "    Induration_diameter  Result  \n",
       "1                    70       1  \n",
       "18                    7       1  \n",
       "31                   70       1  \n",
       "37                    2       1  \n",
       "61                   70       1  \n",
       "78                    7       1  "
      ]
     },
     "execution_count": 664,
     "metadata": {},
     "output_type": "execute_result"
    }
   ],
   "source": [
    "#The other features have been tested and they don't contain outliers\n",
    "df_outliers = df[df['Nbr_Warts'] == 19].append(df[df['Area'] == 900]).append(df[df['Area'] == 504]).append(df[df['Area'] == 507]).append(df[df['Induration_diameter'] == 70])\n",
    "df_outliers = df_outliers.drop_duplicates()\n",
    "df_outliers = df_outliers.sort_index()\n",
    "df_outliers"
   ]
  },
  {
   "cell_type": "code",
   "execution_count": 665,
   "metadata": {},
   "outputs": [
    {
     "data": {
      "text/html": [
       "<div>\n",
       "<style scoped>\n",
       "    .dataframe tbody tr th:only-of-type {\n",
       "        vertical-align: middle;\n",
       "    }\n",
       "\n",
       "    .dataframe tbody tr th {\n",
       "        vertical-align: top;\n",
       "    }\n",
       "\n",
       "    .dataframe thead th {\n",
       "        text-align: right;\n",
       "    }\n",
       "</style>\n",
       "<table border=\"1\" class=\"dataframe\">\n",
       "  <thead>\n",
       "    <tr style=\"text-align: right;\">\n",
       "      <th></th>\n",
       "      <th>Sex_M</th>\n",
       "      <th>Sex_F</th>\n",
       "      <th>Age</th>\n",
       "      <th>Time</th>\n",
       "      <th>Nbr_Warts</th>\n",
       "      <th>Type_1</th>\n",
       "      <th>Type_2</th>\n",
       "      <th>Type_3</th>\n",
       "      <th>Area</th>\n",
       "      <th>Induration_diameter</th>\n",
       "      <th>Result</th>\n",
       "    </tr>\n",
       "  </thead>\n",
       "  <tbody>\n",
       "    <tr>\n",
       "      <th>0</th>\n",
       "      <td>1</td>\n",
       "      <td>0</td>\n",
       "      <td>22</td>\n",
       "      <td>2.25</td>\n",
       "      <td>14</td>\n",
       "      <td>0</td>\n",
       "      <td>0</td>\n",
       "      <td>1</td>\n",
       "      <td>51</td>\n",
       "      <td>50</td>\n",
       "      <td>1</td>\n",
       "    </tr>\n",
       "    <tr>\n",
       "      <th>1</th>\n",
       "      <td>1</td>\n",
       "      <td>0</td>\n",
       "      <td>16</td>\n",
       "      <td>10.50</td>\n",
       "      <td>2</td>\n",
       "      <td>1</td>\n",
       "      <td>0</td>\n",
       "      <td>0</td>\n",
       "      <td>100</td>\n",
       "      <td>25</td>\n",
       "      <td>1</td>\n",
       "    </tr>\n",
       "    <tr>\n",
       "      <th>2</th>\n",
       "      <td>1</td>\n",
       "      <td>0</td>\n",
       "      <td>27</td>\n",
       "      <td>4.50</td>\n",
       "      <td>9</td>\n",
       "      <td>0</td>\n",
       "      <td>0</td>\n",
       "      <td>1</td>\n",
       "      <td>80</td>\n",
       "      <td>30</td>\n",
       "      <td>1</td>\n",
       "    </tr>\n",
       "    <tr>\n",
       "      <th>3</th>\n",
       "      <td>1</td>\n",
       "      <td>0</td>\n",
       "      <td>20</td>\n",
       "      <td>8.00</td>\n",
       "      <td>6</td>\n",
       "      <td>1</td>\n",
       "      <td>0</td>\n",
       "      <td>0</td>\n",
       "      <td>45</td>\n",
       "      <td>8</td>\n",
       "      <td>1</td>\n",
       "    </tr>\n",
       "    <tr>\n",
       "      <th>4</th>\n",
       "      <td>1</td>\n",
       "      <td>0</td>\n",
       "      <td>15</td>\n",
       "      <td>5.00</td>\n",
       "      <td>3</td>\n",
       "      <td>0</td>\n",
       "      <td>0</td>\n",
       "      <td>1</td>\n",
       "      <td>84</td>\n",
       "      <td>7</td>\n",
       "      <td>1</td>\n",
       "    </tr>\n",
       "    <tr>\n",
       "      <th>...</th>\n",
       "      <td>...</td>\n",
       "      <td>...</td>\n",
       "      <td>...</td>\n",
       "      <td>...</td>\n",
       "      <td>...</td>\n",
       "      <td>...</td>\n",
       "      <td>...</td>\n",
       "      <td>...</td>\n",
       "      <td>...</td>\n",
       "      <td>...</td>\n",
       "      <td>...</td>\n",
       "    </tr>\n",
       "    <tr>\n",
       "      <th>79</th>\n",
       "      <td>1</td>\n",
       "      <td>0</td>\n",
       "      <td>40</td>\n",
       "      <td>5.50</td>\n",
       "      <td>8</td>\n",
       "      <td>0</td>\n",
       "      <td>0</td>\n",
       "      <td>1</td>\n",
       "      <td>69</td>\n",
       "      <td>5</td>\n",
       "      <td>1</td>\n",
       "    </tr>\n",
       "    <tr>\n",
       "      <th>80</th>\n",
       "      <td>1</td>\n",
       "      <td>0</td>\n",
       "      <td>38</td>\n",
       "      <td>7.50</td>\n",
       "      <td>8</td>\n",
       "      <td>0</td>\n",
       "      <td>1</td>\n",
       "      <td>0</td>\n",
       "      <td>56</td>\n",
       "      <td>45</td>\n",
       "      <td>1</td>\n",
       "    </tr>\n",
       "    <tr>\n",
       "      <th>81</th>\n",
       "      <td>1</td>\n",
       "      <td>0</td>\n",
       "      <td>46</td>\n",
       "      <td>11.50</td>\n",
       "      <td>4</td>\n",
       "      <td>1</td>\n",
       "      <td>0</td>\n",
       "      <td>0</td>\n",
       "      <td>91</td>\n",
       "      <td>25</td>\n",
       "      <td>0</td>\n",
       "    </tr>\n",
       "    <tr>\n",
       "      <th>82</th>\n",
       "      <td>1</td>\n",
       "      <td>0</td>\n",
       "      <td>32</td>\n",
       "      <td>12.00</td>\n",
       "      <td>9</td>\n",
       "      <td>1</td>\n",
       "      <td>0</td>\n",
       "      <td>0</td>\n",
       "      <td>43</td>\n",
       "      <td>50</td>\n",
       "      <td>0</td>\n",
       "    </tr>\n",
       "    <tr>\n",
       "      <th>83</th>\n",
       "      <td>0</td>\n",
       "      <td>1</td>\n",
       "      <td>23</td>\n",
       "      <td>6.75</td>\n",
       "      <td>6</td>\n",
       "      <td>1</td>\n",
       "      <td>0</td>\n",
       "      <td>0</td>\n",
       "      <td>19</td>\n",
       "      <td>2</td>\n",
       "      <td>1</td>\n",
       "    </tr>\n",
       "  </tbody>\n",
       "</table>\n",
       "<p>84 rows × 11 columns</p>\n",
       "</div>"
      ],
      "text/plain": [
       "    Sex_M  Sex_F  Age   Time  Nbr_Warts  Type_1  Type_2  Type_3  Area  \\\n",
       "0       1      0   22   2.25         14       0       0       1    51   \n",
       "1       1      0   16  10.50          2       1       0       0   100   \n",
       "2       1      0   27   4.50          9       0       0       1    80   \n",
       "3       1      0   20   8.00          6       1       0       0    45   \n",
       "4       1      0   15   5.00          3       0       0       1    84   \n",
       "..    ...    ...  ...    ...        ...     ...     ...     ...   ...   \n",
       "79      1      0   40   5.50          8       0       0       1    69   \n",
       "80      1      0   38   7.50          8       0       1       0    56   \n",
       "81      1      0   46  11.50          4       1       0       0    91   \n",
       "82      1      0   32  12.00          9       1       0       0    43   \n",
       "83      0      1   23   6.75          6       1       0       0    19   \n",
       "\n",
       "    Induration_diameter  Result  \n",
       "0                    50       1  \n",
       "1                    25       1  \n",
       "2                    30       1  \n",
       "3                     8       1  \n",
       "4                     7       1  \n",
       "..                  ...     ...  \n",
       "79                    5       1  \n",
       "80                   45       1  \n",
       "81                   25       0  \n",
       "82                   50       0  \n",
       "83                    2       1  \n",
       "\n",
       "[84 rows x 11 columns]"
      ]
     },
     "execution_count": 665,
     "metadata": {},
     "output_type": "execute_result"
    }
   ],
   "source": [
    "#Suppression of the outliers from the dataframe\n",
    "df = df.drop(labels=[1,18,31,37,61,78], axis=0)\n",
    "df.index = np.arange(0, len(df))\n",
    "df"
   ]
  },
  {
   "cell_type": "code",
   "execution_count": null,
   "metadata": {},
   "outputs": [],
   "source": []
  },
  {
   "cell_type": "markdown",
   "metadata": {},
   "source": [
    "# I.4- Feature scaling (Normalisation)\n"
   ]
  },
  {
   "cell_type": "code",
   "execution_count": 666,
   "metadata": {},
   "outputs": [
    {
     "data": {
      "text/html": [
       "<div>\n",
       "<style scoped>\n",
       "    .dataframe tbody tr th:only-of-type {\n",
       "        vertical-align: middle;\n",
       "    }\n",
       "\n",
       "    .dataframe tbody tr th {\n",
       "        vertical-align: top;\n",
       "    }\n",
       "\n",
       "    .dataframe thead th {\n",
       "        text-align: right;\n",
       "    }\n",
       "</style>\n",
       "<table border=\"1\" class=\"dataframe\">\n",
       "  <thead>\n",
       "    <tr style=\"text-align: right;\">\n",
       "      <th></th>\n",
       "      <th>Sex_M</th>\n",
       "      <th>Sex_F</th>\n",
       "      <th>Age</th>\n",
       "      <th>Time</th>\n",
       "      <th>Nbr_Warts</th>\n",
       "      <th>Type_1</th>\n",
       "      <th>Type_2</th>\n",
       "      <th>Type_3</th>\n",
       "      <th>Area</th>\n",
       "      <th>Induration_diameter</th>\n",
       "      <th>Result</th>\n",
       "    </tr>\n",
       "  </thead>\n",
       "  <tbody>\n",
       "    <tr>\n",
       "      <th>0</th>\n",
       "      <td>1</td>\n",
       "      <td>0</td>\n",
       "      <td>0.170732</td>\n",
       "      <td>0.113636</td>\n",
       "      <td>0.764706</td>\n",
       "      <td>0</td>\n",
       "      <td>0</td>\n",
       "      <td>1</td>\n",
       "      <td>0.090726</td>\n",
       "      <td>1.000000</td>\n",
       "      <td>1</td>\n",
       "    </tr>\n",
       "    <tr>\n",
       "      <th>1</th>\n",
       "      <td>1</td>\n",
       "      <td>0</td>\n",
       "      <td>0.024390</td>\n",
       "      <td>0.863636</td>\n",
       "      <td>0.058824</td>\n",
       "      <td>1</td>\n",
       "      <td>0</td>\n",
       "      <td>0</td>\n",
       "      <td>0.189516</td>\n",
       "      <td>0.479167</td>\n",
       "      <td>1</td>\n",
       "    </tr>\n",
       "    <tr>\n",
       "      <th>2</th>\n",
       "      <td>1</td>\n",
       "      <td>0</td>\n",
       "      <td>0.292683</td>\n",
       "      <td>0.318182</td>\n",
       "      <td>0.470588</td>\n",
       "      <td>0</td>\n",
       "      <td>0</td>\n",
       "      <td>1</td>\n",
       "      <td>0.149194</td>\n",
       "      <td>0.583333</td>\n",
       "      <td>1</td>\n",
       "    </tr>\n",
       "    <tr>\n",
       "      <th>3</th>\n",
       "      <td>1</td>\n",
       "      <td>0</td>\n",
       "      <td>0.121951</td>\n",
       "      <td>0.636364</td>\n",
       "      <td>0.294118</td>\n",
       "      <td>1</td>\n",
       "      <td>0</td>\n",
       "      <td>0</td>\n",
       "      <td>0.078629</td>\n",
       "      <td>0.125000</td>\n",
       "      <td>1</td>\n",
       "    </tr>\n",
       "    <tr>\n",
       "      <th>4</th>\n",
       "      <td>1</td>\n",
       "      <td>0</td>\n",
       "      <td>0.000000</td>\n",
       "      <td>0.363636</td>\n",
       "      <td>0.117647</td>\n",
       "      <td>0</td>\n",
       "      <td>0</td>\n",
       "      <td>1</td>\n",
       "      <td>0.157258</td>\n",
       "      <td>0.104167</td>\n",
       "      <td>1</td>\n",
       "    </tr>\n",
       "    <tr>\n",
       "      <th>...</th>\n",
       "      <td>...</td>\n",
       "      <td>...</td>\n",
       "      <td>...</td>\n",
       "      <td>...</td>\n",
       "      <td>...</td>\n",
       "      <td>...</td>\n",
       "      <td>...</td>\n",
       "      <td>...</td>\n",
       "      <td>...</td>\n",
       "      <td>...</td>\n",
       "      <td>...</td>\n",
       "    </tr>\n",
       "    <tr>\n",
       "      <th>79</th>\n",
       "      <td>1</td>\n",
       "      <td>0</td>\n",
       "      <td>0.609756</td>\n",
       "      <td>0.409091</td>\n",
       "      <td>0.411765</td>\n",
       "      <td>0</td>\n",
       "      <td>0</td>\n",
       "      <td>1</td>\n",
       "      <td>0.127016</td>\n",
       "      <td>0.062500</td>\n",
       "      <td>1</td>\n",
       "    </tr>\n",
       "    <tr>\n",
       "      <th>80</th>\n",
       "      <td>1</td>\n",
       "      <td>0</td>\n",
       "      <td>0.560976</td>\n",
       "      <td>0.590909</td>\n",
       "      <td>0.411765</td>\n",
       "      <td>0</td>\n",
       "      <td>1</td>\n",
       "      <td>0</td>\n",
       "      <td>0.100806</td>\n",
       "      <td>0.895833</td>\n",
       "      <td>1</td>\n",
       "    </tr>\n",
       "    <tr>\n",
       "      <th>81</th>\n",
       "      <td>1</td>\n",
       "      <td>0</td>\n",
       "      <td>0.756098</td>\n",
       "      <td>0.954545</td>\n",
       "      <td>0.176471</td>\n",
       "      <td>1</td>\n",
       "      <td>0</td>\n",
       "      <td>0</td>\n",
       "      <td>0.171371</td>\n",
       "      <td>0.479167</td>\n",
       "      <td>0</td>\n",
       "    </tr>\n",
       "    <tr>\n",
       "      <th>82</th>\n",
       "      <td>1</td>\n",
       "      <td>0</td>\n",
       "      <td>0.414634</td>\n",
       "      <td>1.000000</td>\n",
       "      <td>0.470588</td>\n",
       "      <td>1</td>\n",
       "      <td>0</td>\n",
       "      <td>0</td>\n",
       "      <td>0.074597</td>\n",
       "      <td>1.000000</td>\n",
       "      <td>0</td>\n",
       "    </tr>\n",
       "    <tr>\n",
       "      <th>83</th>\n",
       "      <td>0</td>\n",
       "      <td>1</td>\n",
       "      <td>0.195122</td>\n",
       "      <td>0.522727</td>\n",
       "      <td>0.294118</td>\n",
       "      <td>1</td>\n",
       "      <td>0</td>\n",
       "      <td>0</td>\n",
       "      <td>0.026210</td>\n",
       "      <td>0.000000</td>\n",
       "      <td>1</td>\n",
       "    </tr>\n",
       "  </tbody>\n",
       "</table>\n",
       "<p>84 rows × 11 columns</p>\n",
       "</div>"
      ],
      "text/plain": [
       "    Sex_M  Sex_F       Age      Time  Nbr_Warts  Type_1  Type_2  Type_3  \\\n",
       "0       1      0  0.170732  0.113636   0.764706       0       0       1   \n",
       "1       1      0  0.024390  0.863636   0.058824       1       0       0   \n",
       "2       1      0  0.292683  0.318182   0.470588       0       0       1   \n",
       "3       1      0  0.121951  0.636364   0.294118       1       0       0   \n",
       "4       1      0  0.000000  0.363636   0.117647       0       0       1   \n",
       "..    ...    ...       ...       ...        ...     ...     ...     ...   \n",
       "79      1      0  0.609756  0.409091   0.411765       0       0       1   \n",
       "80      1      0  0.560976  0.590909   0.411765       0       1       0   \n",
       "81      1      0  0.756098  0.954545   0.176471       1       0       0   \n",
       "82      1      0  0.414634  1.000000   0.470588       1       0       0   \n",
       "83      0      1  0.195122  0.522727   0.294118       1       0       0   \n",
       "\n",
       "        Area  Induration_diameter  Result  \n",
       "0   0.090726             1.000000       1  \n",
       "1   0.189516             0.479167       1  \n",
       "2   0.149194             0.583333       1  \n",
       "3   0.078629             0.125000       1  \n",
       "4   0.157258             0.104167       1  \n",
       "..       ...                  ...     ...  \n",
       "79  0.127016             0.062500       1  \n",
       "80  0.100806             0.895833       1  \n",
       "81  0.171371             0.479167       0  \n",
       "82  0.074597             1.000000       0  \n",
       "83  0.026210             0.000000       1  \n",
       "\n",
       "[84 rows x 11 columns]"
      ]
     },
     "execution_count": 666,
     "metadata": {},
     "output_type": "execute_result"
    }
   ],
   "source": [
    "from sklearn.preprocessing import MinMaxScaler # To make all values of features between 0 and 1\n",
    "S = MinMaxScaler()\n",
    "dfScale = S.fit_transform(df)\n",
    "dfScale = pd.DataFrame(dfScale)\n",
    "dfScale.columns = df.columns\n",
    "dfScale = dfScale.astype({\"Sex_M\": int, \"Sex_F\": int, \"Type_1\": int, \"Type_2\": int, \"Type_3\": int, \"Result\" : int})\n",
    "df = dfScale\n",
    "df"
   ]
  },
  {
   "cell_type": "code",
   "execution_count": null,
   "metadata": {},
   "outputs": [],
   "source": []
  },
  {
   "cell_type": "markdown",
   "metadata": {},
   "source": [
    "# II- Gradient Descent"
   ]
  },
  {
   "cell_type": "code",
   "execution_count": 667,
   "metadata": {},
   "outputs": [],
   "source": [
    "#def of the input and output\n",
    "x = df.iloc[:,:-1].values\n",
    "y = df.iloc[:,-1].values\n",
    "\n",
    "#devision of the dataset into training part and testing part\n",
    "from sklearn.model_selection import train_test_split\n",
    "\n",
    "X_train, X_test, Y_train, Y_test = train_test_split(x,y,test_size=0.2,random_state=10)"
   ]
  },
  {
   "cell_type": "code",
   "execution_count": 668,
   "metadata": {},
   "outputs": [],
   "source": [
    "#reshaping\n",
    "X_train = X_train.T\n",
    "Y_train = Y_train.reshape(1, X_train.shape[1])\n",
    "\n",
    "X_test = X_test.T\n",
    "Y_test = Y_test.reshape(1, X_test.shape[1])"
   ]
  },
  {
   "cell_type": "code",
   "execution_count": 669,
   "metadata": {},
   "outputs": [],
   "source": [
    "#def of the sigmoid function\n",
    "def sigmoid(x):\n",
    "    return 1/(1 + np.exp(-x))"
   ]
  },
  {
   "cell_type": "code",
   "execution_count": 670,
   "metadata": {},
   "outputs": [],
   "source": [
    "#def of the hypothesis\n",
    "def lr_hypothesis(x, theta):\n",
    "    return np.dot(theta.T, x)"
   ]
  },
  {
   "cell_type": "code",
   "execution_count": 671,
   "metadata": {},
   "outputs": [],
   "source": [
    "#def of the cost function\n",
    "def compute_cost(Y, A):\n",
    "    m = X_train.shape[1]\n",
    "    cost = -(1/m)*np.sum(Y*np.log(A) + (1-Y)*np.log(1-A))\n",
    "    return cost"
   ]
  },
  {
   "cell_type": "code",
   "execution_count": 672,
   "metadata": {},
   "outputs": [],
   "source": [
    "#perform Gradient Descent\n",
    "def gradientDescent(X, Y, alpha, iterations):\n",
    "    \n",
    "    CostVect = []\n",
    "    m = X_train.shape[1]\n",
    "    n = X_train.shape[0]\n",
    "    \n",
    "    theta = np.zeros((n,1))\n",
    "    B = 0\n",
    "    \n",
    "    for i in range(iterations):\n",
    "        \n",
    "        Z = lr_hypothesis(X, theta) + B\n",
    "        A = sigmoid(Z)\n",
    "        \n",
    "        cost = compute_cost(Y, A)\n",
    "        \n",
    "        dW = (1/m)*np.dot(A-Y, X.T)\n",
    "        dB =  (1/m)*np.sum(A-Y)\n",
    "        \n",
    "        theta = theta - alpha*dW.T\n",
    "        B = B - alpha*dB\n",
    "        \n",
    "        CostVect.append(cost)\n",
    "        \n",
    "        if(i%(iterations/10) == 0):\n",
    "            print(\"cost after \", i, \"iterations is : \", cost)\n",
    "    print(\"Value of cost at the end of the Gradient Descent : \",cost)\n",
    "    return theta, B, CostVect"
   ]
  },
  {
   "cell_type": "code",
   "execution_count": 673,
   "metadata": {},
   "outputs": [],
   "source": [
    "iterations = 200\n",
    "alpha = 0.6\n",
    "\n",
    "#cost = 0.5294313911641758       when alpha = 0.1\n",
    "#cost = 0.502343869457735       when alpha = 0.2\n",
    "#cost = 0.4762595806654188        when alpha = 0.4\n",
    "#cost = 0.4643660555916679        when alpha = 0.6\n",
    "\n",
    "#cost = 0.5143192089757856       with iterations = 50\n",
    "#cost = 0.4865972648764586        with iterations = 100\n",
    "#cost = 0.472490450008231        with iterations = 150\n",
    "#cost = 0.4643660555916679       with iterations = 200\n",
    "\n",
    "#if we go further than alpha = 0.6, we will later have a worst % of accuracy in our testing so 0.6 is a good value to stop at\n",
    "\n",
    "#exp :\n",
    "        #alpha = 0.6  ==>  Accuracy of the model is :  88.23529411764706 %\n",
    "        #alpha = 0.7  ==>  Accuracy of the model is :  82.35294117647058 %"
   ]
  },
  {
   "cell_type": "code",
   "execution_count": 674,
   "metadata": {},
   "outputs": [
    {
     "name": "stdout",
     "output_type": "stream",
     "text": [
      "cost after  0 iterations is :  0.6931471805599454\n",
      "cost after  20 iterations is :  0.5463182712511067\n",
      "cost after  40 iterations is :  0.5222257919392342\n",
      "cost after  60 iterations is :  0.5062457075454159\n",
      "cost after  80 iterations is :  0.49478773216488886\n",
      "cost after  100 iterations is :  0.4862218048679763\n",
      "cost after  120 iterations is :  0.47963514332125523\n",
      "cost after  140 iterations is :  0.47446159004740857\n",
      "cost after  160 iterations is :  0.47032892204445775\n",
      "cost after  180 iterations is :  0.46698222770241343\n",
      "Value of cost at the end of the Gradient Descent :  0.4643660555916679\n"
     ]
    }
   ],
   "source": [
    "#here we can see the decrease of the value of the cost and the last value of the cost at the end of the Gradient Descent\n",
    "theta, B, CostVect = gradientDescent(X_train, Y_train, alpha, iterations)"
   ]
  },
  {
   "cell_type": "code",
   "execution_count": 675,
   "metadata": {},
   "outputs": [
    {
     "data": {
      "image/png": "[encoded data removed]",
      "text/plain": [
       "<Figure size 432x288 with 1 Axes>"
      ]
     },
     "metadata": {
      "needs_background": "light"
     },
     "output_type": "display_data"
    }
   ],
   "source": [
    "%matplotlib inline\n",
    "\n",
    "t= np.arange(0,iterations,1)\n",
    "plt.plot(t,CostVect, label = \"Cost Function\")\n",
    "\n",
    "plt.xlabel('Iterations')\n",
    "plt.ylabel('Cost')\n",
    "plt.title('Cost Function :')\n",
    "plt.legend()\n",
    "\n",
    "plt.show()"
   ]
  },
  {
   "cell_type": "code",
   "execution_count": 676,
   "metadata": {},
   "outputs": [],
   "source": [
    "#def of the accuracy functuion to mesure the accuracy of our model\n",
    "def accuracy(X, Y, theta, B):\n",
    "    Z = lr_hypothesis(X, theta) + B\n",
    "    A = sigmoid(Z)\n",
    "    \n",
    "    A = A > 0.5\n",
    "    \n",
    "    A = np.array(A, dtype = 'int64')\n",
    "    \n",
    "    acc = (1 - np.sum(np.absolute(A - Y))/Y.shape[1])*100\n",
    "    \n",
    "    print(\"Accuracy of the model is : \",acc, \"%\")"
   ]
  },
  {
   "cell_type": "code",
   "execution_count": 677,
   "metadata": {},
   "outputs": [
    {
     "name": "stdout",
     "output_type": "stream",
     "text": [
      "Accuracy of the model is :  88.23529411764706 %\n"
     ]
    }
   ],
   "source": [
    "accuracy(X_test, Y_test, theta, B)"
   ]
  },
  {
   "cell_type": "code",
   "execution_count": null,
   "metadata": {},
   "outputs": [],
   "source": []
  },
  {
   "cell_type": "markdown",
   "metadata": {},
   "source": [
    "### Verification of the result :"
   ]
  },
  {
   "cell_type": "markdown",
   "metadata": {},
   "source": [
    "We can now compare the result we got (accuracy) with the result given by the functions provided by 'sklearn'."
   ]
  },
  {
   "cell_type": "code",
   "execution_count": 678,
   "metadata": {},
   "outputs": [
    {
     "data": {
      "text/plain": [
       "0.8823529411764706"
      ]
     },
     "execution_count": 678,
     "metadata": {},
     "output_type": "execute_result"
    }
   ],
   "source": [
    "y = df['Result']\n",
    "x=df.drop('Result', axis=1)\n",
    "\n",
    "from sklearn.model_selection import train_test_split\n",
    "X_train, X_test, Y_train, Y_test = train_test_split(x,y,test_size=0.2,random_state=10)\n",
    "\n",
    "from sklearn.linear_model import LogisticRegression\n",
    "logmodel = LogisticRegression()\n",
    "logmodel.fit(X_train,Y_train)\n",
    "prediction = logmodel.predict(X_test)\n",
    "\n",
    "from sklearn.metrics import accuracy_score\n",
    "accuracy_score(Y_test,prediction)\n",
    "\n",
    "#we can see that the accuracy is the same :"
   ]
  },
  {
   "cell_type": "code",
   "execution_count": null,
   "metadata": {},
   "outputs": [],
   "source": []
  },
  {
   "cell_type": "markdown",
   "metadata": {},
   "source": [
    "# IV- Decision Trees"
   ]
  },
  {
   "cell_type": "code",
   "execution_count": 679,
   "metadata": {},
   "outputs": [
    {
     "data": {
      "text/html": [
       "<div>\n",
       "<style scoped>\n",
       "    .dataframe tbody tr th:only-of-type {\n",
       "        vertical-align: middle;\n",
       "    }\n",
       "\n",
       "    .dataframe tbody tr th {\n",
       "        vertical-align: top;\n",
       "    }\n",
       "\n",
       "    .dataframe thead th {\n",
       "        text-align: right;\n",
       "    }\n",
       "</style>\n",
       "<table border=\"1\" class=\"dataframe\">\n",
       "  <thead>\n",
       "    <tr style=\"text-align: right;\">\n",
       "      <th></th>\n",
       "      <th>Sex_M</th>\n",
       "      <th>Sex_F</th>\n",
       "      <th>Age</th>\n",
       "      <th>Time</th>\n",
       "      <th>Nbr_Warts</th>\n",
       "      <th>Type_1</th>\n",
       "      <th>Type_2</th>\n",
       "      <th>Type_3</th>\n",
       "      <th>Area</th>\n",
       "      <th>Induration_diameter</th>\n",
       "    </tr>\n",
       "  </thead>\n",
       "  <tbody>\n",
       "    <tr>\n",
       "      <th>0</th>\n",
       "      <td>1</td>\n",
       "      <td>0</td>\n",
       "      <td>0.170732</td>\n",
       "      <td>0.113636</td>\n",
       "      <td>0.764706</td>\n",
       "      <td>0</td>\n",
       "      <td>0</td>\n",
       "      <td>1</td>\n",
       "      <td>0.090726</td>\n",
       "      <td>1.000000</td>\n",
       "    </tr>\n",
       "    <tr>\n",
       "      <th>1</th>\n",
       "      <td>1</td>\n",
       "      <td>0</td>\n",
       "      <td>0.024390</td>\n",
       "      <td>0.863636</td>\n",
       "      <td>0.058824</td>\n",
       "      <td>1</td>\n",
       "      <td>0</td>\n",
       "      <td>0</td>\n",
       "      <td>0.189516</td>\n",
       "      <td>0.479167</td>\n",
       "    </tr>\n",
       "    <tr>\n",
       "      <th>2</th>\n",
       "      <td>1</td>\n",
       "      <td>0</td>\n",
       "      <td>0.292683</td>\n",
       "      <td>0.318182</td>\n",
       "      <td>0.470588</td>\n",
       "      <td>0</td>\n",
       "      <td>0</td>\n",
       "      <td>1</td>\n",
       "      <td>0.149194</td>\n",
       "      <td>0.583333</td>\n",
       "    </tr>\n",
       "    <tr>\n",
       "      <th>3</th>\n",
       "      <td>1</td>\n",
       "      <td>0</td>\n",
       "      <td>0.121951</td>\n",
       "      <td>0.636364</td>\n",
       "      <td>0.294118</td>\n",
       "      <td>1</td>\n",
       "      <td>0</td>\n",
       "      <td>0</td>\n",
       "      <td>0.078629</td>\n",
       "      <td>0.125000</td>\n",
       "    </tr>\n",
       "    <tr>\n",
       "      <th>4</th>\n",
       "      <td>1</td>\n",
       "      <td>0</td>\n",
       "      <td>0.000000</td>\n",
       "      <td>0.363636</td>\n",
       "      <td>0.117647</td>\n",
       "      <td>0</td>\n",
       "      <td>0</td>\n",
       "      <td>1</td>\n",
       "      <td>0.157258</td>\n",
       "      <td>0.104167</td>\n",
       "    </tr>\n",
       "    <tr>\n",
       "      <th>...</th>\n",
       "      <td>...</td>\n",
       "      <td>...</td>\n",
       "      <td>...</td>\n",
       "      <td>...</td>\n",
       "      <td>...</td>\n",
       "      <td>...</td>\n",
       "      <td>...</td>\n",
       "      <td>...</td>\n",
       "      <td>...</td>\n",
       "      <td>...</td>\n",
       "    </tr>\n",
       "    <tr>\n",
       "      <th>79</th>\n",
       "      <td>1</td>\n",
       "      <td>0</td>\n",
       "      <td>0.609756</td>\n",
       "      <td>0.409091</td>\n",
       "      <td>0.411765</td>\n",
       "      <td>0</td>\n",
       "      <td>0</td>\n",
       "      <td>1</td>\n",
       "      <td>0.127016</td>\n",
       "      <td>0.062500</td>\n",
       "    </tr>\n",
       "    <tr>\n",
       "      <th>80</th>\n",
       "      <td>1</td>\n",
       "      <td>0</td>\n",
       "      <td>0.560976</td>\n",
       "      <td>0.590909</td>\n",
       "      <td>0.411765</td>\n",
       "      <td>0</td>\n",
       "      <td>1</td>\n",
       "      <td>0</td>\n",
       "      <td>0.100806</td>\n",
       "      <td>0.895833</td>\n",
       "    </tr>\n",
       "    <tr>\n",
       "      <th>81</th>\n",
       "      <td>1</td>\n",
       "      <td>0</td>\n",
       "      <td>0.756098</td>\n",
       "      <td>0.954545</td>\n",
       "      <td>0.176471</td>\n",
       "      <td>1</td>\n",
       "      <td>0</td>\n",
       "      <td>0</td>\n",
       "      <td>0.171371</td>\n",
       "      <td>0.479167</td>\n",
       "    </tr>\n",
       "    <tr>\n",
       "      <th>82</th>\n",
       "      <td>1</td>\n",
       "      <td>0</td>\n",
       "      <td>0.414634</td>\n",
       "      <td>1.000000</td>\n",
       "      <td>0.470588</td>\n",
       "      <td>1</td>\n",
       "      <td>0</td>\n",
       "      <td>0</td>\n",
       "      <td>0.074597</td>\n",
       "      <td>1.000000</td>\n",
       "    </tr>\n",
       "    <tr>\n",
       "      <th>83</th>\n",
       "      <td>0</td>\n",
       "      <td>1</td>\n",
       "      <td>0.195122</td>\n",
       "      <td>0.522727</td>\n",
       "      <td>0.294118</td>\n",
       "      <td>1</td>\n",
       "      <td>0</td>\n",
       "      <td>0</td>\n",
       "      <td>0.026210</td>\n",
       "      <td>0.000000</td>\n",
       "    </tr>\n",
       "  </tbody>\n",
       "</table>\n",
       "<p>84 rows × 10 columns</p>\n",
       "</div>"
      ],
      "text/plain": [
       "    Sex_M  Sex_F       Age      Time  Nbr_Warts  Type_1  Type_2  Type_3  \\\n",
       "0       1      0  0.170732  0.113636   0.764706       0       0       1   \n",
       "1       1      0  0.024390  0.863636   0.058824       1       0       0   \n",
       "2       1      0  0.292683  0.318182   0.470588       0       0       1   \n",
       "3       1      0  0.121951  0.636364   0.294118       1       0       0   \n",
       "4       1      0  0.000000  0.363636   0.117647       0       0       1   \n",
       "..    ...    ...       ...       ...        ...     ...     ...     ...   \n",
       "79      1      0  0.609756  0.409091   0.411765       0       0       1   \n",
       "80      1      0  0.560976  0.590909   0.411765       0       1       0   \n",
       "81      1      0  0.756098  0.954545   0.176471       1       0       0   \n",
       "82      1      0  0.414634  1.000000   0.470588       1       0       0   \n",
       "83      0      1  0.195122  0.522727   0.294118       1       0       0   \n",
       "\n",
       "        Area  Induration_diameter  \n",
       "0   0.090726             1.000000  \n",
       "1   0.189516             0.479167  \n",
       "2   0.149194             0.583333  \n",
       "3   0.078629             0.125000  \n",
       "4   0.157258             0.104167  \n",
       "..       ...                  ...  \n",
       "79  0.127016             0.062500  \n",
       "80  0.100806             0.895833  \n",
       "81  0.171371             0.479167  \n",
       "82  0.074597             1.000000  \n",
       "83  0.026210             0.000000  \n",
       "\n",
       "[84 rows x 10 columns]"
      ]
     },
     "execution_count": 679,
     "metadata": {},
     "output_type": "execute_result"
    }
   ],
   "source": [
    "feature_names=['Sex_M', 'Sex_F', 'Age', 'Time', 'Nbr_Warts', 'Type_1', 'Type_2','Type_3', 'Area',\n",
    "               'Induration_diameter']\n",
    "df[feature_names]"
   ]
  },
  {
   "cell_type": "code",
   "execution_count": null,
   "metadata": {},
   "outputs": [],
   "source": []
  },
  {
   "cell_type": "code",
   "execution_count": 680,
   "metadata": {},
   "outputs": [],
   "source": [
    "# Training and Testing Data Sets\n",
    "\n",
    "from sklearn.model_selection import train_test_split \n",
    "X_train, X_test, y_train, y_test = train_test_split(df[feature_names],\n",
    "df['Result'], test_size=0.2, random_state=0) \n",
    "\n",
    "#after trying many test-sizes, 0.2 gave the best test accuracy\n",
    "#test_size=0.4 : 100.0 % 91.18 %\n",
    "#test_size=0.35: 98.15 % 93.33 %\n",
    "#test_size=0.3 : 98.28 % 92.31 %\n",
    "#test_size=0.25: 100.0 % 80.95 %\n",
    "#test_size=0.2 : 98.51 % 94.12 %  #Best\n",
    "#test_size=0.15: 98.59 % 92.31 %\n",
    "#test_size=0.1 : 98.67 % 88.89 %\n"
   ]
  },
  {
   "cell_type": "code",
   "execution_count": 681,
   "metadata": {},
   "outputs": [
    {
     "name": "stdout",
     "output_type": "stream",
     "text": [
      "X_train shape: (67, 10)\n",
      "y_train shape: (67,)\n",
      "X_test shape: (17, 10)\n",
      "y_test shape: (17,)\n"
     ]
    }
   ],
   "source": [
    "#Size of train and test sets\n",
    "print(\"X_train shape: {}\".format(X_train.shape)) \n",
    "print(\"y_train shape: {}\".format(y_train.shape))\n",
    "\n",
    "print(\"X_test shape: {}\".format(X_test.shape)) \n",
    "print(\"y_test shape: {}\".format(y_test.shape))"
   ]
  },
  {
   "cell_type": "code",
   "execution_count": 682,
   "metadata": {},
   "outputs": [
    {
     "data": {
      "text/plain": [
       "DecisionTreeClassifier(max_depth=6, random_state=0)"
      ]
     },
     "execution_count": 682,
     "metadata": {},
     "output_type": "execute_result"
    }
   ],
   "source": [
    "# Build and train our Decision Tree\n",
    "\n",
    "from sklearn.tree import DecisionTreeClassifier # The DT Algorithm in sckit-learn\n",
    "\n",
    "from sklearn import tree\n",
    "\n",
    "D_Tree = DecisionTreeClassifier(max_depth = 6, random_state = 0) # Max depth is 6\n",
    "\n",
    "D_Tree.fit(X_train, y_train) # Build the tree using the training set"
   ]
  },
  {
   "cell_type": "code",
   "execution_count": 683,
   "metadata": {},
   "outputs": [
    {
     "name": "stdout",
     "output_type": "stream",
     "text": [
      "The Train Accuracy of the DT is: 100.00\n",
      "The Test Accuracy of the DT is: 94.12\n"
     ]
    }
   ],
   "source": [
    "#Accuracy of the train and test sets\n",
    "from sklearn import metrics\n",
    "\n",
    "prediction_Train = D_Tree.predict(X_train)\n",
    "print('The Train Accuracy of the DT is: %.2f' % (metrics.accuracy_score(prediction_Train,y_train) * 100))\n",
    "\n",
    "prediction_Test = D_Tree.predict(X_test)\n",
    "print('The Test Accuracy of the DT is: %.2f' % (metrics.accuracy_score(prediction_Test,y_test)* 100))\n"
   ]
  },
  {
   "cell_type": "code",
   "execution_count": 684,
   "metadata": {},
   "outputs": [
    {
     "name": "stdout",
     "output_type": "stream",
     "text": [
      "|--- Time <= 0.85\n",
      "|   |--- Type_2 <= 0.50\n",
      "|   |   |--- Age <= 0.45\n",
      "|   |   |   |--- class: 1\n",
      "|   |   |--- Age >  0.45\n",
      "|   |   |   |--- Age <= 0.48\n",
      "|   |   |   |   |--- class: 0\n",
      "|   |   |   |--- Age >  0.48\n",
      "|   |   |   |   |--- Area <= 0.06\n",
      "|   |   |   |   |   |--- Type_1 <= 0.50\n",
      "|   |   |   |   |   |   |--- class: 1\n",
      "|   |   |   |   |   |--- Type_1 >  0.50\n",
      "|   |   |   |   |   |   |--- class: 0\n",
      "|   |   |   |   |--- Area >  0.06\n",
      "|   |   |   |   |   |--- class: 1\n",
      "|   |--- Type_2 >  0.50\n",
      "|   |   |--- Time <= 0.33\n",
      "|   |   |   |--- class: 0\n",
      "|   |   |--- Time >  0.33\n",
      "|   |   |   |--- Area <= 0.13\n",
      "|   |   |   |   |--- class: 1\n",
      "|   |   |   |--- Area >  0.13\n",
      "|   |   |   |   |--- Time <= 0.73\n",
      "|   |   |   |   |   |--- class: 0\n",
      "|   |   |   |   |--- Time >  0.73\n",
      "|   |   |   |   |   |--- class: 1\n",
      "|--- Time >  0.85\n",
      "|   |--- Nbr_Warts <= 0.26\n",
      "|   |   |--- Age <= 0.30\n",
      "|   |   |   |--- class: 1\n",
      "|   |   |--- Age >  0.30\n",
      "|   |   |   |--- class: 0\n",
      "|   |--- Nbr_Warts >  0.26\n",
      "|   |   |--- class: 0\n",
      "\n"
     ]
    }
   ],
   "source": [
    "# Text representation of the decision tree\n",
    "from sklearn.tree import export_text\n",
    "\n",
    "text_representation = export_text(D_Tree,feature_names=feature_names)\n",
    "\n",
    "print(text_representation)"
   ]
  },
  {
   "cell_type": "code",
   "execution_count": null,
   "metadata": {},
   "outputs": [],
   "source": []
  },
  {
   "cell_type": "markdown",
   "metadata": {},
   "source": [
    "##  Feature importance in the Decision Tree :\n",
    "\n",
    "Feature importance rates how important each feature is for the decision a tree makes. \n"
   ]
  },
  {
   "cell_type": "code",
   "execution_count": 685,
   "metadata": {},
   "outputs": [
    {
     "name": "stdout",
     "output_type": "stream",
     "text": [
      "Feature importances:\n",
      "[0.         0.         0.20312393 0.54773699 0.06631787 0.04105392\n",
      " 0.05432777 0.         0.08743952 0.        ]\n"
     ]
    }
   ],
   "source": [
    "print(\"Feature importances:\\n{}\".format(D_Tree.feature_importances_))"
   ]
  },
  {
   "cell_type": "code",
   "execution_count": 686,
   "metadata": {},
   "outputs": [
    {
     "data": {
      "image/png": "[encoded data removed]",
      "text/plain": [
       "<Figure size 432x288 with 1 Axes>"
      ]
     },
     "metadata": {
      "needs_background": "light"
     },
     "output_type": "display_data"
    }
   ],
   "source": [
    "def plot_feature_importances(model):\n",
    "    n_features = 10\n",
    "    plt.barh([0,1,2,3,4,5,6,7,8,9], model.feature_importances_, align='center') \n",
    "    plt.yticks(np.arange(n_features), feature_names) \n",
    "    plt.xlabel(\"Feature importance\")\n",
    "    plt.ylabel(\"Feature\")\n",
    "    \n",
    "plot_feature_importances(D_Tree)"
   ]
  },
  {
   "cell_type": "code",
   "execution_count": 687,
   "metadata": {},
   "outputs": [
    {
     "data": {
      "text/plain": [
       "<AxesSubplot:xlabel='Time', ylabel='Result'>"
      ]
     },
     "execution_count": 687,
     "metadata": {},
     "output_type": "execute_result"
    },
    {
     "data": {
      "image/png": "[encoded data removed]",
      "text/plain": [
       "<Figure size 432x288 with 1 Axes>"
      ]
     },
     "metadata": {
      "needs_background": "light"
     },
     "output_type": "display_data"
    }
   ],
   "source": [
    "#Scatter plot of the most important feature 'Time'\n",
    "df.plot(kind = 'scatter', x = 'Time', y = 'Result', color='blue')"
   ]
  },
  {
   "cell_type": "code",
   "execution_count": 688,
   "metadata": {},
   "outputs": [
    {
     "data": {
      "image/png": "[encoded data removed]",
      "text/plain": [
       "<Figure size 1800x1440 with 1 Axes>"
      ]
     },
     "metadata": {
      "needs_background": "light"
     },
     "output_type": "display_data"
    }
   ],
   "source": [
    "#Decision Tree Plot\n",
    "figure = plt.figure(figsize=(25,20))\n",
    "_ = tree.plot_tree(D_Tree, \n",
    "                   feature_names = feature_names,  \n",
    "                   class_names   = ['0','1'],\n",
    "                   filled = True,\n",
    "                   precision = 2)"
   ]
  },
  {
   "cell_type": "code",
   "execution_count": null,
   "metadata": {},
   "outputs": [],
   "source": []
  }
 ],
 "metadata": {
  "kernelspec": {
   "display_name": "Python 3 (ipykernel)",
   "language": "python",
   "name": "python3"
  },
  "language_info": {
   "codemirror_mode": {
    "name": "ipython",
    "version": 3
   },
   "file_extension": ".py",
   "mimetype": "text/x-python",
   "name": "python",
   "nbconvert_exporter": "python",
   "pygments_lexer": "ipython3",
   "version": "3.9.7"
  }
 },
 "nbformat": 4,
 "nbformat_minor": 4
}
