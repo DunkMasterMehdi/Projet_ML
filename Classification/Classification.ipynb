{
 "cells": [
  {
   "cell_type": "markdown",
   "metadata": {},
   "source": [
    "# Projet ML"
   ]
  },
  {
   "cell_type": "code",
   "execution_count": 1,
   "metadata": {},
   "outputs": [],
   "source": [
    "import pandas as pd\n",
    "import numpy as np\n",
    "import seaborn as sns\n",
    "import matplotlib.pyplot as plt"
   ]
  },
  {
   "cell_type": "markdown",
   "metadata": {},
   "source": [
    "# Dataset classification\n",
    "\n",
    "Immunotherapy Dataset\n",
    "\n",
    "Link:\n",
    "https://archive.ics.uci.edu/ml/datasets/Immunotherapy+Dataset?fbclid=IwAR3UvWjj_2qqoS-_bjMEWCnrSUNS-1LezCZk1G6yMLHf_lAbpO4DZ76VZO0"
   ]
  },
  {
   "cell_type": "code",
   "execution_count": 2,
   "metadata": {},
   "outputs": [],
   "source": [
    "#Open the dataset with read_excel()\n",
    "df = pd.read_excel(\"Immunotherapy.xlsx\")"
   ]
  },
  {
   "cell_type": "code",
   "execution_count": 3,
   "metadata": {},
   "outputs": [],
   "source": [
    "#Rename the features \n",
    "df.rename(\n",
    "    columns={\n",
    "        \"sex\": \"Sex\", \n",
    "        \"age\": \"Age\", \n",
    "        \"Number_of_Warts\": \"Nbr_Warts\",\n",
    "        \"induration_diameter\": \"Induration_diameter\",\n",
    "        \"Result_of_Treatment\": \"Result\", \n",
    "    },\n",
    "    inplace = True\n",
    ")"
   ]
  },
  {
   "cell_type": "code",
   "execution_count": 4,
   "metadata": {},
   "outputs": [
    {
     "data": {
      "text/html": [
       "<div>\n",
       "<style scoped>\n",
       "    .dataframe tbody tr th:only-of-type {\n",
       "        vertical-align: middle;\n",
       "    }\n",
       "\n",
       "    .dataframe tbody tr th {\n",
       "        vertical-align: top;\n",
       "    }\n",
       "\n",
       "    .dataframe thead th {\n",
       "        text-align: right;\n",
       "    }\n",
       "</style>\n",
       "<table border=\"1\" class=\"dataframe\">\n",
       "  <thead>\n",
       "    <tr style=\"text-align: right;\">\n",
       "      <th></th>\n",
       "      <th>Sex</th>\n",
       "      <th>Age</th>\n",
       "      <th>Time</th>\n",
       "      <th>Nbr_Warts</th>\n",
       "      <th>Type</th>\n",
       "      <th>Area</th>\n",
       "      <th>Induration_diameter</th>\n",
       "      <th>Result</th>\n",
       "    </tr>\n",
       "  </thead>\n",
       "  <tbody>\n",
       "    <tr>\n",
       "      <th>0</th>\n",
       "      <td>1</td>\n",
       "      <td>22</td>\n",
       "      <td>2.25</td>\n",
       "      <td>14</td>\n",
       "      <td>3</td>\n",
       "      <td>51</td>\n",
       "      <td>50</td>\n",
       "      <td>1</td>\n",
       "    </tr>\n",
       "    <tr>\n",
       "      <th>1</th>\n",
       "      <td>1</td>\n",
       "      <td>15</td>\n",
       "      <td>3.00</td>\n",
       "      <td>2</td>\n",
       "      <td>3</td>\n",
       "      <td>900</td>\n",
       "      <td>70</td>\n",
       "      <td>1</td>\n",
       "    </tr>\n",
       "    <tr>\n",
       "      <th>2</th>\n",
       "      <td>1</td>\n",
       "      <td>16</td>\n",
       "      <td>10.50</td>\n",
       "      <td>2</td>\n",
       "      <td>1</td>\n",
       "      <td>100</td>\n",
       "      <td>25</td>\n",
       "      <td>1</td>\n",
       "    </tr>\n",
       "    <tr>\n",
       "      <th>3</th>\n",
       "      <td>1</td>\n",
       "      <td>27</td>\n",
       "      <td>4.50</td>\n",
       "      <td>9</td>\n",
       "      <td>3</td>\n",
       "      <td>80</td>\n",
       "      <td>30</td>\n",
       "      <td>1</td>\n",
       "    </tr>\n",
       "    <tr>\n",
       "      <th>4</th>\n",
       "      <td>1</td>\n",
       "      <td>20</td>\n",
       "      <td>8.00</td>\n",
       "      <td>6</td>\n",
       "      <td>1</td>\n",
       "      <td>45</td>\n",
       "      <td>8</td>\n",
       "      <td>1</td>\n",
       "    </tr>\n",
       "    <tr>\n",
       "      <th>...</th>\n",
       "      <td>...</td>\n",
       "      <td>...</td>\n",
       "      <td>...</td>\n",
       "      <td>...</td>\n",
       "      <td>...</td>\n",
       "      <td>...</td>\n",
       "      <td>...</td>\n",
       "      <td>...</td>\n",
       "    </tr>\n",
       "    <tr>\n",
       "      <th>85</th>\n",
       "      <td>1</td>\n",
       "      <td>40</td>\n",
       "      <td>5.50</td>\n",
       "      <td>8</td>\n",
       "      <td>3</td>\n",
       "      <td>69</td>\n",
       "      <td>5</td>\n",
       "      <td>1</td>\n",
       "    </tr>\n",
       "    <tr>\n",
       "      <th>86</th>\n",
       "      <td>1</td>\n",
       "      <td>38</td>\n",
       "      <td>7.50</td>\n",
       "      <td>8</td>\n",
       "      <td>2</td>\n",
       "      <td>56</td>\n",
       "      <td>45</td>\n",
       "      <td>1</td>\n",
       "    </tr>\n",
       "    <tr>\n",
       "      <th>87</th>\n",
       "      <td>1</td>\n",
       "      <td>46</td>\n",
       "      <td>11.50</td>\n",
       "      <td>4</td>\n",
       "      <td>1</td>\n",
       "      <td>91</td>\n",
       "      <td>25</td>\n",
       "      <td>0</td>\n",
       "    </tr>\n",
       "    <tr>\n",
       "      <th>88</th>\n",
       "      <td>1</td>\n",
       "      <td>32</td>\n",
       "      <td>12.00</td>\n",
       "      <td>9</td>\n",
       "      <td>1</td>\n",
       "      <td>43</td>\n",
       "      <td>50</td>\n",
       "      <td>0</td>\n",
       "    </tr>\n",
       "    <tr>\n",
       "      <th>89</th>\n",
       "      <td>2</td>\n",
       "      <td>23</td>\n",
       "      <td>6.75</td>\n",
       "      <td>6</td>\n",
       "      <td>1</td>\n",
       "      <td>19</td>\n",
       "      <td>2</td>\n",
       "      <td>1</td>\n",
       "    </tr>\n",
       "  </tbody>\n",
       "</table>\n",
       "<p>90 rows × 8 columns</p>\n",
       "</div>"
      ],
      "text/plain": [
       "    Sex  Age   Time  Nbr_Warts  Type  Area  Induration_diameter  Result\n",
       "0     1   22   2.25         14     3    51                   50       1\n",
       "1     1   15   3.00          2     3   900                   70       1\n",
       "2     1   16  10.50          2     1   100                   25       1\n",
       "3     1   27   4.50          9     3    80                   30       1\n",
       "4     1   20   8.00          6     1    45                    8       1\n",
       "..  ...  ...    ...        ...   ...   ...                  ...     ...\n",
       "85    1   40   5.50          8     3    69                    5       1\n",
       "86    1   38   7.50          8     2    56                   45       1\n",
       "87    1   46  11.50          4     1    91                   25       0\n",
       "88    1   32  12.00          9     1    43                   50       0\n",
       "89    2   23   6.75          6     1    19                    2       1\n",
       "\n",
       "[90 rows x 8 columns]"
      ]
     },
     "execution_count": 4,
     "metadata": {},
     "output_type": "execute_result"
    }
   ],
   "source": [
    "df"
   ]
  },
  {
   "cell_type": "code",
   "execution_count": 5,
   "metadata": {},
   "outputs": [
    {
     "data": {
      "text/plain": [
       "Sex                      int64\n",
       "Age                      int64\n",
       "Time                   float64\n",
       "Nbr_Warts                int64\n",
       "Type                     int64\n",
       "Area                     int64\n",
       "Induration_diameter      int64\n",
       "Result                   int64\n",
       "dtype: object"
      ]
     },
     "execution_count": 5,
     "metadata": {},
     "output_type": "execute_result"
    }
   ],
   "source": [
    "# Data types of our dataframe\n",
    "df.dtypes"
   ]
  },
  {
   "cell_type": "markdown",
   "metadata": {},
   "source": [
    "## Graphic Representation\n"
   ]
  },
  {
   "cell_type": "code",
   "execution_count": 6,
   "metadata": {},
   "outputs": [
    {
     "data": {
      "image/png": "[encoded data removed]",
      "text/plain": [
       "<Figure size 1152x1152 with 7 Axes>"
      ]
     },
     "metadata": {
      "needs_background": "light"
     },
     "output_type": "display_data"
    }
   ],
   "source": [
    "# Scatter plot of each feature\n",
    "fig = plt.figure(figsize=(16,16))\n",
    "\n",
    "plt.subplot(431)\n",
    "sns.scatterplot(data = df, x = 'Sex', y = 'Result', color='blue')\n",
    "\n",
    "plt.subplot(432)\n",
    "sns.scatterplot(data = df, x = 'Age', y = 'Result', color='green')\n",
    "\n",
    "plt.subplot(433)\n",
    "sns.scatterplot(data = df, x = 'Time', y = 'Result', color='red')\n",
    "\n",
    "plt.subplot(434)\n",
    "sns.scatterplot(data = df, x = 'Nbr_Warts', y = 'Result', color='magenta')\n",
    "\n",
    "plt.subplot(435)\n",
    "sns.scatterplot(data = df, x = 'Type', y = 'Result', color='blue')\n",
    "\n",
    "plt.subplot(436)\n",
    "sns.scatterplot(data = df, x = 'Area', y = 'Result', color='gray')\n",
    "\n",
    "plt.subplot(437)\n",
    "sns.scatterplot(data = df, x = 'Induration_diameter', y = 'Result', color='orange');\n"
   ]
  },
  {
   "cell_type": "code",
   "execution_count": 7,
   "metadata": {},
   "outputs": [
    {
     "data": {
      "text/html": [
       "<div>\n",
       "<style scoped>\n",
       "    .dataframe tbody tr th:only-of-type {\n",
       "        vertical-align: middle;\n",
       "    }\n",
       "\n",
       "    .dataframe tbody tr th {\n",
       "        vertical-align: top;\n",
       "    }\n",
       "\n",
       "    .dataframe thead th {\n",
       "        text-align: right;\n",
       "    }\n",
       "</style>\n",
       "<table border=\"1\" class=\"dataframe\">\n",
       "  <thead>\n",
       "    <tr style=\"text-align: right;\">\n",
       "      <th></th>\n",
       "      <th>Sex</th>\n",
       "      <th>Age</th>\n",
       "      <th>Time</th>\n",
       "      <th>Nbr_Warts</th>\n",
       "      <th>Type</th>\n",
       "      <th>Area</th>\n",
       "      <th>Induration_diameter</th>\n",
       "      <th>Result</th>\n",
       "    </tr>\n",
       "  </thead>\n",
       "  <tbody>\n",
       "    <tr>\n",
       "      <th>Sex</th>\n",
       "      <td>1.000000</td>\n",
       "      <td>0.043682</td>\n",
       "      <td>-0.014825</td>\n",
       "      <td>0.100785</td>\n",
       "      <td>-0.104623</td>\n",
       "      <td>-0.115664</td>\n",
       "      <td>0.015202</td>\n",
       "      <td>0.018831</td>\n",
       "    </tr>\n",
       "    <tr>\n",
       "      <th>Age</th>\n",
       "      <td>0.043682</td>\n",
       "      <td>1.000000</td>\n",
       "      <td>0.188981</td>\n",
       "      <td>0.000092</td>\n",
       "      <td>-0.056636</td>\n",
       "      <td>-0.064334</td>\n",
       "      <td>-0.007005</td>\n",
       "      <td>-0.188314</td>\n",
       "    </tr>\n",
       "    <tr>\n",
       "      <th>Time</th>\n",
       "      <td>-0.014825</td>\n",
       "      <td>0.188981</td>\n",
       "      <td>1.000000</td>\n",
       "      <td>0.050800</td>\n",
       "      <td>-0.262870</td>\n",
       "      <td>-0.047254</td>\n",
       "      <td>-0.183656</td>\n",
       "      <td>-0.361172</td>\n",
       "    </tr>\n",
       "    <tr>\n",
       "      <th>Nbr_Warts</th>\n",
       "      <td>0.100785</td>\n",
       "      <td>0.000092</td>\n",
       "      <td>0.050800</td>\n",
       "      <td>1.000000</td>\n",
       "      <td>0.148047</td>\n",
       "      <td>-0.107528</td>\n",
       "      <td>0.062383</td>\n",
       "      <td>-0.047160</td>\n",
       "    </tr>\n",
       "    <tr>\n",
       "      <th>Type</th>\n",
       "      <td>-0.104623</td>\n",
       "      <td>-0.056636</td>\n",
       "      <td>-0.262870</td>\n",
       "      <td>0.148047</td>\n",
       "      <td>1.000000</td>\n",
       "      <td>-0.042080</td>\n",
       "      <td>0.205546</td>\n",
       "      <td>0.083396</td>\n",
       "    </tr>\n",
       "    <tr>\n",
       "      <th>Area</th>\n",
       "      <td>-0.115664</td>\n",
       "      <td>-0.064334</td>\n",
       "      <td>-0.047254</td>\n",
       "      <td>-0.107528</td>\n",
       "      <td>-0.042080</td>\n",
       "      <td>1.000000</td>\n",
       "      <td>0.119262</td>\n",
       "      <td>0.043349</td>\n",
       "    </tr>\n",
       "    <tr>\n",
       "      <th>Induration_diameter</th>\n",
       "      <td>0.015202</td>\n",
       "      <td>-0.007005</td>\n",
       "      <td>-0.183656</td>\n",
       "      <td>0.062383</td>\n",
       "      <td>0.205546</td>\n",
       "      <td>0.119262</td>\n",
       "      <td>1.000000</td>\n",
       "      <td>-0.031273</td>\n",
       "    </tr>\n",
       "    <tr>\n",
       "      <th>Result</th>\n",
       "      <td>0.018831</td>\n",
       "      <td>-0.188314</td>\n",
       "      <td>-0.361172</td>\n",
       "      <td>-0.047160</td>\n",
       "      <td>0.083396</td>\n",
       "      <td>0.043349</td>\n",
       "      <td>-0.031273</td>\n",
       "      <td>1.000000</td>\n",
       "    </tr>\n",
       "  </tbody>\n",
       "</table>\n",
       "</div>"
      ],
      "text/plain": [
       "                          Sex       Age      Time  Nbr_Warts      Type  \\\n",
       "Sex                  1.000000  0.043682 -0.014825   0.100785 -0.104623   \n",
       "Age                  0.043682  1.000000  0.188981   0.000092 -0.056636   \n",
       "Time                -0.014825  0.188981  1.000000   0.050800 -0.262870   \n",
       "Nbr_Warts            0.100785  0.000092  0.050800   1.000000  0.148047   \n",
       "Type                -0.104623 -0.056636 -0.262870   0.148047  1.000000   \n",
       "Area                -0.115664 -0.064334 -0.047254  -0.107528 -0.042080   \n",
       "Induration_diameter  0.015202 -0.007005 -0.183656   0.062383  0.205546   \n",
       "Result               0.018831 -0.188314 -0.361172  -0.047160  0.083396   \n",
       "\n",
       "                         Area  Induration_diameter    Result  \n",
       "Sex                 -0.115664             0.015202  0.018831  \n",
       "Age                 -0.064334            -0.007005 -0.188314  \n",
       "Time                -0.047254            -0.183656 -0.361172  \n",
       "Nbr_Warts           -0.107528             0.062383 -0.047160  \n",
       "Type                -0.042080             0.205546  0.083396  \n",
       "Area                 1.000000             0.119262  0.043349  \n",
       "Induration_diameter  0.119262             1.000000 -0.031273  \n",
       "Result               0.043349            -0.031273  1.000000  "
      ]
     },
     "execution_count": 7,
     "metadata": {},
     "output_type": "execute_result"
    }
   ],
   "source": [
    "# Pairwise Correlation of the features\n",
    "df.corr()"
   ]
  },
  {
   "cell_type": "code",
   "execution_count": null,
   "metadata": {},
   "outputs": [],
   "source": []
  },
  {
   "cell_type": "markdown",
   "metadata": {},
   "source": [
    "# I- Preprocessing\n"
   ]
  },
  {
   "cell_type": "markdown",
   "metadata": {},
   "source": [
    "# I.1- Missing values \n",
    "\n",
    "We use the command df.isna().sum() to check if there are any missing values  \n"
   ]
  },
  {
   "cell_type": "code",
   "execution_count": 8,
   "metadata": {},
   "outputs": [
    {
     "data": {
      "text/plain": [
       "Sex                    0\n",
       "Age                    0\n",
       "Time                   0\n",
       "Nbr_Warts              0\n",
       "Type                   0\n",
       "Area                   0\n",
       "Induration_diameter    0\n",
       "Result                 0\n",
       "dtype: int64"
      ]
     },
     "execution_count": 8,
     "metadata": {},
     "output_type": "execute_result"
    }
   ],
   "source": [
    "df.isna().sum()\n",
    "# All the values are equal to zero, so there are no missing values"
   ]
  },
  {
   "cell_type": "code",
   "execution_count": null,
   "metadata": {},
   "outputs": [],
   "source": []
  },
  {
   "cell_type": "markdown",
   "metadata": {},
   "source": [
    "# I.2- Removing Categorical values \n",
    "\n",
    "The features 'Sex' and 'Type' are of Categorical type, we have to transform them to a numerical type\n"
   ]
  },
  {
   "cell_type": "code",
   "execution_count": 9,
   "metadata": {},
   "outputs": [
    {
     "data": {
      "text/plain": [
       "Index(['Sex', 'Age', 'Time', 'Nbr_Warts', 'Type', 'Area',\n",
       "       'Induration_diameter', 'Result'],\n",
       "      dtype='object')"
      ]
     },
     "execution_count": 9,
     "metadata": {},
     "output_type": "execute_result"
    }
   ],
   "source": [
    "df.columns"
   ]
  },
  {
   "cell_type": "code",
   "execution_count": 10,
   "metadata": {},
   "outputs": [],
   "source": [
    "# We use the 'Dummies' method:\n",
    "dummies_Type = pd.get_dummies(df['Type'], prefix='Type', dummy_na=False)\n",
    "dummies_Sex  = pd.get_dummies(df['Sex'], prefix='Sex', dummy_na=False)"
   ]
  },
  {
   "cell_type": "code",
   "execution_count": 11,
   "metadata": {},
   "outputs": [
    {
     "name": "stdout",
     "output_type": "stream",
     "text": [
      "   Type_1  Type_2  Type_3\n",
      "0       0       0       1\n",
      "1       0       0       1\n",
      "2       1       0       0\n",
      "3       0       0       1\n",
      "4       1       0       0\n"
     ]
    }
   ],
   "source": [
    "print(dummies_Type.head(5))"
   ]
  },
  {
   "cell_type": "code",
   "execution_count": 12,
   "metadata": {},
   "outputs": [],
   "source": [
    "dummies_Sex.rename(\n",
    "    columns={\n",
    "        \"Sex_1\": \"Sex_M\", \n",
    "        \"Sex_2\": \"Sex_F\", \n",
    "    },\n",
    "    inplace = True\n",
    ")"
   ]
  },
  {
   "cell_type": "code",
   "execution_count": 13,
   "metadata": {},
   "outputs": [
    {
     "name": "stdout",
     "output_type": "stream",
     "text": [
      "   Sex_M  Sex_F\n",
      "0      1      0\n",
      "1      1      0\n",
      "2      1      0\n",
      "3      1      0\n",
      "4      1      0\n"
     ]
    }
   ],
   "source": [
    "print(dummies_Sex.head(5))"
   ]
  },
  {
   "cell_type": "code",
   "execution_count": 14,
   "metadata": {},
   "outputs": [
    {
     "name": "stderr",
     "output_type": "stream",
     "text": [
      "C:\\Users\\user\\AppData\\Local\\Temp/ipykernel_5928/3401346393.py:1: FutureWarning: In a future version of pandas all arguments of DataFrame.drop except for the argument 'labels' will be keyword-only\n",
      "  df = df.drop('Sex', 1)\n"
     ]
    }
   ],
   "source": [
    "df = df.drop('Sex', 1)"
   ]
  },
  {
   "cell_type": "code",
   "execution_count": 15,
   "metadata": {},
   "outputs": [
    {
     "data": {
      "text/html": [
       "<div>\n",
       "<style scoped>\n",
       "    .dataframe tbody tr th:only-of-type {\n",
       "        vertical-align: middle;\n",
       "    }\n",
       "\n",
       "    .dataframe tbody tr th {\n",
       "        vertical-align: top;\n",
       "    }\n",
       "\n",
       "    .dataframe thead th {\n",
       "        text-align: right;\n",
       "    }\n",
       "</style>\n",
       "<table border=\"1\" class=\"dataframe\">\n",
       "  <thead>\n",
       "    <tr style=\"text-align: right;\">\n",
       "      <th></th>\n",
       "      <th>Age</th>\n",
       "      <th>Time</th>\n",
       "      <th>Nbr_Warts</th>\n",
       "      <th>Type</th>\n",
       "      <th>Area</th>\n",
       "      <th>Induration_diameter</th>\n",
       "      <th>Result</th>\n",
       "    </tr>\n",
       "  </thead>\n",
       "  <tbody>\n",
       "    <tr>\n",
       "      <th>0</th>\n",
       "      <td>22</td>\n",
       "      <td>2.25</td>\n",
       "      <td>14</td>\n",
       "      <td>3</td>\n",
       "      <td>51</td>\n",
       "      <td>50</td>\n",
       "      <td>1</td>\n",
       "    </tr>\n",
       "    <tr>\n",
       "      <th>1</th>\n",
       "      <td>15</td>\n",
       "      <td>3.00</td>\n",
       "      <td>2</td>\n",
       "      <td>3</td>\n",
       "      <td>900</td>\n",
       "      <td>70</td>\n",
       "      <td>1</td>\n",
       "    </tr>\n",
       "    <tr>\n",
       "      <th>2</th>\n",
       "      <td>16</td>\n",
       "      <td>10.50</td>\n",
       "      <td>2</td>\n",
       "      <td>1</td>\n",
       "      <td>100</td>\n",
       "      <td>25</td>\n",
       "      <td>1</td>\n",
       "    </tr>\n",
       "    <tr>\n",
       "      <th>3</th>\n",
       "      <td>27</td>\n",
       "      <td>4.50</td>\n",
       "      <td>9</td>\n",
       "      <td>3</td>\n",
       "      <td>80</td>\n",
       "      <td>30</td>\n",
       "      <td>1</td>\n",
       "    </tr>\n",
       "    <tr>\n",
       "      <th>4</th>\n",
       "      <td>20</td>\n",
       "      <td>8.00</td>\n",
       "      <td>6</td>\n",
       "      <td>1</td>\n",
       "      <td>45</td>\n",
       "      <td>8</td>\n",
       "      <td>1</td>\n",
       "    </tr>\n",
       "  </tbody>\n",
       "</table>\n",
       "</div>"
      ],
      "text/plain": [
       "   Age   Time  Nbr_Warts  Type  Area  Induration_diameter  Result\n",
       "0   22   2.25         14     3    51                   50       1\n",
       "1   15   3.00          2     3   900                   70       1\n",
       "2   16  10.50          2     1   100                   25       1\n",
       "3   27   4.50          9     3    80                   30       1\n",
       "4   20   8.00          6     1    45                    8       1"
      ]
     },
     "execution_count": 15,
     "metadata": {},
     "output_type": "execute_result"
    }
   ],
   "source": [
    "df.head(5)"
   ]
  },
  {
   "cell_type": "code",
   "execution_count": 16,
   "metadata": {},
   "outputs": [
    {
     "name": "stderr",
     "output_type": "stream",
     "text": [
      "C:\\Users\\user\\AppData\\Local\\Temp/ipykernel_5928/2018126150.py:1: FutureWarning: In a future version of pandas all arguments of DataFrame.drop except for the argument 'labels' will be keyword-only\n",
      "  df = df.drop('Type', 1)\n"
     ]
    }
   ],
   "source": [
    "df = df.drop('Type', 1)"
   ]
  },
  {
   "cell_type": "code",
   "execution_count": 17,
   "metadata": {},
   "outputs": [
    {
     "data": {
      "text/html": [
       "<div>\n",
       "<style scoped>\n",
       "    .dataframe tbody tr th:only-of-type {\n",
       "        vertical-align: middle;\n",
       "    }\n",
       "\n",
       "    .dataframe tbody tr th {\n",
       "        vertical-align: top;\n",
       "    }\n",
       "\n",
       "    .dataframe thead th {\n",
       "        text-align: right;\n",
       "    }\n",
       "</style>\n",
       "<table border=\"1\" class=\"dataframe\">\n",
       "  <thead>\n",
       "    <tr style=\"text-align: right;\">\n",
       "      <th></th>\n",
       "      <th>Age</th>\n",
       "      <th>Time</th>\n",
       "      <th>Nbr_Warts</th>\n",
       "      <th>Area</th>\n",
       "      <th>Induration_diameter</th>\n",
       "      <th>Result</th>\n",
       "    </tr>\n",
       "  </thead>\n",
       "  <tbody>\n",
       "    <tr>\n",
       "      <th>0</th>\n",
       "      <td>22</td>\n",
       "      <td>2.25</td>\n",
       "      <td>14</td>\n",
       "      <td>51</td>\n",
       "      <td>50</td>\n",
       "      <td>1</td>\n",
       "    </tr>\n",
       "    <tr>\n",
       "      <th>1</th>\n",
       "      <td>15</td>\n",
       "      <td>3.00</td>\n",
       "      <td>2</td>\n",
       "      <td>900</td>\n",
       "      <td>70</td>\n",
       "      <td>1</td>\n",
       "    </tr>\n",
       "    <tr>\n",
       "      <th>2</th>\n",
       "      <td>16</td>\n",
       "      <td>10.50</td>\n",
       "      <td>2</td>\n",
       "      <td>100</td>\n",
       "      <td>25</td>\n",
       "      <td>1</td>\n",
       "    </tr>\n",
       "    <tr>\n",
       "      <th>3</th>\n",
       "      <td>27</td>\n",
       "      <td>4.50</td>\n",
       "      <td>9</td>\n",
       "      <td>80</td>\n",
       "      <td>30</td>\n",
       "      <td>1</td>\n",
       "    </tr>\n",
       "    <tr>\n",
       "      <th>4</th>\n",
       "      <td>20</td>\n",
       "      <td>8.00</td>\n",
       "      <td>6</td>\n",
       "      <td>45</td>\n",
       "      <td>8</td>\n",
       "      <td>1</td>\n",
       "    </tr>\n",
       "  </tbody>\n",
       "</table>\n",
       "</div>"
      ],
      "text/plain": [
       "   Age   Time  Nbr_Warts  Area  Induration_diameter  Result\n",
       "0   22   2.25         14    51                   50       1\n",
       "1   15   3.00          2   900                   70       1\n",
       "2   16  10.50          2   100                   25       1\n",
       "3   27   4.50          9    80                   30       1\n",
       "4   20   8.00          6    45                    8       1"
      ]
     },
     "execution_count": 17,
     "metadata": {},
     "output_type": "execute_result"
    }
   ],
   "source": [
    "df.head(5)"
   ]
  },
  {
   "cell_type": "code",
   "execution_count": 18,
   "metadata": {},
   "outputs": [],
   "source": [
    "#We merge all the features \n",
    "df = pd.concat([dummies_Sex, df.Age, df.Time, df.Nbr_Warts, dummies_Type, df.Area, df.Induration_diameter, df.Result], axis=1)"
   ]
  },
  {
   "cell_type": "code",
   "execution_count": 19,
   "metadata": {},
   "outputs": [
    {
     "data": {
      "text/html": [
       "<div>\n",
       "<style scoped>\n",
       "    .dataframe tbody tr th:only-of-type {\n",
       "        vertical-align: middle;\n",
       "    }\n",
       "\n",
       "    .dataframe tbody tr th {\n",
       "        vertical-align: top;\n",
       "    }\n",
       "\n",
       "    .dataframe thead th {\n",
       "        text-align: right;\n",
       "    }\n",
       "</style>\n",
       "<table border=\"1\" class=\"dataframe\">\n",
       "  <thead>\n",
       "    <tr style=\"text-align: right;\">\n",
       "      <th></th>\n",
       "      <th>Sex_M</th>\n",
       "      <th>Sex_F</th>\n",
       "      <th>Age</th>\n",
       "      <th>Time</th>\n",
       "      <th>Nbr_Warts</th>\n",
       "      <th>Type_1</th>\n",
       "      <th>Type_2</th>\n",
       "      <th>Type_3</th>\n",
       "      <th>Area</th>\n",
       "      <th>Induration_diameter</th>\n",
       "      <th>Result</th>\n",
       "    </tr>\n",
       "  </thead>\n",
       "  <tbody>\n",
       "    <tr>\n",
       "      <th>0</th>\n",
       "      <td>1</td>\n",
       "      <td>0</td>\n",
       "      <td>22</td>\n",
       "      <td>2.25</td>\n",
       "      <td>14</td>\n",
       "      <td>0</td>\n",
       "      <td>0</td>\n",
       "      <td>1</td>\n",
       "      <td>51</td>\n",
       "      <td>50</td>\n",
       "      <td>1</td>\n",
       "    </tr>\n",
       "    <tr>\n",
       "      <th>1</th>\n",
       "      <td>1</td>\n",
       "      <td>0</td>\n",
       "      <td>15</td>\n",
       "      <td>3.00</td>\n",
       "      <td>2</td>\n",
       "      <td>0</td>\n",
       "      <td>0</td>\n",
       "      <td>1</td>\n",
       "      <td>900</td>\n",
       "      <td>70</td>\n",
       "      <td>1</td>\n",
       "    </tr>\n",
       "    <tr>\n",
       "      <th>2</th>\n",
       "      <td>1</td>\n",
       "      <td>0</td>\n",
       "      <td>16</td>\n",
       "      <td>10.50</td>\n",
       "      <td>2</td>\n",
       "      <td>1</td>\n",
       "      <td>0</td>\n",
       "      <td>0</td>\n",
       "      <td>100</td>\n",
       "      <td>25</td>\n",
       "      <td>1</td>\n",
       "    </tr>\n",
       "    <tr>\n",
       "      <th>3</th>\n",
       "      <td>1</td>\n",
       "      <td>0</td>\n",
       "      <td>27</td>\n",
       "      <td>4.50</td>\n",
       "      <td>9</td>\n",
       "      <td>0</td>\n",
       "      <td>0</td>\n",
       "      <td>1</td>\n",
       "      <td>80</td>\n",
       "      <td>30</td>\n",
       "      <td>1</td>\n",
       "    </tr>\n",
       "    <tr>\n",
       "      <th>4</th>\n",
       "      <td>1</td>\n",
       "      <td>0</td>\n",
       "      <td>20</td>\n",
       "      <td>8.00</td>\n",
       "      <td>6</td>\n",
       "      <td>1</td>\n",
       "      <td>0</td>\n",
       "      <td>0</td>\n",
       "      <td>45</td>\n",
       "      <td>8</td>\n",
       "      <td>1</td>\n",
       "    </tr>\n",
       "    <tr>\n",
       "      <th>...</th>\n",
       "      <td>...</td>\n",
       "      <td>...</td>\n",
       "      <td>...</td>\n",
       "      <td>...</td>\n",
       "      <td>...</td>\n",
       "      <td>...</td>\n",
       "      <td>...</td>\n",
       "      <td>...</td>\n",
       "      <td>...</td>\n",
       "      <td>...</td>\n",
       "      <td>...</td>\n",
       "    </tr>\n",
       "    <tr>\n",
       "      <th>85</th>\n",
       "      <td>1</td>\n",
       "      <td>0</td>\n",
       "      <td>40</td>\n",
       "      <td>5.50</td>\n",
       "      <td>8</td>\n",
       "      <td>0</td>\n",
       "      <td>0</td>\n",
       "      <td>1</td>\n",
       "      <td>69</td>\n",
       "      <td>5</td>\n",
       "      <td>1</td>\n",
       "    </tr>\n",
       "    <tr>\n",
       "      <th>86</th>\n",
       "      <td>1</td>\n",
       "      <td>0</td>\n",
       "      <td>38</td>\n",
       "      <td>7.50</td>\n",
       "      <td>8</td>\n",
       "      <td>0</td>\n",
       "      <td>1</td>\n",
       "      <td>0</td>\n",
       "      <td>56</td>\n",
       "      <td>45</td>\n",
       "      <td>1</td>\n",
       "    </tr>\n",
       "    <tr>\n",
       "      <th>87</th>\n",
       "      <td>1</td>\n",
       "      <td>0</td>\n",
       "      <td>46</td>\n",
       "      <td>11.50</td>\n",
       "      <td>4</td>\n",
       "      <td>1</td>\n",
       "      <td>0</td>\n",
       "      <td>0</td>\n",
       "      <td>91</td>\n",
       "      <td>25</td>\n",
       "      <td>0</td>\n",
       "    </tr>\n",
       "    <tr>\n",
       "      <th>88</th>\n",
       "      <td>1</td>\n",
       "      <td>0</td>\n",
       "      <td>32</td>\n",
       "      <td>12.00</td>\n",
       "      <td>9</td>\n",
       "      <td>1</td>\n",
       "      <td>0</td>\n",
       "      <td>0</td>\n",
       "      <td>43</td>\n",
       "      <td>50</td>\n",
       "      <td>0</td>\n",
       "    </tr>\n",
       "    <tr>\n",
       "      <th>89</th>\n",
       "      <td>0</td>\n",
       "      <td>1</td>\n",
       "      <td>23</td>\n",
       "      <td>6.75</td>\n",
       "      <td>6</td>\n",
       "      <td>1</td>\n",
       "      <td>0</td>\n",
       "      <td>0</td>\n",
       "      <td>19</td>\n",
       "      <td>2</td>\n",
       "      <td>1</td>\n",
       "    </tr>\n",
       "  </tbody>\n",
       "</table>\n",
       "<p>90 rows × 11 columns</p>\n",
       "</div>"
      ],
      "text/plain": [
       "    Sex_M  Sex_F  Age   Time  Nbr_Warts  Type_1  Type_2  Type_3  Area  \\\n",
       "0       1      0   22   2.25         14       0       0       1    51   \n",
       "1       1      0   15   3.00          2       0       0       1   900   \n",
       "2       1      0   16  10.50          2       1       0       0   100   \n",
       "3       1      0   27   4.50          9       0       0       1    80   \n",
       "4       1      0   20   8.00          6       1       0       0    45   \n",
       "..    ...    ...  ...    ...        ...     ...     ...     ...   ...   \n",
       "85      1      0   40   5.50          8       0       0       1    69   \n",
       "86      1      0   38   7.50          8       0       1       0    56   \n",
       "87      1      0   46  11.50          4       1       0       0    91   \n",
       "88      1      0   32  12.00          9       1       0       0    43   \n",
       "89      0      1   23   6.75          6       1       0       0    19   \n",
       "\n",
       "    Induration_diameter  Result  \n",
       "0                    50       1  \n",
       "1                    70       1  \n",
       "2                    25       1  \n",
       "3                    30       1  \n",
       "4                     8       1  \n",
       "..                  ...     ...  \n",
       "85                    5       1  \n",
       "86                   45       1  \n",
       "87                   25       0  \n",
       "88                   50       0  \n",
       "89                    2       1  \n",
       "\n",
       "[90 rows x 11 columns]"
      ]
     },
     "execution_count": 19,
     "metadata": {},
     "output_type": "execute_result"
    }
   ],
   "source": [
    "df"
   ]
  },
  {
   "cell_type": "markdown",
   "metadata": {},
   "source": [
    "# I.3- Detecting Outliers\n"
   ]
  },
  {
   "cell_type": "code",
   "execution_count": 20,
   "metadata": {},
   "outputs": [],
   "source": [
    "#We use z_score method to detect the outliers: \n",
    "def detect_outliers(data):\n",
    "    outliers=[]\n",
    "    threshold = 3\n",
    "    mean = np.mean(data)\n",
    "    std  = np.std(data)  \n",
    "    \n",
    "    for i in data:\n",
    "        z_score = (i-mean)/std\n",
    "        if np.abs(z_score)>threshold:\n",
    "            outliers.append(i)\n",
    "    \n",
    "    return outliers"
   ]
  },
  {
   "cell_type": "code",
   "execution_count": 21,
   "metadata": {},
   "outputs": [
    {
     "data": {
      "text/plain": [
       "[19]"
      ]
     },
     "execution_count": 21,
     "metadata": {},
     "output_type": "execute_result"
    }
   ],
   "source": [
    "detect_outliers(df['Nbr_Warts'])"
   ]
  },
  {
   "cell_type": "code",
   "execution_count": 22,
   "metadata": {},
   "outputs": [
    {
     "data": {
      "text/plain": [
       "[900, 504, 507]"
      ]
     },
     "execution_count": 22,
     "metadata": {},
     "output_type": "execute_result"
    }
   ],
   "source": [
    "detect_outliers(df['Area'])"
   ]
  },
  {
   "cell_type": "code",
   "execution_count": 23,
   "metadata": {},
   "outputs": [
    {
     "data": {
      "text/plain": [
       "[70, 70, 70]"
      ]
     },
     "execution_count": 23,
     "metadata": {},
     "output_type": "execute_result"
    }
   ],
   "source": [
    "detect_outliers(df['Induration_diameter'])"
   ]
  },
  {
   "cell_type": "code",
   "execution_count": 24,
   "metadata": {},
   "outputs": [
    {
     "data": {
      "text/html": [
       "<div>\n",
       "<style scoped>\n",
       "    .dataframe tbody tr th:only-of-type {\n",
       "        vertical-align: middle;\n",
       "    }\n",
       "\n",
       "    .dataframe tbody tr th {\n",
       "        vertical-align: top;\n",
       "    }\n",
       "\n",
       "    .dataframe thead th {\n",
       "        text-align: right;\n",
       "    }\n",
       "</style>\n",
       "<table border=\"1\" class=\"dataframe\">\n",
       "  <thead>\n",
       "    <tr style=\"text-align: right;\">\n",
       "      <th></th>\n",
       "      <th>Sex_M</th>\n",
       "      <th>Sex_F</th>\n",
       "      <th>Age</th>\n",
       "      <th>Time</th>\n",
       "      <th>Nbr_Warts</th>\n",
       "      <th>Type_1</th>\n",
       "      <th>Type_2</th>\n",
       "      <th>Type_3</th>\n",
       "      <th>Area</th>\n",
       "      <th>Induration_diameter</th>\n",
       "      <th>Result</th>\n",
       "    </tr>\n",
       "  </thead>\n",
       "  <tbody>\n",
       "    <tr>\n",
       "      <th>1</th>\n",
       "      <td>1</td>\n",
       "      <td>0</td>\n",
       "      <td>15</td>\n",
       "      <td>3.00</td>\n",
       "      <td>2</td>\n",
       "      <td>0</td>\n",
       "      <td>0</td>\n",
       "      <td>1</td>\n",
       "      <td>900</td>\n",
       "      <td>70</td>\n",
       "      <td>1</td>\n",
       "    </tr>\n",
       "    <tr>\n",
       "      <th>18</th>\n",
       "      <td>0</td>\n",
       "      <td>1</td>\n",
       "      <td>15</td>\n",
       "      <td>6.50</td>\n",
       "      <td>19</td>\n",
       "      <td>1</td>\n",
       "      <td>0</td>\n",
       "      <td>0</td>\n",
       "      <td>56</td>\n",
       "      <td>7</td>\n",
       "      <td>1</td>\n",
       "    </tr>\n",
       "    <tr>\n",
       "      <th>31</th>\n",
       "      <td>1</td>\n",
       "      <td>0</td>\n",
       "      <td>23</td>\n",
       "      <td>3.00</td>\n",
       "      <td>2</td>\n",
       "      <td>0</td>\n",
       "      <td>0</td>\n",
       "      <td>1</td>\n",
       "      <td>87</td>\n",
       "      <td>70</td>\n",
       "      <td>1</td>\n",
       "    </tr>\n",
       "    <tr>\n",
       "      <th>37</th>\n",
       "      <td>1</td>\n",
       "      <td>0</td>\n",
       "      <td>29</td>\n",
       "      <td>8.75</td>\n",
       "      <td>3</td>\n",
       "      <td>1</td>\n",
       "      <td>0</td>\n",
       "      <td>0</td>\n",
       "      <td>504</td>\n",
       "      <td>2</td>\n",
       "      <td>1</td>\n",
       "    </tr>\n",
       "    <tr>\n",
       "      <th>61</th>\n",
       "      <td>0</td>\n",
       "      <td>1</td>\n",
       "      <td>19</td>\n",
       "      <td>2.25</td>\n",
       "      <td>8</td>\n",
       "      <td>0</td>\n",
       "      <td>1</td>\n",
       "      <td>0</td>\n",
       "      <td>42</td>\n",
       "      <td>70</td>\n",
       "      <td>1</td>\n",
       "    </tr>\n",
       "    <tr>\n",
       "      <th>78</th>\n",
       "      <td>1</td>\n",
       "      <td>0</td>\n",
       "      <td>43</td>\n",
       "      <td>11.00</td>\n",
       "      <td>7</td>\n",
       "      <td>1</td>\n",
       "      <td>0</td>\n",
       "      <td>0</td>\n",
       "      <td>507</td>\n",
       "      <td>7</td>\n",
       "      <td>1</td>\n",
       "    </tr>\n",
       "  </tbody>\n",
       "</table>\n",
       "</div>"
      ],
      "text/plain": [
       "    Sex_M  Sex_F  Age   Time  Nbr_Warts  Type_1  Type_2  Type_3  Area  \\\n",
       "1       1      0   15   3.00          2       0       0       1   900   \n",
       "18      0      1   15   6.50         19       1       0       0    56   \n",
       "31      1      0   23   3.00          2       0       0       1    87   \n",
       "37      1      0   29   8.75          3       1       0       0   504   \n",
       "61      0      1   19   2.25          8       0       1       0    42   \n",
       "78      1      0   43  11.00          7       1       0       0   507   \n",
       "\n",
       "    Induration_diameter  Result  \n",
       "1                    70       1  \n",
       "18                    7       1  \n",
       "31                   70       1  \n",
       "37                    2       1  \n",
       "61                   70       1  \n",
       "78                    7       1  "
      ]
     },
     "execution_count": 24,
     "metadata": {},
     "output_type": "execute_result"
    }
   ],
   "source": [
    "#The other features have been tested and they don't contain outliers\n",
    "df_outliers = df[df['Nbr_Warts'] == 19].append(df[df['Area'] == 900]).append(df[df['Area'] == 504]).append(df[df['Area'] == 507]).append(df[df['Induration_diameter'] == 70])\n",
    "df_outliers = df_outliers.drop_duplicates()\n",
    "df_outliers = df_outliers.sort_index()\n",
    "df_outliers"
   ]
  },
  {
   "cell_type": "code",
   "execution_count": 25,
   "metadata": {},
   "outputs": [
    {
     "data": {
      "text/html": [
       "<div>\n",
       "<style scoped>\n",
       "    .dataframe tbody tr th:only-of-type {\n",
       "        vertical-align: middle;\n",
       "    }\n",
       "\n",
       "    .dataframe tbody tr th {\n",
       "        vertical-align: top;\n",
       "    }\n",
       "\n",
       "    .dataframe thead th {\n",
       "        text-align: right;\n",
       "    }\n",
       "</style>\n",
       "<table border=\"1\" class=\"dataframe\">\n",
       "  <thead>\n",
       "    <tr style=\"text-align: right;\">\n",
       "      <th></th>\n",
       "      <th>Sex_M</th>\n",
       "      <th>Sex_F</th>\n",
       "      <th>Age</th>\n",
       "      <th>Time</th>\n",
       "      <th>Nbr_Warts</th>\n",
       "      <th>Type_1</th>\n",
       "      <th>Type_2</th>\n",
       "      <th>Type_3</th>\n",
       "      <th>Area</th>\n",
       "      <th>Induration_diameter</th>\n",
       "      <th>Result</th>\n",
       "    </tr>\n",
       "  </thead>\n",
       "  <tbody>\n",
       "    <tr>\n",
       "      <th>0</th>\n",
       "      <td>1</td>\n",
       "      <td>0</td>\n",
       "      <td>22</td>\n",
       "      <td>2.25</td>\n",
       "      <td>14</td>\n",
       "      <td>0</td>\n",
       "      <td>0</td>\n",
       "      <td>1</td>\n",
       "      <td>51</td>\n",
       "      <td>50</td>\n",
       "      <td>1</td>\n",
       "    </tr>\n",
       "    <tr>\n",
       "      <th>1</th>\n",
       "      <td>1</td>\n",
       "      <td>0</td>\n",
       "      <td>16</td>\n",
       "      <td>10.50</td>\n",
       "      <td>2</td>\n",
       "      <td>1</td>\n",
       "      <td>0</td>\n",
       "      <td>0</td>\n",
       "      <td>100</td>\n",
       "      <td>25</td>\n",
       "      <td>1</td>\n",
       "    </tr>\n",
       "    <tr>\n",
       "      <th>2</th>\n",
       "      <td>1</td>\n",
       "      <td>0</td>\n",
       "      <td>27</td>\n",
       "      <td>4.50</td>\n",
       "      <td>9</td>\n",
       "      <td>0</td>\n",
       "      <td>0</td>\n",
       "      <td>1</td>\n",
       "      <td>80</td>\n",
       "      <td>30</td>\n",
       "      <td>1</td>\n",
       "    </tr>\n",
       "    <tr>\n",
       "      <th>3</th>\n",
       "      <td>1</td>\n",
       "      <td>0</td>\n",
       "      <td>20</td>\n",
       "      <td>8.00</td>\n",
       "      <td>6</td>\n",
       "      <td>1</td>\n",
       "      <td>0</td>\n",
       "      <td>0</td>\n",
       "      <td>45</td>\n",
       "      <td>8</td>\n",
       "      <td>1</td>\n",
       "    </tr>\n",
       "    <tr>\n",
       "      <th>4</th>\n",
       "      <td>1</td>\n",
       "      <td>0</td>\n",
       "      <td>15</td>\n",
       "      <td>5.00</td>\n",
       "      <td>3</td>\n",
       "      <td>0</td>\n",
       "      <td>0</td>\n",
       "      <td>1</td>\n",
       "      <td>84</td>\n",
       "      <td>7</td>\n",
       "      <td>1</td>\n",
       "    </tr>\n",
       "    <tr>\n",
       "      <th>...</th>\n",
       "      <td>...</td>\n",
       "      <td>...</td>\n",
       "      <td>...</td>\n",
       "      <td>...</td>\n",
       "      <td>...</td>\n",
       "      <td>...</td>\n",
       "      <td>...</td>\n",
       "      <td>...</td>\n",
       "      <td>...</td>\n",
       "      <td>...</td>\n",
       "      <td>...</td>\n",
       "    </tr>\n",
       "    <tr>\n",
       "      <th>79</th>\n",
       "      <td>1</td>\n",
       "      <td>0</td>\n",
       "      <td>40</td>\n",
       "      <td>5.50</td>\n",
       "      <td>8</td>\n",
       "      <td>0</td>\n",
       "      <td>0</td>\n",
       "      <td>1</td>\n",
       "      <td>69</td>\n",
       "      <td>5</td>\n",
       "      <td>1</td>\n",
       "    </tr>\n",
       "    <tr>\n",
       "      <th>80</th>\n",
       "      <td>1</td>\n",
       "      <td>0</td>\n",
       "      <td>38</td>\n",
       "      <td>7.50</td>\n",
       "      <td>8</td>\n",
       "      <td>0</td>\n",
       "      <td>1</td>\n",
       "      <td>0</td>\n",
       "      <td>56</td>\n",
       "      <td>45</td>\n",
       "      <td>1</td>\n",
       "    </tr>\n",
       "    <tr>\n",
       "      <th>81</th>\n",
       "      <td>1</td>\n",
       "      <td>0</td>\n",
       "      <td>46</td>\n",
       "      <td>11.50</td>\n",
       "      <td>4</td>\n",
       "      <td>1</td>\n",
       "      <td>0</td>\n",
       "      <td>0</td>\n",
       "      <td>91</td>\n",
       "      <td>25</td>\n",
       "      <td>0</td>\n",
       "    </tr>\n",
       "    <tr>\n",
       "      <th>82</th>\n",
       "      <td>1</td>\n",
       "      <td>0</td>\n",
       "      <td>32</td>\n",
       "      <td>12.00</td>\n",
       "      <td>9</td>\n",
       "      <td>1</td>\n",
       "      <td>0</td>\n",
       "      <td>0</td>\n",
       "      <td>43</td>\n",
       "      <td>50</td>\n",
       "      <td>0</td>\n",
       "    </tr>\n",
       "    <tr>\n",
       "      <th>83</th>\n",
       "      <td>0</td>\n",
       "      <td>1</td>\n",
       "      <td>23</td>\n",
       "      <td>6.75</td>\n",
       "      <td>6</td>\n",
       "      <td>1</td>\n",
       "      <td>0</td>\n",
       "      <td>0</td>\n",
       "      <td>19</td>\n",
       "      <td>2</td>\n",
       "      <td>1</td>\n",
       "    </tr>\n",
       "  </tbody>\n",
       "</table>\n",
       "<p>84 rows × 11 columns</p>\n",
       "</div>"
      ],
      "text/plain": [
       "    Sex_M  Sex_F  Age   Time  Nbr_Warts  Type_1  Type_2  Type_3  Area  \\\n",
       "0       1      0   22   2.25         14       0       0       1    51   \n",
       "1       1      0   16  10.50          2       1       0       0   100   \n",
       "2       1      0   27   4.50          9       0       0       1    80   \n",
       "3       1      0   20   8.00          6       1       0       0    45   \n",
       "4       1      0   15   5.00          3       0       0       1    84   \n",
       "..    ...    ...  ...    ...        ...     ...     ...     ...   ...   \n",
       "79      1      0   40   5.50          8       0       0       1    69   \n",
       "80      1      0   38   7.50          8       0       1       0    56   \n",
       "81      1      0   46  11.50          4       1       0       0    91   \n",
       "82      1      0   32  12.00          9       1       0       0    43   \n",
       "83      0      1   23   6.75          6       1       0       0    19   \n",
       "\n",
       "    Induration_diameter  Result  \n",
       "0                    50       1  \n",
       "1                    25       1  \n",
       "2                    30       1  \n",
       "3                     8       1  \n",
       "4                     7       1  \n",
       "..                  ...     ...  \n",
       "79                    5       1  \n",
       "80                   45       1  \n",
       "81                   25       0  \n",
       "82                   50       0  \n",
       "83                    2       1  \n",
       "\n",
       "[84 rows x 11 columns]"
      ]
     },
     "execution_count": 25,
     "metadata": {},
     "output_type": "execute_result"
    }
   ],
   "source": [
    "#Suppression of the outliers from the dataframe\n",
    "df = df.drop(labels=[1,18,31,37,61,78], axis=0)\n",
    "df.index = np.arange(0, len(df))\n",
    "df"
   ]
  },
  {
   "cell_type": "code",
   "execution_count": null,
   "metadata": {},
   "outputs": [],
   "source": []
  },
  {
   "cell_type": "markdown",
   "metadata": {},
   "source": [
    "# I.4- Feature scaling\n"
   ]
  },
  {
   "cell_type": "code",
   "execution_count": 26,
   "metadata": {},
   "outputs": [],
   "source": [
    "#To make all values of features between 0 and 1 we use MinMaxScaler\n",
    "from sklearn.preprocessing import MinMaxScaler \n",
    "S = MinMaxScaler()\n",
    "dfScale = S.fit_transform(df)\n",
    "dfScale = pd.DataFrame(dfScale)\n",
    "dfScale.columns = df.columns\n",
    "dfScale = dfScale.astype(\n",
    "                {\"Sex_M\": int, \"Sex_F\": int, \"Type_1\": int, \"Type_2\": int, \"Type_3\": int, \"Result\" : int}\n",
    "                )\n",
    "df = dfScale"
   ]
  },
  {
   "cell_type": "code",
   "execution_count": 27,
   "metadata": {},
   "outputs": [
    {
     "data": {
      "text/html": [
       "<div>\n",
       "<style scoped>\n",
       "    .dataframe tbody tr th:only-of-type {\n",
       "        vertical-align: middle;\n",
       "    }\n",
       "\n",
       "    .dataframe tbody tr th {\n",
       "        vertical-align: top;\n",
       "    }\n",
       "\n",
       "    .dataframe thead th {\n",
       "        text-align: right;\n",
       "    }\n",
       "</style>\n",
       "<table border=\"1\" class=\"dataframe\">\n",
       "  <thead>\n",
       "    <tr style=\"text-align: right;\">\n",
       "      <th></th>\n",
       "      <th>Sex_M</th>\n",
       "      <th>Sex_F</th>\n",
       "      <th>Age</th>\n",
       "      <th>Time</th>\n",
       "      <th>Nbr_Warts</th>\n",
       "      <th>Type_1</th>\n",
       "      <th>Type_2</th>\n",
       "      <th>Type_3</th>\n",
       "      <th>Area</th>\n",
       "      <th>Induration_diameter</th>\n",
       "      <th>Result</th>\n",
       "    </tr>\n",
       "  </thead>\n",
       "  <tbody>\n",
       "    <tr>\n",
       "      <th>0</th>\n",
       "      <td>1</td>\n",
       "      <td>0</td>\n",
       "      <td>0.170732</td>\n",
       "      <td>0.113636</td>\n",
       "      <td>0.764706</td>\n",
       "      <td>0</td>\n",
       "      <td>0</td>\n",
       "      <td>1</td>\n",
       "      <td>0.090726</td>\n",
       "      <td>1.000000</td>\n",
       "      <td>1</td>\n",
       "    </tr>\n",
       "    <tr>\n",
       "      <th>1</th>\n",
       "      <td>1</td>\n",
       "      <td>0</td>\n",
       "      <td>0.024390</td>\n",
       "      <td>0.863636</td>\n",
       "      <td>0.058824</td>\n",
       "      <td>1</td>\n",
       "      <td>0</td>\n",
       "      <td>0</td>\n",
       "      <td>0.189516</td>\n",
       "      <td>0.479167</td>\n",
       "      <td>1</td>\n",
       "    </tr>\n",
       "    <tr>\n",
       "      <th>2</th>\n",
       "      <td>1</td>\n",
       "      <td>0</td>\n",
       "      <td>0.292683</td>\n",
       "      <td>0.318182</td>\n",
       "      <td>0.470588</td>\n",
       "      <td>0</td>\n",
       "      <td>0</td>\n",
       "      <td>1</td>\n",
       "      <td>0.149194</td>\n",
       "      <td>0.583333</td>\n",
       "      <td>1</td>\n",
       "    </tr>\n",
       "    <tr>\n",
       "      <th>3</th>\n",
       "      <td>1</td>\n",
       "      <td>0</td>\n",
       "      <td>0.121951</td>\n",
       "      <td>0.636364</td>\n",
       "      <td>0.294118</td>\n",
       "      <td>1</td>\n",
       "      <td>0</td>\n",
       "      <td>0</td>\n",
       "      <td>0.078629</td>\n",
       "      <td>0.125000</td>\n",
       "      <td>1</td>\n",
       "    </tr>\n",
       "    <tr>\n",
       "      <th>4</th>\n",
       "      <td>1</td>\n",
       "      <td>0</td>\n",
       "      <td>0.000000</td>\n",
       "      <td>0.363636</td>\n",
       "      <td>0.117647</td>\n",
       "      <td>0</td>\n",
       "      <td>0</td>\n",
       "      <td>1</td>\n",
       "      <td>0.157258</td>\n",
       "      <td>0.104167</td>\n",
       "      <td>1</td>\n",
       "    </tr>\n",
       "    <tr>\n",
       "      <th>...</th>\n",
       "      <td>...</td>\n",
       "      <td>...</td>\n",
       "      <td>...</td>\n",
       "      <td>...</td>\n",
       "      <td>...</td>\n",
       "      <td>...</td>\n",
       "      <td>...</td>\n",
       "      <td>...</td>\n",
       "      <td>...</td>\n",
       "      <td>...</td>\n",
       "      <td>...</td>\n",
       "    </tr>\n",
       "    <tr>\n",
       "      <th>79</th>\n",
       "      <td>1</td>\n",
       "      <td>0</td>\n",
       "      <td>0.609756</td>\n",
       "      <td>0.409091</td>\n",
       "      <td>0.411765</td>\n",
       "      <td>0</td>\n",
       "      <td>0</td>\n",
       "      <td>1</td>\n",
       "      <td>0.127016</td>\n",
       "      <td>0.062500</td>\n",
       "      <td>1</td>\n",
       "    </tr>\n",
       "    <tr>\n",
       "      <th>80</th>\n",
       "      <td>1</td>\n",
       "      <td>0</td>\n",
       "      <td>0.560976</td>\n",
       "      <td>0.590909</td>\n",
       "      <td>0.411765</td>\n",
       "      <td>0</td>\n",
       "      <td>1</td>\n",
       "      <td>0</td>\n",
       "      <td>0.100806</td>\n",
       "      <td>0.895833</td>\n",
       "      <td>1</td>\n",
       "    </tr>\n",
       "    <tr>\n",
       "      <th>81</th>\n",
       "      <td>1</td>\n",
       "      <td>0</td>\n",
       "      <td>0.756098</td>\n",
       "      <td>0.954545</td>\n",
       "      <td>0.176471</td>\n",
       "      <td>1</td>\n",
       "      <td>0</td>\n",
       "      <td>0</td>\n",
       "      <td>0.171371</td>\n",
       "      <td>0.479167</td>\n",
       "      <td>0</td>\n",
       "    </tr>\n",
       "    <tr>\n",
       "      <th>82</th>\n",
       "      <td>1</td>\n",
       "      <td>0</td>\n",
       "      <td>0.414634</td>\n",
       "      <td>1.000000</td>\n",
       "      <td>0.470588</td>\n",
       "      <td>1</td>\n",
       "      <td>0</td>\n",
       "      <td>0</td>\n",
       "      <td>0.074597</td>\n",
       "      <td>1.000000</td>\n",
       "      <td>0</td>\n",
       "    </tr>\n",
       "    <tr>\n",
       "      <th>83</th>\n",
       "      <td>0</td>\n",
       "      <td>1</td>\n",
       "      <td>0.195122</td>\n",
       "      <td>0.522727</td>\n",
       "      <td>0.294118</td>\n",
       "      <td>1</td>\n",
       "      <td>0</td>\n",
       "      <td>0</td>\n",
       "      <td>0.026210</td>\n",
       "      <td>0.000000</td>\n",
       "      <td>1</td>\n",
       "    </tr>\n",
       "  </tbody>\n",
       "</table>\n",
       "<p>84 rows × 11 columns</p>\n",
       "</div>"
      ],
      "text/plain": [
       "    Sex_M  Sex_F       Age      Time  Nbr_Warts  Type_1  Type_2  Type_3  \\\n",
       "0       1      0  0.170732  0.113636   0.764706       0       0       1   \n",
       "1       1      0  0.024390  0.863636   0.058824       1       0       0   \n",
       "2       1      0  0.292683  0.318182   0.470588       0       0       1   \n",
       "3       1      0  0.121951  0.636364   0.294118       1       0       0   \n",
       "4       1      0  0.000000  0.363636   0.117647       0       0       1   \n",
       "..    ...    ...       ...       ...        ...     ...     ...     ...   \n",
       "79      1      0  0.609756  0.409091   0.411765       0       0       1   \n",
       "80      1      0  0.560976  0.590909   0.411765       0       1       0   \n",
       "81      1      0  0.756098  0.954545   0.176471       1       0       0   \n",
       "82      1      0  0.414634  1.000000   0.470588       1       0       0   \n",
       "83      0      1  0.195122  0.522727   0.294118       1       0       0   \n",
       "\n",
       "        Area  Induration_diameter  Result  \n",
       "0   0.090726             1.000000       1  \n",
       "1   0.189516             0.479167       1  \n",
       "2   0.149194             0.583333       1  \n",
       "3   0.078629             0.125000       1  \n",
       "4   0.157258             0.104167       1  \n",
       "..       ...                  ...     ...  \n",
       "79  0.127016             0.062500       1  \n",
       "80  0.100806             0.895833       1  \n",
       "81  0.171371             0.479167       0  \n",
       "82  0.074597             1.000000       0  \n",
       "83  0.026210             0.000000       1  \n",
       "\n",
       "[84 rows x 11 columns]"
      ]
     },
     "execution_count": 27,
     "metadata": {},
     "output_type": "execute_result"
    }
   ],
   "source": [
    "df"
   ]
  },
  {
   "cell_type": "code",
   "execution_count": null,
   "metadata": {},
   "outputs": [],
   "source": []
  },
  {
   "cell_type": "markdown",
   "metadata": {},
   "source": [
    "# II- Gradient Descent"
   ]
  },
  {
   "cell_type": "code",
   "execution_count": 203,
   "metadata": {},
   "outputs": [],
   "source": [
    "#def of the input and output\n",
    "x = df.iloc[:,:-1].values\n",
    "y = df.iloc[:,-1].values\n",
    "\n",
    "#spliting the dataset into training part, validation part and test part\n",
    "from sklearn.model_selection import train_test_split\n",
    "\n",
    "X_train, X_rest, Y_train, Y_rest = train_test_split(x,y,test_size=0.2,random_state=0)\n",
    "\n",
    "X_valid, X_test, Y_valid, Y_test = train_test_split(X_rest,Y_rest,test_size=0.5,random_state=0)"
   ]
  },
  {
   "cell_type": "code",
   "execution_count": 204,
   "metadata": {},
   "outputs": [
    {
     "name": "stdout",
     "output_type": "stream",
     "text": [
      "(67, 10)\n",
      "(8, 10)\n",
      "(9, 10)\n"
     ]
    }
   ],
   "source": [
    "print(X_train.shape)\n",
    "print(X_valid.shape)\n",
    "print(X_test.shape)"
   ]
  },
  {
   "cell_type": "code",
   "execution_count": 205,
   "metadata": {},
   "outputs": [],
   "source": [
    "#reshaping\n",
    "X_train = X_train.T\n",
    "Y_train = Y_train.reshape(1, X_train.shape[1])\n",
    "\n",
    "X_test = X_test.T\n",
    "Y_test = Y_test.reshape(1, X_test.shape[1])"
   ]
  },
  {
   "cell_type": "code",
   "execution_count": 206,
   "metadata": {},
   "outputs": [],
   "source": [
    "#def of the sigmoid function\n",
    "def sigmoid(x):\n",
    "    return 1/(1 + np.exp(-x))"
   ]
  },
  {
   "cell_type": "code",
   "execution_count": 207,
   "metadata": {},
   "outputs": [],
   "source": [
    "#def of the hypothesis\n",
    "def lr_hypothesis(x, theta):\n",
    "    return np.dot(theta.T, x)"
   ]
  },
  {
   "cell_type": "code",
   "execution_count": 208,
   "metadata": {},
   "outputs": [],
   "source": [
    "#def of the cost function\n",
    "def compute_cost(Y, A):\n",
    "    m = X_train.shape[1]\n",
    "    cost = -(1/m)*np.sum(Y*np.log(A) + (1-Y)*np.log(1-A))\n",
    "    return cost"
   ]
  },
  {
   "cell_type": "code",
   "execution_count": 209,
   "metadata": {},
   "outputs": [],
   "source": [
    "#perform Gradient Descent\n",
    "def gradientDescent(X, Y, alpha, iterations):\n",
    "    \n",
    "    CostVect = []\n",
    "    m = X_train.shape[1]\n",
    "    n = X_train.shape[0]\n",
    "    \n",
    "    theta = np.zeros((n,1))\n",
    "    B = 0\n",
    "    \n",
    "    for i in range(iterations):\n",
    "        \n",
    "        Z = lr_hypothesis(X, theta) + B\n",
    "        A = sigmoid(Z)\n",
    "        \n",
    "        cost = compute_cost(Y, A)\n",
    "        \n",
    "        dW = (1/m)*np.dot(A-Y, X.T)\n",
    "        dB =  (1/m)*np.sum(A-Y)\n",
    "        \n",
    "        theta = theta - alpha*dW.T\n",
    "        B = B - alpha*dB\n",
    "        \n",
    "        CostVect.append(cost)\n",
    "        \n",
    "        if(i%(iterations/10) == 0):\n",
    "            print(\"cost after \", i, \"iterations is : \", cost)\n",
    "            \n",
    "    print(\"Value of cost at the end of the Gradient Descent : \",cost)\n",
    "    \n",
    "    return theta, B, CostVect"
   ]
  },
  {
   "cell_type": "markdown",
   "metadata": {},
   "source": [
    "Test of different values of theta and obtained results :"
   ]
  },
  {
   "cell_type": "code",
   "execution_count": 210,
   "metadata": {},
   "outputs": [],
   "source": [
    "iterations = 200\n",
    "alpha = 0.6\n",
    "\n",
    "#cost = 0.5417328938326874        when alpha = 0.05\n",
    "#cost = 0.5285871335280208        when alpha = 0.1\n",
    "#cost = 0.5039761442833408        when alpha = 0.3\n",
    "#cost = 0.4899756627599029        when alpha = 0.6\n",
    "\n",
    "#cost = 0.520016930268673         with iterations = 50\n",
    "#cost = 0.5040530028527112        with iterations = 100\n",
    "#cost = 0.4953224633557965        with iterations = 150\n",
    "#cost = 0.4899756627599029        with iterations = 200\n",
    "\n",
    "#if we go further than alpha = 0.6, we will no longer see a big decrease in the final value of the cost\n",
    "\n",
    "#exp :\n",
    "        #alpha = 0.7  ==>  cost :  0.48752745425146\n",
    "        #alpha = 0.8  ==>  cost :  0.4856695528697228\n",
    "        #alpha = 0.9  ==>  cost :  0.4842427245418754"
   ]
  },
  {
   "cell_type": "code",
   "execution_count": 211,
   "metadata": {},
   "outputs": [
    {
     "name": "stdout",
     "output_type": "stream",
     "text": [
      "cost after  0 iterations is :  0.6931471805599454\n",
      "cost after  20 iterations is :  0.5383401636142672\n",
      "cost after  40 iterations is :  0.5244854747404475\n",
      "cost after  60 iterations is :  0.5154489246310349\n",
      "cost after  80 iterations is :  0.5088786814234666\n",
      "cost after  100 iterations is :  0.503828189813101\n",
      "cost after  120 iterations is :  0.49982200560531\n",
      "cost after  140 iterations is :  0.49658152821554824\n",
      "cost after  160 iterations is :  0.4939252372797384\n",
      "cost after  180 iterations is :  0.4917261988529806\n",
      "Value of cost at the end of the Gradient Descent :  0.4899756627599029\n"
     ]
    }
   ],
   "source": [
    "#here we can see the decrease of the value of the cost and the last value of the cost at the end of the Gradient Descent\n",
    "theta, B, CostVect = gradientDescent(X_train, Y_train, alpha, iterations)"
   ]
  },
  {
   "cell_type": "code",
   "execution_count": 212,
   "metadata": {},
   "outputs": [
    {
     "data": {
      "image/png": "[encoded data removed]",
      "text/plain": [
       "<Figure size 432x288 with 1 Axes>"
      ]
     },
     "metadata": {
      "needs_background": "light"
     },
     "output_type": "display_data"
    }
   ],
   "source": [
    "%matplotlib inline\n",
    "\n",
    "t= np.arange(0,iterations,1)\n",
    "plt.plot(t,CostVect, label = \"Cost Function\")\n",
    "\n",
    "plt.xlabel('Iterations')\n",
    "plt.ylabel('Cost')\n",
    "plt.title('Cost Function :')\n",
    "plt.legend()\n",
    "\n",
    "plt.show()"
   ]
  },
  {
   "cell_type": "code",
   "execution_count": 213,
   "metadata": {},
   "outputs": [],
   "source": [
    "#def of the accuracy functuion to mesure the accuracy of our model\n",
    "def accuracy(X, Y, theta, B):\n",
    "    Z = lr_hypothesis(X, theta) + B\n",
    "    A = sigmoid(Z)\n",
    "    \n",
    "    A = A > 0.5\n",
    "    \n",
    "    A = np.array(A, dtype = 'int64')\n",
    "    \n",
    "    acc = (1 - np.sum(np.absolute(A - Y))/Y.shape[1])*100\n",
    "    \n",
    "    print(\"Accuracy of the model is : \",acc, \"%\")"
   ]
  },
  {
   "cell_type": "code",
   "execution_count": 214,
   "metadata": {},
   "outputs": [
    {
     "name": "stdout",
     "output_type": "stream",
     "text": [
      "Accuracy of the model is :  77.77777777777779 %\n"
     ]
    }
   ],
   "source": [
    "accuracy(X_test, Y_test, theta, B)"
   ]
  },
  {
   "cell_type": "markdown",
   "metadata": {},
   "source": [
    "### Verification of the result :"
   ]
  },
  {
   "cell_type": "markdown",
   "metadata": {},
   "source": [
    "We can now compare the result we got (accuracy) with the result given by the functions provided by 'sklearn'."
   ]
  },
  {
   "cell_type": "code",
   "execution_count": 215,
   "metadata": {},
   "outputs": [
    {
     "data": {
      "text/plain": [
       "0.7777777777777778"
      ]
     },
     "execution_count": 215,
     "metadata": {},
     "output_type": "execute_result"
    }
   ],
   "source": [
    "y = df['Result']\n",
    "x=df.drop('Result', axis=1)\n",
    "\n",
    "from sklearn.model_selection import train_test_split\n",
    "X_train, X_rest, Y_train, Y_rest = train_test_split(x,y,test_size=0.2,random_state=0)\n",
    "\n",
    "X_valid, X_test, Y_valid, Y_test = train_test_split(X_rest,Y_rest,test_size=0.5,random_state=0)\n",
    "\n",
    "from sklearn.linear_model import LogisticRegression\n",
    "logmodel = LogisticRegression()\n",
    "logmodel.fit(X_train,Y_train)\n",
    "prediction = logmodel.predict(X_test)\n",
    "\n",
    "from sklearn.metrics import accuracy_score\n",
    "accuracy_score(Y_test,prediction)\n",
    "\n",
    "#we can see that the accuracy is the same :"
   ]
  },
  {
   "cell_type": "code",
   "execution_count": null,
   "metadata": {},
   "outputs": [],
   "source": []
  },
  {
   "cell_type": "markdown",
   "metadata": {},
   "source": [
    "# III- Neural Network"
   ]
  },
  {
   "cell_type": "code",
   "execution_count": 206,
   "metadata": {},
   "outputs": [],
   "source": [
    "y = df['Result']\n",
    "\n",
    "X_DataFrame = df[['Sex_M', 'Sex_F', 'Age', 'Time', 'Nbr_Warts', 'Type_1',\n",
    "       'Type_2', 'Type_3', 'Area', 'Induration_diameter']]\n",
    "\n",
    "X = X_DataFrame.to_numpy()"
   ]
  },
  {
   "cell_type": "markdown",
   "metadata": {},
   "source": [
    "# Split the Dataset into Train and Test sets"
   ]
  },
  {
   "cell_type": "code",
   "execution_count": 207,
   "metadata": {},
   "outputs": [
    {
     "name": "stdout",
     "output_type": "stream",
     "text": [
      " Train X =  (67, 10) \n",
      " Train y =  (67,)\n",
      " Test X =  (17, 10) \n",
      " Test Y =  (17,)\n"
     ]
    }
   ],
   "source": [
    "from sklearn.model_selection import train_test_split \n",
    "\n",
    "X_train, X_test, y_train, y_test = train_test_split(X, y, test_size = 0.2, random_state = 0)\n",
    "\n",
    "print (\" Train X = \", X_train.shape, \"\\n Train y = \", y_train.shape)\n",
    "\n",
    "print (\" Test X = \", X_test.shape, \"\\n Test Y = \", y_test.shape)"
   ]
  },
  {
   "cell_type": "markdown",
   "metadata": {},
   "source": [
    "# Testing hyperparameters for the classifier"
   ]
  },
  {
   "cell_type": "code",
   "execution_count": 208,
   "metadata": {},
   "outputs": [
    {
     "name": "stdout",
     "output_type": "stream",
     "text": [
      "The accuracy of the Multi-layer Perceptron is : 0.8823529411764706 for 3 layers, 2 neurons, 0.6 alpha, lbfgs solver.\n",
      "The accuracy of the Multi-layer Perceptron is : 0.8823529411764706 for 3 layers, 8 neurons, 0.6 alpha, lbfgs solver.\n"
     ]
    }
   ],
   "source": [
    "from sklearn.neural_network import MLPClassifier\n",
    "from sklearn import metrics\n",
    "\n",
    "for i in range(1, 4):\n",
    "    for j in range(1, 10):\n",
    "        for k in ['adam', 'sgd', 'lbfgs']:\n",
    "            clf = MLPClassifier(solver = k,  alpha = 0.6, hidden_layer_sizes=(i, j), random_state = 1, max_iter = 2500)\n",
    "            clf.fit(X_train, y_train)\n",
    "            y_pred = clf.predict(X_test)\n",
    "            if (metrics.accuracy_score(y_pred,y_test) >= 0.85):\n",
    "                print('The accuracy of the Multi-layer Perceptron is : {} for {} layers, {} neurons, {} alpha, {} solver.'.format(metrics.accuracy_score(y_pred,y_test), i, j, alpha, k))\n",
    "\n",
    "# alpha = 0.6 : accuracy = 88.23% / 3 layers and 9 neurons / lbfgs solver / same results for all 3 acivation function (relu, tanh and logistic). \n",
    "# In a couple first executions, we noticed that the activation function does not affect the final accuracy, we are letting the default value (ReLu) for the rest of the executions\n",
    "\n",
    "# alpha = 0.01 \n",
    "# The accuracy of the Multi-layer Perceptron is :0.8823529411764706 for 2 layers, 7 neurons, 0.01 alpha, adam solver.\n",
    "# The accuracy of the Multi-layer Perceptron is :0.8823529411764706 for 2 layers, 9 neurons, 0.01 alpha, adam solver.\n",
    "# The accuracy of the Multi-layer Perceptron is :0.8823529411764706 for 3 layers, 4 neurons, 0.01 alpha, lbfgs solver.\n",
    "# The accuracy of the Multi-layer Perceptron is :0.8823529411764706 for 3 layers, 9 neurons, 0.01 alpha, lbfgs solver.\n",
    "# In further executions, we can notice that the \"sgd\" solver does not give optimal results with certain alpha values, we must keep testing all solvers\n",
    "\n",
    "\n",
    "# We notice that we can reach a maximum accuracy value of 88.23% with this same set of for loops no matter the value of alpha that we are testing manually (0.001, 0.1, 0.8, 1 etc.)\n",
    "\n",
    "# Further tests will help to widen the set of possible alphas by implementing another loop tests over 100 possible alpha values, to find better and more accurate results \n",
    "# We will try those alpha values on different solvers, but with the same Relu activation function, which gave the best results in this first case"
   ]
  },
  {
   "cell_type": "markdown",
   "metadata": {},
   "source": [
    "Testing a larger set of values for the parameters of the classifier, with the \"lbfgs\" solver only (other solvers did not gave interesting results)"
   ]
  },
  {
   "cell_type": "code",
   "execution_count": 209,
   "metadata": {
    "scrolled": true
   },
   "outputs": [],
   "source": [
    "# Using the exact same setup of loops but with larger parameters\n",
    "\n",
    "# for i in range(1, 10):\n",
    "#     for j in range(1, 50):\n",
    "#         for l in np.linspace(0.0001, 0.05, 300):\n",
    "#             rest of intructions...\n",
    "\n",
    "\n",
    "# After several tests, we managed to find different sets of parameters for this solver to maximize the accuracy\n",
    "\n",
    "# Examples :\n",
    "# 0.9411764705882353 accuracy for 1 layers, 2 neurons, 0.04697575757575758 alpha\n",
    "# 0.9411764705882353 for 3 layers, 23 neurons, 0.0001 alpha\n",
    "# 1.0 for 1 layers, 46 neurons, 0.03247658862876254 alpha"
   ]
  },
  {
   "cell_type": "code",
   "execution_count": 210,
   "metadata": {},
   "outputs": [],
   "source": [
    "# We managed to find the optimal combination of parameters for this model, which gives an accuracy of 100%\n",
    "\n",
    "# Alpha = 0.03247658862876254\n",
    "# Hidden layers = 1\n",
    "# Number of neurons = 46\n",
    "# Solver = lbfgs\n",
    "# Activation = ReLu (default)"
   ]
  },
  {
   "cell_type": "markdown",
   "metadata": {},
   "source": [
    "# Results"
   ]
  },
  {
   "cell_type": "code",
   "execution_count": 211,
   "metadata": {},
   "outputs": [
    {
     "name": "stdout",
     "output_type": "stream",
     "text": [
      "Accuracy results :\n",
      "Train set accuracy: 0.8805970149253731\n",
      "Test set accuracy: 0.9411764705882353\n"
     ]
    }
   ],
   "source": [
    "print('Accuracy results :')\n",
    "clf = MLPClassifier(solver='lbfgs',  alpha = 0.03247658862876254, hidden_layer_sizes=(1, 46), max_iter=1000, random_state = 1)\n",
    "clf.fit(X_train, y_train)\n",
    "y_pred = clf.predict(X_test)\n",
    "y_train_pred = clf.predict(X_train)           \n",
    "print('Train set accuracy: '+'{}'.format(metrics.accuracy_score(y_train, y_train_pred)))                \n",
    "print('Test set accuracy: '+'{}'.format(metrics.accuracy_score(y_test, y_pred)))"
   ]
  },
  {
   "cell_type": "code",
   "execution_count": 212,
   "metadata": {
    "scrolled": true
   },
   "outputs": [
    {
     "name": "stdout",
     "output_type": "stream",
     "text": [
      "Results on the test set:\n",
      "              precision    recall  f1-score   support\n",
      "\n",
      "           0       1.00      0.67      0.80         3\n",
      "           1       0.93      1.00      0.97        14\n",
      "\n",
      "    accuracy                           0.94        17\n",
      "   macro avg       0.97      0.83      0.88        17\n",
      "weighted avg       0.95      0.94      0.94        17\n",
      "\n"
     ]
    }
   ],
   "source": [
    "#Classification report on the obtained results\n",
    "\n",
    "from sklearn.metrics import classification_report\n",
    "\n",
    "print('Results on the test set:')\n",
    "print(classification_report(y_test, y_pred))"
   ]
  },
  {
   "cell_type": "code",
   "execution_count": 213,
   "metadata": {},
   "outputs": [
    {
     "data": {
      "image/png": "[encoded data removed]",
      "text/plain": [
       "<Figure size 432x288 with 1 Axes>"
      ]
     },
     "metadata": {
      "needs_background": "light"
     },
     "output_type": "display_data"
    }
   ],
   "source": [
    "plt.scatter(range(0, 17), y_test)\n",
    "plt.scatter(range(0, 17), y_pred, marker = \"^\", color = \"red\")\n",
    "plt.legend([\"Test\", \"Prediction\"])\n",
    "plt.xlabel(\"Instance number\")\n",
    "plt.ylabel(\"Target value\")\n",
    "plt.title(\"Predicted target - Test target\\n (accuracy = 100%)\");"
   ]
  },
  {
   "cell_type": "markdown",
   "metadata": {},
   "source": [
    "# Confusion Matrix"
   ]
  },
  {
   "cell_type": "code",
   "execution_count": 214,
   "metadata": {},
   "outputs": [
    {
     "data": {
      "image/png": "[encoded data removed]",
      "text/plain": [
       "<Figure size 360x360 with 2 Axes>"
      ]
     },
     "metadata": {
      "needs_background": "light"
     },
     "output_type": "display_data"
    }
   ],
   "source": [
    "from sklearn.metrics import confusion_matrix\n",
    "from sklearn.metrics import accuracy_score, precision_score, recall_score, f1_score\n",
    "\n",
    "confusion_mc = confusion_matrix(y_test, y_pred)\n",
    "\n",
    "df_cm = pd.DataFrame(confusion_mc, index = [i for i in range(0,2)], columns = [i for i in range(0,2)])\n",
    "\n",
    "plt.figure(figsize=(5, 5))\n",
    "\n",
    "sns.heatmap(df_cm, annot=True)\n",
    "\n",
    "plt.title('Neural Network Accuracy:\\n{0:.2f}'.format(accuracy_score(y_test, y_pred)))\n",
    "plt.ylabel('True label')\n",
    "plt.xlabel('Predicted label');"
   ]
  },
  {
   "cell_type": "markdown",
   "metadata": {},
   "source": [
    "# Trying to optimizing hyperparameters using GridSerachCV"
   ]
  },
  {
   "cell_type": "code",
   "execution_count": 215,
   "metadata": {},
   "outputs": [],
   "source": [
    "# We try to optimize the classifier paramaters using GridsearchCV algorithm\n",
    "# It does the process of performing hyperparameter tuning in order to determine the optimal values for a given model (mlp in this case)\n",
    "# we pass predefined values for hyperparameters to the GridSearchCV function by defining a dictionary in which we mention a particular hyperparameter along with the values it can take\n",
    "\n",
    "hidden_lays = []\n",
    "for i in range(1, 2):\n",
    "    for j in range(1, 5):\n",
    "        hidden_lays = hidden_lays + [(i, j)]\n",
    "\n",
    "parameter_space = {\n",
    "    'hidden_layer_sizes': hidden_lays,\n",
    "    'activation': ['relu'],\n",
    "    'solver': ['lbfgs'],\n",
    "    'alpha': np.linspace(0.001, 0.05, 50),\n",
    "    'learning_rate': ['constant','adaptive'],\n",
    "}"
   ]
  },
  {
   "cell_type": "code",
   "execution_count": 216,
   "metadata": {},
   "outputs": [
    {
     "data": {
      "text/plain": [
       "GridSearchCV(cv=5, estimator=MLPClassifier(max_iter=100, random_state=1),\n",
       "             n_jobs=-1,\n",
       "             param_grid={'activation': ['relu'],\n",
       "                         'alpha': array([0.001, 0.002, 0.003, 0.004, 0.005, 0.006, 0.007, 0.008, 0.009,\n",
       "       0.01 , 0.011, 0.012, 0.013, 0.014, 0.015, 0.016, 0.017, 0.018,\n",
       "       0.019, 0.02 , 0.021, 0.022, 0.023, 0.024, 0.025, 0.026, 0.027,\n",
       "       0.028, 0.029, 0.03 , 0.031, 0.032, 0.033, 0.034, 0.035, 0.036,\n",
       "       0.037, 0.038, 0.039, 0.04 , 0.041, 0.042, 0.043, 0.044, 0.045,\n",
       "       0.046, 0.047, 0.048, 0.049, 0.05 ]),\n",
       "                         'hidden_layer_sizes': [(1, 1), (1, 2), (1, 3), (1, 4)],\n",
       "                         'learning_rate': ['constant', 'adaptive'],\n",
       "                         'solver': ['lbfgs']})"
      ]
     },
     "execution_count": 216,
     "metadata": {},
     "output_type": "execute_result"
    }
   ],
   "source": [
    "#Initializing the GridsearchCV\n",
    "\n",
    "from sklearn.model_selection import GridSearchCV\n",
    "\n",
    "mlp_grid = MLPClassifier(max_iter=(100), random_state = 1)\n",
    "\n",
    "clf_grid = GridSearchCV(mlp_grid, parameter_space, n_jobs=-1, cv=5)\n",
    "clf_grid.fit(X_train, y_train)\n",
    "\n",
    "# parameter_space : Dictionary or list of parameters of models or function in which GridSearchCV have to select the best.\n",
    "# cv : In this we have to pass a interger value, as it signifies the number of splits that is needed for cross validation. By default is set as five.\n",
    "# n_jobs : This signifies the number of jobs to be run in parallel, -1 signifies to use all processor."
   ]
  },
  {
   "cell_type": "code",
   "execution_count": 217,
   "metadata": {},
   "outputs": [],
   "source": [
    "# To report different results based on the set of parameters \n",
    "\n",
    "# means = clf_grid.cv_results_['mean_test_score']\n",
    "# stds = clf_grid.cv_results_['std_test_score']\n",
    "# for mean, std, params in zip(means, stds, clf_grid.cv_results_['params']):\n",
    "#     print(\"%0.3f (+/-%0.03f) for %r\" % (mean, std * 2, params))"
   ]
  },
  {
   "cell_type": "code",
   "execution_count": 218,
   "metadata": {},
   "outputs": [
    {
     "name": "stdout",
     "output_type": "stream",
     "text": [
      "Best parameters found:\n",
      " {'activation': 'relu', 'alpha': 0.021, 'hidden_layer_sizes': (1, 2), 'learning_rate': 'constant', 'solver': 'lbfgs'}\n"
     ]
    }
   ],
   "source": [
    "# To get the best parameters it could find\n",
    "\n",
    "print('Best parameters found:\\n', clf_grid.best_params_)"
   ]
  },
  {
   "cell_type": "code",
   "execution_count": 219,
   "metadata": {},
   "outputs": [
    {
     "data": {
      "text/plain": [
       "0.8235294117647058"
      ]
     },
     "execution_count": 219,
     "metadata": {},
     "output_type": "execute_result"
    }
   ],
   "source": [
    "# To test the accuracy of the best parameters\n",
    "\n",
    "clf_grid = MLPClassifier(solver='lbfgs', activation = 'relu', alpha = 0.021, hidden_layer_sizes=(1, 2), learning_rate = 'constant', max_iter=3000, random_state=1)\n",
    "clf_grid.fit(X_train, y_train)\n",
    "y_pred_grid = clf_grid.predict(X_test)\n",
    "\n",
    "metrics.accuracy_score(y_pred_grid,y_test)"
   ]
  },
  {
   "cell_type": "code",
   "execution_count": 220,
   "metadata": {},
   "outputs": [
    {
     "name": "stdout",
     "output_type": "stream",
     "text": [
      "Accuracy results :\n",
      "Train set accuracy: 0.7611940298507462\n",
      "Test set accuracy: 0.8235294117647058\n"
     ]
    }
   ],
   "source": [
    "print('Accuracy results :')\n",
    "clf_grid = MLPClassifier(solver='lbfgs',  alpha = 0.01683838383838384, hidden_layer_sizes=(1, 2), max_iter=1000, random_state = 1)\n",
    "clf_grid.fit(X_train, y_train)\n",
    "y_pred_grid = clf_grid.predict(X_test)\n",
    "y_train_pred_grid = clf_grid.predict(X_train)           \n",
    "print('Train set accuracy: '+'{}'.format(metrics.accuracy_score(y_train, y_train_pred_grid)))                \n",
    "print('Test set accuracy: '+'{}'.format(metrics.accuracy_score(y_test, y_pred_grid)))"
   ]
  },
  {
   "cell_type": "code",
   "execution_count": 221,
   "metadata": {},
   "outputs": [
    {
     "name": "stdout",
     "output_type": "stream",
     "text": [
      "Results on the test set:\n",
      "              precision    recall  f1-score   support\n",
      "\n",
      "           0       0.00      0.00      0.00         3\n",
      "           1       0.82      1.00      0.90        14\n",
      "\n",
      "    accuracy                           0.82        17\n",
      "   macro avg       0.41      0.50      0.45        17\n",
      "weighted avg       0.68      0.82      0.74        17\n",
      "\n"
     ]
    },
    {
     "name": "stderr",
     "output_type": "stream",
     "text": [
      "C:\\ProgramData\\Anaconda3\\lib\\site-packages\\sklearn\\metrics\\_classification.py:1221: UndefinedMetricWarning: Precision and F-score are ill-defined and being set to 0.0 in labels with no predicted samples. Use `zero_division` parameter to control this behavior.\n",
      "  _warn_prf(average, modifier, msg_start, len(result))\n"
     ]
    }
   ],
   "source": [
    "from sklearn.metrics import classification_report\n",
    "\n",
    "print('Results on the test set:')\n",
    "print(classification_report(y_test, y_pred_grid, labels=np.unique(y_pred)))"
   ]
  },
  {
   "cell_type": "code",
   "execution_count": 222,
   "metadata": {},
   "outputs": [],
   "source": [
    "# We notice that using GridSearchCV to find the best parameters for the classifier is not the optimal way to do it, doing it with for loops seems to be better\n",
    "\n",
    "# This limitation is due to the fact that the search can only test the parameters that we fed into, and giving a large set of values in each parameter can be really time-consuming for the search"
   ]
  },
  {
   "cell_type": "code",
   "execution_count": null,
   "metadata": {},
   "outputs": [],
   "source": []
  },
  {
   "cell_type": "markdown",
   "metadata": {},
   "source": [
    "# IV- Decision Trees"
   ]
  },
  {
   "cell_type": "code",
   "execution_count": 223,
   "metadata": {},
   "outputs": [
    {
     "data": {
      "text/html": [
       "<div>\n",
       "<style scoped>\n",
       "    .dataframe tbody tr th:only-of-type {\n",
       "        vertical-align: middle;\n",
       "    }\n",
       "\n",
       "    .dataframe tbody tr th {\n",
       "        vertical-align: top;\n",
       "    }\n",
       "\n",
       "    .dataframe thead th {\n",
       "        text-align: right;\n",
       "    }\n",
       "</style>\n",
       "<table border=\"1\" class=\"dataframe\">\n",
       "  <thead>\n",
       "    <tr style=\"text-align: right;\">\n",
       "      <th></th>\n",
       "      <th>Sex_M</th>\n",
       "      <th>Sex_F</th>\n",
       "      <th>Age</th>\n",
       "      <th>Time</th>\n",
       "      <th>Nbr_Warts</th>\n",
       "      <th>Type_1</th>\n",
       "      <th>Type_2</th>\n",
       "      <th>Type_3</th>\n",
       "      <th>Area</th>\n",
       "      <th>Induration_diameter</th>\n",
       "    </tr>\n",
       "  </thead>\n",
       "  <tbody>\n",
       "    <tr>\n",
       "      <th>0</th>\n",
       "      <td>1</td>\n",
       "      <td>0</td>\n",
       "      <td>0.170732</td>\n",
       "      <td>0.113636</td>\n",
       "      <td>0.764706</td>\n",
       "      <td>0</td>\n",
       "      <td>0</td>\n",
       "      <td>1</td>\n",
       "      <td>0.090726</td>\n",
       "      <td>1.000000</td>\n",
       "    </tr>\n",
       "    <tr>\n",
       "      <th>1</th>\n",
       "      <td>1</td>\n",
       "      <td>0</td>\n",
       "      <td>0.024390</td>\n",
       "      <td>0.863636</td>\n",
       "      <td>0.058824</td>\n",
       "      <td>1</td>\n",
       "      <td>0</td>\n",
       "      <td>0</td>\n",
       "      <td>0.189516</td>\n",
       "      <td>0.479167</td>\n",
       "    </tr>\n",
       "    <tr>\n",
       "      <th>2</th>\n",
       "      <td>1</td>\n",
       "      <td>0</td>\n",
       "      <td>0.292683</td>\n",
       "      <td>0.318182</td>\n",
       "      <td>0.470588</td>\n",
       "      <td>0</td>\n",
       "      <td>0</td>\n",
       "      <td>1</td>\n",
       "      <td>0.149194</td>\n",
       "      <td>0.583333</td>\n",
       "    </tr>\n",
       "    <tr>\n",
       "      <th>3</th>\n",
       "      <td>1</td>\n",
       "      <td>0</td>\n",
       "      <td>0.121951</td>\n",
       "      <td>0.636364</td>\n",
       "      <td>0.294118</td>\n",
       "      <td>1</td>\n",
       "      <td>0</td>\n",
       "      <td>0</td>\n",
       "      <td>0.078629</td>\n",
       "      <td>0.125000</td>\n",
       "    </tr>\n",
       "    <tr>\n",
       "      <th>4</th>\n",
       "      <td>1</td>\n",
       "      <td>0</td>\n",
       "      <td>0.000000</td>\n",
       "      <td>0.363636</td>\n",
       "      <td>0.117647</td>\n",
       "      <td>0</td>\n",
       "      <td>0</td>\n",
       "      <td>1</td>\n",
       "      <td>0.157258</td>\n",
       "      <td>0.104167</td>\n",
       "    </tr>\n",
       "    <tr>\n",
       "      <th>...</th>\n",
       "      <td>...</td>\n",
       "      <td>...</td>\n",
       "      <td>...</td>\n",
       "      <td>...</td>\n",
       "      <td>...</td>\n",
       "      <td>...</td>\n",
       "      <td>...</td>\n",
       "      <td>...</td>\n",
       "      <td>...</td>\n",
       "      <td>...</td>\n",
       "    </tr>\n",
       "    <tr>\n",
       "      <th>79</th>\n",
       "      <td>1</td>\n",
       "      <td>0</td>\n",
       "      <td>0.609756</td>\n",
       "      <td>0.409091</td>\n",
       "      <td>0.411765</td>\n",
       "      <td>0</td>\n",
       "      <td>0</td>\n",
       "      <td>1</td>\n",
       "      <td>0.127016</td>\n",
       "      <td>0.062500</td>\n",
       "    </tr>\n",
       "    <tr>\n",
       "      <th>80</th>\n",
       "      <td>1</td>\n",
       "      <td>0</td>\n",
       "      <td>0.560976</td>\n",
       "      <td>0.590909</td>\n",
       "      <td>0.411765</td>\n",
       "      <td>0</td>\n",
       "      <td>1</td>\n",
       "      <td>0</td>\n",
       "      <td>0.100806</td>\n",
       "      <td>0.895833</td>\n",
       "    </tr>\n",
       "    <tr>\n",
       "      <th>81</th>\n",
       "      <td>1</td>\n",
       "      <td>0</td>\n",
       "      <td>0.756098</td>\n",
       "      <td>0.954545</td>\n",
       "      <td>0.176471</td>\n",
       "      <td>1</td>\n",
       "      <td>0</td>\n",
       "      <td>0</td>\n",
       "      <td>0.171371</td>\n",
       "      <td>0.479167</td>\n",
       "    </tr>\n",
       "    <tr>\n",
       "      <th>82</th>\n",
       "      <td>1</td>\n",
       "      <td>0</td>\n",
       "      <td>0.414634</td>\n",
       "      <td>1.000000</td>\n",
       "      <td>0.470588</td>\n",
       "      <td>1</td>\n",
       "      <td>0</td>\n",
       "      <td>0</td>\n",
       "      <td>0.074597</td>\n",
       "      <td>1.000000</td>\n",
       "    </tr>\n",
       "    <tr>\n",
       "      <th>83</th>\n",
       "      <td>0</td>\n",
       "      <td>1</td>\n",
       "      <td>0.195122</td>\n",
       "      <td>0.522727</td>\n",
       "      <td>0.294118</td>\n",
       "      <td>1</td>\n",
       "      <td>0</td>\n",
       "      <td>0</td>\n",
       "      <td>0.026210</td>\n",
       "      <td>0.000000</td>\n",
       "    </tr>\n",
       "  </tbody>\n",
       "</table>\n",
       "<p>84 rows × 10 columns</p>\n",
       "</div>"
      ],
      "text/plain": [
       "    Sex_M  Sex_F       Age      Time  Nbr_Warts  Type_1  Type_2  Type_3  \\\n",
       "0       1      0  0.170732  0.113636   0.764706       0       0       1   \n",
       "1       1      0  0.024390  0.863636   0.058824       1       0       0   \n",
       "2       1      0  0.292683  0.318182   0.470588       0       0       1   \n",
       "3       1      0  0.121951  0.636364   0.294118       1       0       0   \n",
       "4       1      0  0.000000  0.363636   0.117647       0       0       1   \n",
       "..    ...    ...       ...       ...        ...     ...     ...     ...   \n",
       "79      1      0  0.609756  0.409091   0.411765       0       0       1   \n",
       "80      1      0  0.560976  0.590909   0.411765       0       1       0   \n",
       "81      1      0  0.756098  0.954545   0.176471       1       0       0   \n",
       "82      1      0  0.414634  1.000000   0.470588       1       0       0   \n",
       "83      0      1  0.195122  0.522727   0.294118       1       0       0   \n",
       "\n",
       "        Area  Induration_diameter  \n",
       "0   0.090726             1.000000  \n",
       "1   0.189516             0.479167  \n",
       "2   0.149194             0.583333  \n",
       "3   0.078629             0.125000  \n",
       "4   0.157258             0.104167  \n",
       "..       ...                  ...  \n",
       "79  0.127016             0.062500  \n",
       "80  0.100806             0.895833  \n",
       "81  0.171371             0.479167  \n",
       "82  0.074597             1.000000  \n",
       "83  0.026210             0.000000  \n",
       "\n",
       "[84 rows x 10 columns]"
      ]
     },
     "execution_count": 223,
     "metadata": {},
     "output_type": "execute_result"
    }
   ],
   "source": [
    "feature_names=['Sex_M', 'Sex_F', 'Age', 'Time', 'Nbr_Warts', 'Type_1', 'Type_2','Type_3', 'Area',\n",
    "               'Induration_diameter']\n",
    "df[feature_names]"
   ]
  },
  {
   "cell_type": "code",
   "execution_count": 224,
   "metadata": {},
   "outputs": [],
   "source": [
    "# Training and Testing Data Sets\n",
    "\n",
    "from sklearn.model_selection import train_test_split \n",
    "X_train, X_test, y_train, y_test = train_test_split(df[feature_names],\n",
    "df['Result'], test_size=0.2, random_state=0) \n"
   ]
  },
  {
   "cell_type": "code",
   "execution_count": 225,
   "metadata": {},
   "outputs": [
    {
     "name": "stdout",
     "output_type": "stream",
     "text": [
      "X_train shape: (67, 10)\n",
      "y_train shape: (67,)\n",
      "X_test shape: (17, 10)\n",
      "y_test shape: (17,)\n"
     ]
    }
   ],
   "source": [
    "#Size of train and test sets\n",
    "print(\"X_train shape: {}\".format(X_train.shape)) \n",
    "print(\"y_train shape: {}\".format(y_train.shape))\n",
    "\n",
    "print(\"X_test shape: {}\".format(X_test.shape)) \n",
    "print(\"y_test shape: {}\".format(y_test.shape))"
   ]
  },
  {
   "cell_type": "code",
   "execution_count": 226,
   "metadata": {},
   "outputs": [],
   "source": [
    "# Build and train our Decision Tree\n",
    "\n",
    "from sklearn.tree import DecisionTreeClassifier # The DT Algorithm in sklearn\n",
    "from sklearn import tree\n",
    "\n",
    "D_Tree = DecisionTreeClassifier(max_depth = 6, random_state = 0) # Max depth is 6\n",
    "\n",
    "D_Tree.fit(X_train, y_train); # Build the tree using the training set"
   ]
  },
  {
   "cell_type": "code",
   "execution_count": 227,
   "metadata": {},
   "outputs": [
    {
     "name": "stdout",
     "output_type": "stream",
     "text": [
      "The Train Accuracy of the DT is: 100.00\n",
      "The Test Accuracy of the DT is: 94.12\n"
     ]
    }
   ],
   "source": [
    "#Accuracy of the train and test sets\n",
    "from sklearn import metrics\n",
    "\n",
    "prediction_Train = D_Tree.predict(X_train)\n",
    "print('The Train Accuracy of the DT is: %.2f' % (metrics.accuracy_score(prediction_Train,y_train) * 100))\n",
    "\n",
    "prediction_Test = D_Tree.predict(X_test)\n",
    "print('The Test Accuracy of the DT is: %.2f' % (metrics.accuracy_score(prediction_Test,y_test)* 100))\n"
   ]
  },
  {
   "cell_type": "code",
   "execution_count": 228,
   "metadata": {},
   "outputs": [
    {
     "name": "stdout",
     "output_type": "stream",
     "text": [
      "|--- Time <= 0.85\n",
      "|   |--- Type_2 <= 0.50\n",
      "|   |   |--- Age <= 0.45\n",
      "|   |   |   |--- class: 1\n",
      "|   |   |--- Age >  0.45\n",
      "|   |   |   |--- Age <= 0.48\n",
      "|   |   |   |   |--- class: 0\n",
      "|   |   |   |--- Age >  0.48\n",
      "|   |   |   |   |--- Area <= 0.06\n",
      "|   |   |   |   |   |--- Type_1 <= 0.50\n",
      "|   |   |   |   |   |   |--- class: 1\n",
      "|   |   |   |   |   |--- Type_1 >  0.50\n",
      "|   |   |   |   |   |   |--- class: 0\n",
      "|   |   |   |   |--- Area >  0.06\n",
      "|   |   |   |   |   |--- class: 1\n",
      "|   |--- Type_2 >  0.50\n",
      "|   |   |--- Time <= 0.33\n",
      "|   |   |   |--- class: 0\n",
      "|   |   |--- Time >  0.33\n",
      "|   |   |   |--- Area <= 0.13\n",
      "|   |   |   |   |--- class: 1\n",
      "|   |   |   |--- Area >  0.13\n",
      "|   |   |   |   |--- Time <= 0.73\n",
      "|   |   |   |   |   |--- class: 0\n",
      "|   |   |   |   |--- Time >  0.73\n",
      "|   |   |   |   |   |--- class: 1\n",
      "|--- Time >  0.85\n",
      "|   |--- Nbr_Warts <= 0.26\n",
      "|   |   |--- Age <= 0.30\n",
      "|   |   |   |--- class: 1\n",
      "|   |   |--- Age >  0.30\n",
      "|   |   |   |--- class: 0\n",
      "|   |--- Nbr_Warts >  0.26\n",
      "|   |   |--- class: 0\n",
      "\n"
     ]
    }
   ],
   "source": [
    "# Text representation of the decision tree\n",
    "from sklearn.tree import export_text\n",
    "text_representation = export_text(D_Tree,feature_names=feature_names)\n",
    "print(text_representation)"
   ]
  },
  {
   "cell_type": "code",
   "execution_count": null,
   "metadata": {},
   "outputs": [],
   "source": []
  },
  {
   "cell_type": "markdown",
   "metadata": {},
   "source": [
    "##  Feature importance in the Decision Tree :\n",
    "\n",
    "Feature importance rates how important each feature is for the decision a tree makes. \n"
   ]
  },
  {
   "cell_type": "code",
   "execution_count": 229,
   "metadata": {},
   "outputs": [
    {
     "name": "stdout",
     "output_type": "stream",
     "text": [
      "Feature importances:\n",
      "[0.         0.         0.20312393 0.54773699 0.06631787 0.04105392\n",
      " 0.05432777 0.         0.08743952 0.        ]\n"
     ]
    }
   ],
   "source": [
    "print(\"Feature importances:\\n{}\".format(D_Tree.feature_importances_))"
   ]
  },
  {
   "cell_type": "code",
   "execution_count": 230,
   "metadata": {},
   "outputs": [
    {
     "data": {
      "image/png": "[encoded data removed]",
      "text/plain": [
       "<Figure size 432x288 with 1 Axes>"
      ]
     },
     "metadata": {
      "needs_background": "light"
     },
     "output_type": "display_data"
    }
   ],
   "source": [
    "def plot_feature_importances(model):\n",
    "    n_features = 10\n",
    "    plt.barh([0,1,2,3,4,5,6,7,8,9], model.feature_importances_, align='center') \n",
    "    plt.yticks(np.arange(n_features), feature_names) \n",
    "    plt.xlabel(\"Feature importance\")\n",
    "    plt.ylabel(\"Feature\")\n",
    "    \n",
    "plot_feature_importances(D_Tree)"
   ]
  },
  {
   "cell_type": "code",
   "execution_count": 231,
   "metadata": {},
   "outputs": [
    {
     "data": {
      "image/png": "[encoded data removed]",
      "text/plain": [
       "<Figure size 432x288 with 1 Axes>"
      ]
     },
     "metadata": {
      "needs_background": "light"
     },
     "output_type": "display_data"
    }
   ],
   "source": [
    "#Scatter plot of the most important feature 'Time'\n",
    "df.plot(kind = 'scatter', x = 'Time', y = 'Result', color='blue');"
   ]
  },
  {
   "cell_type": "code",
   "execution_count": 232,
   "metadata": {},
   "outputs": [
    {
     "data": {
      "image/png": "[encoded data removed]",
      "text/plain": [
       "<Figure size 1800x1440 with 1 Axes>"
      ]
     },
     "metadata": {
      "needs_background": "light"
     },
     "output_type": "display_data"
    }
   ],
   "source": [
    "#Decision Tree Plot\n",
    "figure = plt.figure(figsize=(25,20))\n",
    "_ = tree.plot_tree(D_Tree, \n",
    "                   feature_names = feature_names,  \n",
    "                   class_names   = ['0','1'],\n",
    "                   filled = True,\n",
    "                   precision = 2)"
   ]
  },
  {
   "cell_type": "code",
   "execution_count": null,
   "metadata": {},
   "outputs": [],
   "source": []
  }
 ],
 "metadata": {
  "kernelspec": {
   "display_name": "Python 3 (ipykernel)",
   "language": "python",
   "name": "python3"
  },
  "language_info": {
   "codemirror_mode": {
    "name": "ipython",
    "version": 3
   },
   "file_extension": ".py",
   "mimetype": "text/x-python",
   "name": "python",
   "nbconvert_exporter": "python",
   "pygments_lexer": "ipython3",
   "version": "3.9.7"
  }
 },
 "nbformat": 4,
 "nbformat_minor": 4
}
